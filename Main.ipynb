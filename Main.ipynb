{
 "cells": [
  {
   "cell_type": "markdown",
   "metadata": {
    "nbpresent": {
     "id": "f2b0018a-b766-44a1-a42d-f83ab196bdef"
    },
    "slideshow": {
     "slide_type": "-"
    }
   },
   "source": [
    "Hello,\n",
    "\n",
    "This tutorial is focusing on understanding connection between grpc and sql(we are going to use sqlite for this tutorial).\n",
    "grpc can be implemented in various languages. we are using python for this tutorial.\n",
    "Details of grpc can be found at https://grpc.io\n",
    "\n",
    "Let's begin with installation of grpc packages. "
   ]
  },
  {
   "cell_type": "code",
   "execution_count": 1,
   "metadata": {
    "collapsed": false,
    "nbpresent": {
     "id": "43f1862d-803f-4415-b1f2-0a53d50a46d1"
    },
    "scrolled": true,
    "slideshow": {
     "slide_type": "-"
    }
   },
   "outputs": [
    {
     "name": "stdout",
     "output_type": "stream",
     "text": [
      "rm -rf .venv \r\n",
      "rm -rf generated\r\n",
      "rm -rf protos\r\n",
      "rm -rf src\r\n"
     ]
    }
   ],
   "source": [
    "!make clean"
   ]
  },
  {
   "cell_type": "code",
   "execution_count": 2,
   "metadata": {
    "collapsed": false,
    "nbpresent": {
     "id": "cd962324-9a89-4c4c-b607-b1e5fad482c4"
    },
    "slideshow": {
     "slide_type": "-"
    }
   },
   "outputs": [
    {
     "name": "stdout",
     "output_type": "stream",
     "text": [
      "New python executable in /home/dheerajbhadani/git/tmp/grpc-sqlite/.venv/bin/python2.7\n",
      "Also creating executable in /home/dheerajbhadani/git/tmp/grpc-sqlite/.venv/bin/python\n",
      "Installing setuptools, pip, wheel...done.\n"
     ]
    }
   ],
   "source": [
    "!python2.7 -m virtualenv .venv"
   ]
  },
  {
   "cell_type": "code",
   "execution_count": 3,
   "metadata": {
    "collapsed": false,
    "nbpresent": {
     "id": "02fb14bb-0c0f-49c2-a613-a83a8d1a86ed"
    },
    "slideshow": {
     "slide_type": "-"
    }
   },
   "outputs": [
    {
     "name": "stdout",
     "output_type": "stream",
     "text": [
      ".\r\n",
      "./generated\r\n",
      "./generated/__init__.py\r\n",
      "./grpc-dbsync.png\r\n",
      "./src\r\n",
      "./Makefile\r\n",
      "./README.md\r\n",
      "./protos\r\n",
      "./grpc-sqlite.png\r\n",
      "./resource\r\n",
      "./resource/employee.db\r\n",
      "./Main.ipynb\r\n",
      "./Client.ipynb\r\n",
      "./Server.ipynb\r\n",
      "./LICENSE\r\n"
     ]
    }
   ],
   "source": [
    "!mkdir protos generated src\n",
    "!touch generated/__init__.py\n",
    "!find . -not -path '*/\\.*'"
   ]
  },
  {
   "cell_type": "code",
   "execution_count": 4,
   "metadata": {
    "collapsed": false,
    "nbpresent": {
     "id": "61cf95aa-ab50-4e19-a4d3-ef2c6c6d8ac9"
    },
    "scrolled": false
   },
   "outputs": [
    {
     "name": "stdout",
     "output_type": "stream",
     "text": [
      "Collecting grpcio\n",
      "  Using cached https://files.pythonhosted.org/packages/3d/15/b34114198a2bc9c9bb73b21e2b559468a1a68bb28b373d21da6e51d6204f/grpcio-1.15.0-cp27-cp27mu-manylinux1_x86_64.whl\n",
      "Collecting grpcio-tools\n",
      "  Using cached https://files.pythonhosted.org/packages/4a/40/17b8e1c649ae9d7a56e5aeba88811ef9cecef1c35ab76899233413aeb955/grpcio_tools-1.15.0-cp27-cp27mu-manylinux1_x86_64.whl\n",
      "Collecting six>=1.5.2 (from grpcio)\n",
      "  Using cached https://files.pythonhosted.org/packages/67/4b/141a581104b1f6397bfa78ac9d43d8ad29a7ca43ea90a2d863fe3056e86a/six-1.11.0-py2.py3-none-any.whl\n",
      "Collecting enum34>=1.0.4 (from grpcio)\n",
      "  Using cached https://files.pythonhosted.org/packages/c5/db/e56e6b4bbac7c4a06de1c50de6fe1ef3810018ae11732a50f15f62c7d050/enum34-1.1.6-py2-none-any.whl\n",
      "Collecting futures>=2.2.0 (from grpcio)\n",
      "  Using cached https://files.pythonhosted.org/packages/2d/99/b2c4e9d5a30f6471e410a146232b4118e697fa3ffc06d6a65efde84debd0/futures-3.2.0-py2-none-any.whl\n",
      "Collecting protobuf>=3.5.0.post1 (from grpcio-tools)\n",
      "  Using cached https://files.pythonhosted.org/packages/b8/c2/b7f587c0aaf8bf2201405e8162323037fe8d17aa21d3c7dda811b8d01469/protobuf-3.6.1-cp27-cp27mu-manylinux1_x86_64.whl\n",
      "Requirement already satisfied: setuptools in ./.venv/lib/python2.7/site-packages (from protobuf>=3.5.0.post1->grpcio-tools) (40.4.3)\n",
      "Installing collected packages: six, enum34, futures, grpcio, protobuf, grpcio-tools\n",
      "Successfully installed enum34-1.1.6 futures-3.2.0 grpcio-1.15.0 grpcio-tools-1.15.0 protobuf-3.6.1 six-1.11.0\n"
     ]
    }
   ],
   "source": [
    "!.venv/bin/pip install grpcio grpcio-tools"
   ]
  },
  {
   "cell_type": "markdown",
   "metadata": {
    "nbpresent": {
     "id": "fc5fcd1d-8278-418d-bd64-6c8b2858199a"
    }
   },
   "source": [
    "After successful installation of the grpc packages, we will start creating the protocol buffer file which contains declaration of service interface and the message which will be used for the client server communication.\n",
    "\n",
    "Create proto file titled employee.proto with the below mentioned content"
   ]
  },
  {
   "cell_type": "code",
   "execution_count": 5,
   "metadata": {
    "collapsed": false,
    "nbpresent": {
     "id": "23c6069b-a99e-440a-baab-19a4eaa85309"
    }
   },
   "outputs": [
    {
     "name": "stdout",
     "output_type": "stream",
     "text": [
      "Writing protos/employee.proto\n"
     ]
    }
   ],
   "source": [
    "%%writefile protos/employee.proto\n",
    "\n",
    "syntax = \"proto3\";\n",
    "\n",
    "package employee;\n",
    "\n",
    "// Interface exported by the server.\n",
    "service Employee {\n",
    "    rpc Read(readRequestPB) returns (readResponseListPB) {}\n",
    "}\n",
    "\n",
    "message readRequestPB {\n",
    "    string first_name = 1;\n",
    "    string last_name = 2;\n",
    "    string email = 3;\n",
    "    string gender = 4;\n",
    "    string ip_address = 5;\n",
    "    string country = 6;\n",
    "    string postcode = 7;\n",
    "}\n",
    "\n",
    "message readResponsePB {\n",
    "    string first_name = 1;\n",
    "    string last_name = 2;\n",
    "    string email = 3;\n",
    "    string gender = 4;\n",
    "    string ip_address = 5;\n",
    "    string country = 6;\n",
    "    string postcode = 7;\n",
    "    int32 id = 8;\n",
    "}\n",
    "\n",
    "message readResponseListPB {\n",
    "    repeated readResponsePB employee = 1;\n",
    "}"
   ]
  },
  {
   "cell_type": "markdown",
   "metadata": {
    "nbpresent": {
     "id": "01b4be73-9036-4814-8908-7fb5051cef14"
    }
   },
   "source": [
    "Compile proto file and generate stub for python. Here is the command to generate:"
   ]
  },
  {
   "cell_type": "code",
   "execution_count": null,
   "metadata": {
    "collapsed": false,
    "nbpresent": {
     "id": "74df27b6-aaa2-43d5-bda5-3ad7ae95a0b2"
    }
   },
   "outputs": [],
   "source": [
    "!./.venv/bin/python -m grpc_tools.protoc -I ./protos/. --python_out=./generated/. --grpc_python_out=./generated/. ./protos/employee.proto"
   ]
  },
  {
   "cell_type": "markdown",
   "metadata": {
    "nbpresent": {
     "id": "ca96b4c9-2017-4f4c-a0f3-88300bb90781"
    }
   },
   "source": [
    "This will generate two files(employee_pb2.py and employee_pb2_grpc.py) under generated folder. "
   ]
  },
  {
   "cell_type": "code",
   "execution_count": null,
   "metadata": {
    "collapsed": false,
    "nbpresent": {
     "id": "a44a727a-ce4e-4c64-bdf1-3865e5dcfc5e"
    },
    "scrolled": false
   },
   "outputs": [],
   "source": [
    "!ls -al generated"
   ]
  },
  {
   "cell_type": "code",
   "execution_count": null,
   "metadata": {
    "collapsed": false,
    "nbpresent": {
     "id": "077d6f73-39ee-4b65-8947-19c023bccb03"
    },
    "scrolled": true
   },
   "outputs": [],
   "source": [
    "!cat generated/employee_pb2.py"
   ]
  },
  {
   "cell_type": "code",
   "execution_count": null,
   "metadata": {
    "collapsed": false,
    "nbpresent": {
     "id": "f0b1eeb9-92fd-42e6-aba9-e824a7150676"
    },
    "scrolled": true
   },
   "outputs": [],
   "source": [
    "!cat generated/employee_pb2_grpc.py"
   ]
  },
  {
   "cell_type": "markdown",
   "metadata": {
    "nbpresent": {
     "id": "68d57e61-e3cd-429b-9732-3ede3a46453a"
    }
   },
   "source": [
    "Now we will start implementing server. create a file under src folder named server.py with the following content:"
   ]
  },
  {
   "cell_type": "code",
   "execution_count": null,
   "metadata": {
    "collapsed": false,
    "nbpresent": {
     "id": "100f45c5-7af9-4a9d-b285-17ced767b3e4"
    }
   },
   "outputs": [],
   "source": [
    "%%writefile src/server.py\n",
    "\n",
    "from __future__ import print_function\n",
    "\n",
    "import time\n",
    "import grpc\n",
    "\n",
    "from generated import employee_pb2_grpc\n",
    "from concurrent import futures\n",
    "\n",
    "_ONE_DAY_IN_SECONDS = 60 * 60 * 24\n",
    "\n",
    "class EmployeeServicer(employee_pb2_grpc.EmployeeServicer):\n",
    "    def __init__(self):\n",
    "        pass\n",
    "    \n",
    "def serve():\n",
    "    server = grpc.server(futures.ThreadPoolExecutor(max_workers=10))\n",
    "    employee_pb2_grpc.add_EmployeeServicer_to_server(EmployeeServicer(), server)\n",
    "    server.add_insecure_port('[::]:40084')\n",
    "    server.start()\n",
    "    print(\"Employee server running on 40084...\")\n",
    "    try:\n",
    "        while True:\n",
    "            time.sleep(_ONE_DAY_IN_SECONDS)\n",
    "    except:\n",
    "        server.stop(0)\n",
    "\n",
    "if __name__ == '__main__':\n",
    "    serve()"
   ]
  },
  {
   "cell_type": "markdown",
   "metadata": {
    "nbpresent": {
     "id": "d02500e1-a2e1-441c-845b-d4f9db88ce39"
    }
   },
   "source": [
    "Client code is as mentioned below in client.py"
   ]
  },
  {
   "cell_type": "code",
   "execution_count": null,
   "metadata": {
    "collapsed": false,
    "nbpresent": {
     "id": "30f369f5-1184-47db-bae2-c3c87b1fbdbc"
    }
   },
   "outputs": [],
   "source": [
    "%%writefile src/client.py\n",
    "\n",
    "from __future__ import print_function\n",
    "\n",
    "import time\n",
    "import grpc\n",
    "\n",
    "from generated import employee_pb2, employee_pb2_grpc\n",
    "\n",
    "class EmployeeClient(object):\n",
    "    def __init__(self):\n",
    "        pass\n",
    "\n",
    "def run():\n",
    "    channel = grpc.insecure_channel('localhost:40084')\n",
    "    stub = employee_pb2_grpc.EmployeeStub(channel)\n",
    "    print(stub)\n",
    "\n",
    "if __name__ == '__main__':\n",
    "    run()"
   ]
  },
  {
   "cell_type": "markdown",
   "metadata": {
    "nbpresent": {
     "id": "a447869c-cf20-468b-ae21-1cc70b0a15a2"
    }
   },
   "source": [
    "So far we have created server and client file with the basic connection. \n",
    "###### Lets run section-1 of server and client notebooks."
   ]
  },
  {
   "cell_type": "markdown",
   "metadata": {
    "nbpresent": {
     "id": "570d7f22-c01f-4838-84a6-eb0a1f95a724"
    }
   },
   "source": [
    "Client is not calling anything from server yet. So let's implement that..."
   ]
  },
  {
   "cell_type": "code",
   "execution_count": null,
   "metadata": {
    "collapsed": true,
    "nbpresent": {
     "id": "c96b7073-c046-4db6-bd44-f15bd630e840"
    }
   },
   "outputs": [],
   "source": [
    "class EmployeeServicer(employee_pb2_grpc.EmployeeServicer):\n",
    "    def Read(self, request, context):\n",
    "        print(\"Read employee service called...\")\n",
    "        response_list = employee_pb2.readResponseListPB()\n",
    "        return response_list"
   ]
  },
  {
   "cell_type": "code",
   "execution_count": null,
   "metadata": {
    "collapsed": true,
    "nbpresent": {
     "id": "4173047d-a37d-4777-98bf-4d5d0ba4bfe8"
    }
   },
   "outputs": [],
   "source": [
    "class EmployeeClient(object):\n",
    "    def __init__(self):\n",
    "        pass\n",
    "\n",
    "    def get_employee(self, stub):\n",
    "        read_request = employee_pb2.readRequestPB()\n",
    "        read_request.first_name = \"Pauli\"\n",
    "        return stub.Read(read_request)\n",
    "    \n",
    "def run():\n",
    "    channel = grpc.insecure_channel('localhost:40084')\n",
    "    stub = employee_pb2_grpc.EmployeeStub(channel)\n",
    "\n",
    "    emp_client = EmployeeClient()\n",
    "    print(emp_client.get_employee(stub))"
   ]
  },
  {
   "cell_type": "markdown",
   "metadata": {
    "nbpresent": {
     "id": "67dfb313-3c7a-4319-b96c-df920b12439f"
    }
   },
   "source": [
    "After implementing above methods in client and server, server will return an empty list as response.\n",
    "###### Lets run section-2 of server and client notebooks."
   ]
  },
  {
   "cell_type": "markdown",
   "metadata": {
    "nbpresent": {
     "id": "6eefac58-6c40-480d-a42a-c03d97140dac"
    }
   },
   "source": [
    "Now lets move towards getting the data from database and return that as response to client.\n",
    "We will create another python file in src folder named employee_orm.py. This file will contain the code as below mentioned: "
   ]
  },
  {
   "cell_type": "code",
   "execution_count": null,
   "metadata": {
    "collapsed": false,
    "nbpresent": {
     "id": "cdcba03e-b08a-4eac-9bcb-9a2a7884beb2"
    }
   },
   "outputs": [],
   "source": [
    "%%writefile src/employee_orm.py\n",
    "\n",
    "__author__ = 'Dheeraj Bhadani'\n",
    "\n",
    "import sqlite3\n",
    "\n",
    "from generated import employee_pb2\n",
    "\n",
    "class EmployeeORM(object):\n",
    "    def __init__(self):\n",
    "        pass\n",
    "\n",
    "    def run_query(self, query):\n",
    "        conn = sqlite3.connect('resource/employee.db')\n",
    "        curs = conn.cursor()\n",
    "        curs.execute(query)\n",
    "        return curs\n",
    "\n",
    "    def select(self, requestPB):\n",
    "        base_query = 'select * from EMPLOYEE'\n",
    "\n",
    "        if requestPB.ListFields():\n",
    "            where_clause = \" WHERE \"\n",
    "        condition_count = 0\n",
    "        for f in requestPB.ListFields():\n",
    "            if condition_count == 0:\n",
    "                where_clause += ' {0} = \"{1}\"'.format(f[0].name, f[1])\n",
    "            else:\n",
    "                where_clause += ' AND {0} = \"{1}\"'.format(f[0].name, f[1])\n",
    "            condition_count += 1\n",
    "\n",
    "        query = base_query + where_clause\n",
    "\n",
    "        query_result = self.run_query(query)\n",
    "\n",
    "        result = []\n",
    "        for cur in query_result:\n",
    "            response = employee_pb2.readResponsePB()\n",
    "            response.first_name = str(cur[1])\n",
    "            response.last_name = str(cur[2])\n",
    "            response.email = str(cur[3])\n",
    "            response.gender = str(cur[4])\n",
    "            response.ip_address = str(cur[5])\n",
    "            response.country = str(cur[6])\n",
    "            response.postcode = str(cur[7])\n",
    "            response.id = int(cur[0])\n",
    "            result.append(response)\n",
    "\n",
    "        response_list = employee_pb2.readResponseListPB()\n",
    "        response_list.employee.extend(result)\n",
    "        return response_list"
   ]
  },
  {
   "cell_type": "markdown",
   "metadata": {
    "nbpresent": {
     "id": "e90a6c79-7978-4688-b79b-4e4ac02f10d9"
    }
   },
   "source": [
    "Connection between orm and server can be implemented as mentioned below:"
   ]
  },
  {
   "cell_type": "code",
   "execution_count": null,
   "metadata": {
    "collapsed": true,
    "nbpresent": {
     "id": "7074b1e9-c819-4de0-8777-e70d72dac384"
    }
   },
   "outputs": [],
   "source": [
    "import employee_orm\n",
    "\n",
    "class EmployeeServicer(employee_pb2_grpc.EmployeeServicer):\n",
    "    def __init__(self):\n",
    "        self.__emp_orm = employee_orm.EmployeeORM()\n",
    "\n",
    "    def Read(self, request, context):\n",
    "        print(\"Read employee service called...\")\n",
    "        return self.__emp_orm.select(request)"
   ]
  },
  {
   "cell_type": "markdown",
   "metadata": {
    "nbpresent": {
     "id": "13e9ce72-8d63-4000-b314-d99f2235b427"
    }
   },
   "source": [
    "###### Lets run section-3 of server and client notebooks."
   ]
  },
  {
   "cell_type": "markdown",
   "metadata": {
    "nbpresent": {
     "id": "bd25f69d-e058-4072-97a0-f6ed0dd670a6"
    }
   },
   "source": [
    "To summarize, client sends a request containg protocol buffer in request. Server recieves the request and process the method. Send a request to ORM which get the data from database and return the protocol buffer object. Server respond to client with the protocol buffer object."
   ]
  },
  {
   "cell_type": "markdown",
   "metadata": {
    "nbpresent": {
     "id": "27f59dda-184e-47b3-b78a-b671cf04f319"
    }
   },
   "source": [
    "![alt text](grpc-sqlite.png \"Title\")"
   ]
  },
  {
   "cell_type": "markdown",
   "metadata": {
    "nbpresent": {
     "id": "0bf83d7c-19f3-4f09-b22b-69461299a82e"
    }
   },
   "source": [
    "Whats next>>\n",
    "implementing other rpc calls like:\n",
    "    rpc Create(creationRequestPB) returns (creationResponsePB) {}\n",
    "    rpc Update(updateRequestPB) returns (updateResponsePB) {}\n",
    "    rpc Delete(deleteRequestPB) returns (deleteResponsePB) {}"
   ]
  }
 ],
 "metadata": {
  "anaconda-cloud": {},
  "celltoolbar": "Slideshow",
  "kernelspec": {
   "display_name": "Python [conda root]",
   "language": "python",
   "name": "conda-root-py"
  },
  "language_info": {
   "codemirror_mode": {
    "name": "ipython",
    "version": 3
   },
   "file_extension": ".py",
   "mimetype": "text/x-python",
   "name": "python",
   "nbconvert_exporter": "python",
   "pygments_lexer": "ipython3",
   "version": "3.5.2"
  },
  "nbpresent": {
   "slides": {
    "02a385f4-4af0-402c-a9b1-dcccbab3ab58": {
     "id": "02a385f4-4af0-402c-a9b1-dcccbab3ab58",
     "prev": "dfa8f647-4db3-4a2c-8f1e-d5ed4aeb3cf0",
     "regions": {
      "cabc781c-96d0-4fc6-92ee-a47253cde012": {
       "attrs": {
        "height": 0.8,
        "width": 0.8,
        "x": 0.1,
        "y": 0.1
       },
       "content": {
        "cell": "01b4be73-9036-4814-8908-7fb5051cef14",
        "part": "whole"
       },
       "id": "cabc781c-96d0-4fc6-92ee-a47253cde012"
      }
     }
    },
    "0f2ffe96-d49d-44ba-8e04-73ab07fbd280": {
     "id": "0f2ffe96-d49d-44ba-8e04-73ab07fbd280",
     "prev": "de8f9100-7ea6-4cee-a27b-782282063a49",
     "regions": {
      "8e19d911-42de-4d29-a4c9-87b83658dc25": {
       "attrs": {
        "height": 0.8,
        "width": 0.8,
        "x": 0.1,
        "y": 0.1
       },
       "content": {
        "cell": "a447869c-cf20-468b-ae21-1cc70b0a15a2",
        "part": "whole"
       },
       "id": "8e19d911-42de-4d29-a4c9-87b83658dc25"
      }
     }
    },
    "14b761a5-2f83-4e86-a1ed-73d0e0bcf57d": {
     "id": "14b761a5-2f83-4e86-a1ed-73d0e0bcf57d",
     "prev": "8ba2819e-36c7-49a0-b054-5adb353776c6",
     "regions": {
      "02f38196-3a01-472f-a4a8-c0f5796b8496": {
       "attrs": {
        "height": 0.8,
        "width": 0.8,
        "x": 0.1,
        "y": 0.1
       },
       "content": {
        "cell": "f0b1eeb9-92fd-42e6-aba9-e824a7150676",
        "part": "whole"
       },
       "id": "02f38196-3a01-472f-a4a8-c0f5796b8496"
      }
     }
    },
    "1bd66ec3-41d3-4905-a924-cd7d768b6baf": {
     "id": "1bd66ec3-41d3-4905-a924-cd7d768b6baf",
     "prev": "772be672-6b42-47ec-a885-611a6dcd7047",
     "regions": {
      "42483ab3-0af3-4063-83d9-1adc6f21dd5b": {
       "attrs": {
        "height": 0.8,
        "width": 0.8,
        "x": 0.1,
        "y": 0.1
       },
       "content": {
        "cell": "e90a6c79-7978-4688-b79b-4e4ac02f10d9",
        "part": "whole"
       },
       "id": "42483ab3-0af3-4063-83d9-1adc6f21dd5b"
      }
     }
    },
    "209713e4-eed2-40bd-8f58-dd9ff57f80aa": {
     "id": "209713e4-eed2-40bd-8f58-dd9ff57f80aa",
     "prev": "9f0a8d32-c99d-4abc-b8bf-7631e4a2e86a",
     "regions": {
      "3fee6776-04c8-4b68-aad1-d6e94df5f6e3": {
       "attrs": {
        "height": 0.8,
        "width": 0.8,
        "x": 0.1,
        "y": 0.1
       },
       "content": {
        "cell": "0bf83d7c-19f3-4f09-b22b-69461299a82e",
        "part": "whole"
       },
       "id": "3fee6776-04c8-4b68-aad1-d6e94df5f6e3"
      }
     }
    },
    "2373b7e6-e5db-4cc5-ac99-8a6d7600da03": {
     "id": "2373b7e6-e5db-4cc5-ac99-8a6d7600da03",
     "prev": "f98b52e0-a683-43ef-a57c-d86bd137e253",
     "regions": {
      "0f1049af-8d57-4ac6-a8b7-73186a5c6b28": {
       "attrs": {
        "height": 0.8,
        "width": 0.8,
        "x": 0.1,
        "y": 0.1
       },
       "content": {
        "cell": "4173047d-a37d-4777-98bf-4d5d0ba4bfe8",
        "part": "whole"
       },
       "id": "0f1049af-8d57-4ac6-a8b7-73186a5c6b28"
      }
     }
    },
    "2e908bb8-4e68-4818-a23f-62a706fce2cf": {
     "id": "2e908bb8-4e68-4818-a23f-62a706fce2cf",
     "prev": "02a385f4-4af0-402c-a9b1-dcccbab3ab58",
     "regions": {
      "82000e3d-6a28-48df-b08c-2b558f7d7689": {
       "attrs": {
        "height": 0.8,
        "width": 0.8,
        "x": 0.1,
        "y": 0.1
       },
       "content": {
        "cell": "74df27b6-aaa2-43d5-bda5-3ad7ae95a0b2",
        "part": "whole"
       },
       "id": "82000e3d-6a28-48df-b08c-2b558f7d7689"
      }
     }
    },
    "45728053-e21f-4ed9-bb8b-bf685889b615": {
     "id": "45728053-e21f-4ed9-bb8b-bf685889b615",
     "prev": "630c8178-43a6-468a-8beb-5ff17a8d2d0f",
     "regions": {
      "3c9bb0a3-8015-4e0d-a40b-05bf4b3cffee": {
       "attrs": {
        "height": 0.8,
        "width": 0.8,
        "x": 0.1,
        "y": 0.1
       },
       "content": {
        "cell": "6eefac58-6c40-480d-a42a-c03d97140dac",
        "part": "whole"
       },
       "id": "3c9bb0a3-8015-4e0d-a40b-05bf4b3cffee"
      }
     }
    },
    "4b72bfdf-4cea-4e5a-9a94-94362afaf4f5": {
     "id": "4b72bfdf-4cea-4e5a-9a94-94362afaf4f5",
     "prev": "1bd66ec3-41d3-4905-a924-cd7d768b6baf",
     "regions": {
      "2221bbf4-34a7-48d4-8982-8abcbded0c23": {
       "attrs": {
        "height": 0.8,
        "width": 0.8,
        "x": 0.1,
        "y": 0.1
       },
       "content": {
        "cell": "7074b1e9-c819-4de0-8777-e70d72dac384",
        "part": "whole"
       },
       "id": "2221bbf4-34a7-48d4-8982-8abcbded0c23"
      }
     }
    },
    "50af2555-d906-4179-834c-849b912af2a7": {
     "id": "50af2555-d906-4179-834c-849b912af2a7",
     "layout": "manual",
     "prev": null,
     "regions": {
      "c980fae3-026f-49e5-8e25-2bb447bdb075": {
       "attrs": {
        "height": 0.8,
        "width": 0.8,
        "x": 0.1,
        "y": 0.1
       },
       "content": {
        "cell": "f2b0018a-b766-44a1-a42d-f83ab196bdef",
        "part": "source"
       },
       "id": "c980fae3-026f-49e5-8e25-2bb447bdb075"
      }
     }
    },
    "5406b3c7-8e89-41e8-bc48-5ae4386f3a1f": {
     "id": "5406b3c7-8e89-41e8-bc48-5ae4386f3a1f",
     "prev": "14b761a5-2f83-4e86-a1ed-73d0e0bcf57d",
     "regions": {
      "f18d95ad-844c-45fa-a555-e272ff770344": {
       "attrs": {
        "height": 0.8,
        "width": 0.8,
        "x": 0.1,
        "y": 0.1
       },
       "content": {
        "cell": "68d57e61-e3cd-429b-9732-3ede3a46453a",
        "part": "whole"
       },
       "id": "f18d95ad-844c-45fa-a555-e272ff770344"
      }
     }
    },
    "60f6ff47-0467-409c-bf26-34ff7a55d72e": {
     "id": "60f6ff47-0467-409c-bf26-34ff7a55d72e",
     "prev": "a8dbcb79-764f-489a-a908-dec9727bca32",
     "regions": {
      "f3f319b5-3793-4087-8ce2-c5f0175428b8": {
       "attrs": {
        "height": 0.8,
        "width": 0.8,
        "x": 0.1,
        "y": 0.1
       },
       "content": {
        "cell": "cd962324-9a89-4c4c-b607-b1e5fad482c4",
        "part": "whole"
       },
       "id": "f3f319b5-3793-4087-8ce2-c5f0175428b8"
      }
     }
    },
    "630c8178-43a6-468a-8beb-5ff17a8d2d0f": {
     "id": "630c8178-43a6-468a-8beb-5ff17a8d2d0f",
     "prev": "2373b7e6-e5db-4cc5-ac99-8a6d7600da03",
     "regions": {
      "caa6b672-d44a-44ff-924f-273265882d17": {
       "attrs": {
        "height": 0.8,
        "width": 0.8,
        "x": 0.1,
        "y": 0.1
       },
       "content": {
        "cell": "67dfb313-3c7a-4319-b96c-df920b12439f",
        "part": "whole"
       },
       "id": "caa6b672-d44a-44ff-924f-273265882d17"
      }
     }
    },
    "772be672-6b42-47ec-a885-611a6dcd7047": {
     "id": "772be672-6b42-47ec-a885-611a6dcd7047",
     "prev": "45728053-e21f-4ed9-bb8b-bf685889b615",
     "regions": {
      "66c81b0f-2741-4253-9e7f-f3398b3b23bf": {
       "attrs": {
        "height": 0.8,
        "width": 0.8,
        "x": 0.1,
        "y": 0.1
       },
       "content": {
        "cell": "cdcba03e-b08a-4eac-9bcb-9a2a7884beb2",
        "part": "whole"
       },
       "id": "66c81b0f-2741-4253-9e7f-f3398b3b23bf"
      }
     }
    },
    "7a46571a-de86-4168-a987-85c28bbb69ef": {
     "id": "7a46571a-de86-4168-a987-85c28bbb69ef",
     "prev": "8b21e0c3-2bc2-4bde-9fd7-c062b8bf0667",
     "regions": {
      "431f2cc4-6585-4aa4-9427-f4f07c2dfc23": {
       "attrs": {
        "height": 0.8,
        "width": 0.8,
        "x": 0.1,
        "y": 0.1
       },
       "content": {
        "cell": "d02500e1-a2e1-441c-845b-d4f9db88ce39",
        "part": "whole"
       },
       "id": "431f2cc4-6585-4aa4-9427-f4f07c2dfc23"
      }
     }
    },
    "81b83224-5fde-4f6a-94f8-6df8c5f6d55c": {
     "id": "81b83224-5fde-4f6a-94f8-6df8c5f6d55c",
     "prev": "b3d481d4-541d-4fef-beb3-8794a537c406",
     "regions": {
      "4532cc4d-6b06-4d25-80be-78dc2ce4b3b7": {
       "attrs": {
        "height": 0.8,
        "width": 0.8,
        "x": 0.1,
        "y": 0.1
       },
       "content": {
        "cell": "a44a727a-ce4e-4c64-bdf1-3865e5dcfc5e",
        "part": "whole"
       },
       "id": "4532cc4d-6b06-4d25-80be-78dc2ce4b3b7"
      }
     }
    },
    "8b1cf162-8f08-4236-8cc7-0288ebe62fc7": {
     "id": "8b1cf162-8f08-4236-8cc7-0288ebe62fc7",
     "prev": "60f6ff47-0467-409c-bf26-34ff7a55d72e",
     "regions": {
      "ca1a0f26-6440-4545-ba68-f122e653d3c7": {
       "attrs": {
        "height": 0.8,
        "width": 0.8,
        "x": 0.1,
        "y": 0.1
       },
       "content": {
        "cell": "02fb14bb-0c0f-49c2-a613-a83a8d1a86ed",
        "part": "whole"
       },
       "id": "ca1a0f26-6440-4545-ba68-f122e653d3c7"
      }
     }
    },
    "8b21e0c3-2bc2-4bde-9fd7-c062b8bf0667": {
     "id": "8b21e0c3-2bc2-4bde-9fd7-c062b8bf0667",
     "prev": "5406b3c7-8e89-41e8-bc48-5ae4386f3a1f",
     "regions": {
      "40931a78-05e2-40b9-b76c-0fec62c06ec4": {
       "attrs": {
        "height": 0.8,
        "width": 0.8,
        "x": 0.1,
        "y": 0.1
       },
       "content": {
        "cell": "100f45c5-7af9-4a9d-b285-17ced767b3e4",
        "part": "whole"
       },
       "id": "40931a78-05e2-40b9-b76c-0fec62c06ec4"
      }
     }
    },
    "8ba2819e-36c7-49a0-b054-5adb353776c6": {
     "id": "8ba2819e-36c7-49a0-b054-5adb353776c6",
     "prev": "81b83224-5fde-4f6a-94f8-6df8c5f6d55c",
     "regions": {
      "8d463236-fd39-4ff7-a8ab-6007e9658a01": {
       "attrs": {
        "height": 0.8,
        "width": 0.8,
        "x": 0.1,
        "y": 0.1
       },
       "content": {
        "cell": "077d6f73-39ee-4b65-8947-19c023bccb03",
        "part": "whole"
       },
       "id": "8d463236-fd39-4ff7-a8ab-6007e9658a01"
      }
     }
    },
    "9eeec04f-3a01-4d40-a1d5-16c470611e2b": {
     "id": "9eeec04f-3a01-4d40-a1d5-16c470611e2b",
     "prev": "affd7739-8b00-4b9a-a5c9-9317f08531f2",
     "regions": {
      "18ccb45f-5d3b-4aae-8238-465719829f76": {
       "attrs": {
        "height": 0.8,
        "width": 0.8,
        "x": 0.1,
        "y": 0.1
       },
       "content": {
        "cell": "fc5fcd1d-8278-418d-bd64-6c8b2858199a",
        "part": "whole"
       },
       "id": "18ccb45f-5d3b-4aae-8238-465719829f76"
      }
     }
    },
    "9f0a8d32-c99d-4abc-b8bf-7631e4a2e86a": {
     "id": "9f0a8d32-c99d-4abc-b8bf-7631e4a2e86a",
     "prev": "d7d064ea-7027-433d-9870-191d90d51098",
     "regions": {
      "ca315258-12b0-459a-b775-e926f9c29870": {
       "attrs": {
        "height": 0.8,
        "width": 0.8,
        "x": 0.1,
        "y": 0.1
       },
       "content": {
        "cell": "27f59dda-184e-47b3-b78a-b671cf04f319",
        "part": "whole"
       },
       "id": "ca315258-12b0-459a-b775-e926f9c29870"
      }
     }
    },
    "a3a26899-d601-4c6d-91b9-dd549a55637e": {
     "id": "a3a26899-d601-4c6d-91b9-dd549a55637e",
     "prev": "0f2ffe96-d49d-44ba-8e04-73ab07fbd280",
     "regions": {
      "5c4613a3-fb1c-48ed-8e70-da39a82790a4": {
       "attrs": {
        "height": 0.8,
        "width": 0.8,
        "x": 0.1,
        "y": 0.1
       },
       "content": {
        "cell": "570d7f22-c01f-4838-84a6-eb0a1f95a724",
        "part": "whole"
       },
       "id": "5c4613a3-fb1c-48ed-8e70-da39a82790a4"
      }
     }
    },
    "a8dbcb79-764f-489a-a908-dec9727bca32": {
     "id": "a8dbcb79-764f-489a-a908-dec9727bca32",
     "prev": "50af2555-d906-4179-834c-849b912af2a7",
     "regions": {
      "7583c36b-2078-407a-9e37-85c00598d30e": {
       "attrs": {
        "height": 0.8,
        "width": 0.8,
        "x": 0.1,
        "y": 0.1
       },
       "content": {
        "cell": "43f1862d-803f-4415-b1f2-0a53d50a46d1",
        "part": "whole"
       },
       "id": "7583c36b-2078-407a-9e37-85c00598d30e"
      }
     }
    },
    "affd7739-8b00-4b9a-a5c9-9317f08531f2": {
     "id": "affd7739-8b00-4b9a-a5c9-9317f08531f2",
     "prev": "8b1cf162-8f08-4236-8cc7-0288ebe62fc7",
     "regions": {
      "a7c86288-71d6-4795-a101-d48d6ba8f49d": {
       "attrs": {
        "height": 0.8,
        "width": 0.8,
        "x": 0.1,
        "y": 0.1
       },
       "content": {
        "cell": "61cf95aa-ab50-4e19-a4d3-ef2c6c6d8ac9",
        "part": "whole"
       },
       "id": "a7c86288-71d6-4795-a101-d48d6ba8f49d"
      }
     }
    },
    "b3d481d4-541d-4fef-beb3-8794a537c406": {
     "id": "b3d481d4-541d-4fef-beb3-8794a537c406",
     "prev": "2e908bb8-4e68-4818-a23f-62a706fce2cf",
     "regions": {
      "ff0a5793-34f5-4ccd-ad3e-b2e8057edabc": {
       "attrs": {
        "height": 0.8,
        "width": 0.8,
        "x": 0.1,
        "y": 0.1
       },
       "content": {
        "cell": "ca96b4c9-2017-4f4c-a0f3-88300bb90781",
        "part": "whole"
       },
       "id": "ff0a5793-34f5-4ccd-ad3e-b2e8057edabc"
      }
     }
    },
    "cf3ba851-787b-46f3-8c4d-43e7df2aea00": {
     "id": "cf3ba851-787b-46f3-8c4d-43e7df2aea00",
     "prev": "4b72bfdf-4cea-4e5a-9a94-94362afaf4f5",
     "regions": {
      "0fec87e5-ea22-4dba-bff0-6bf237166649": {
       "attrs": {
        "height": 0.8,
        "width": 0.8,
        "x": 0.1,
        "y": 0.1
       },
       "content": {
        "cell": "13e9ce72-8d63-4000-b314-d99f2235b427",
        "part": "whole"
       },
       "id": "0fec87e5-ea22-4dba-bff0-6bf237166649"
      }
     }
    },
    "d7d064ea-7027-433d-9870-191d90d51098": {
     "id": "d7d064ea-7027-433d-9870-191d90d51098",
     "prev": "cf3ba851-787b-46f3-8c4d-43e7df2aea00",
     "regions": {
      "6d39e8f1-7f21-40d0-82a5-9c4c51845c96": {
       "attrs": {
        "height": 0.8,
        "width": 0.8,
        "x": 0.1,
        "y": 0.1
       },
       "content": {
        "cell": "bd25f69d-e058-4072-97a0-f6ed0dd670a6",
        "part": "whole"
       },
       "id": "6d39e8f1-7f21-40d0-82a5-9c4c51845c96"
      }
     }
    },
    "de8f9100-7ea6-4cee-a27b-782282063a49": {
     "id": "de8f9100-7ea6-4cee-a27b-782282063a49",
     "prev": "7a46571a-de86-4168-a987-85c28bbb69ef",
     "regions": {
      "5550f1b7-9986-42da-9e82-43f42f35f2da": {
       "attrs": {
        "height": 0.8,
        "width": 0.8,
        "x": 0.1,
        "y": 0.1
       },
       "content": {
        "cell": "30f369f5-1184-47db-bae2-c3c87b1fbdbc",
        "part": "whole"
       },
       "id": "5550f1b7-9986-42da-9e82-43f42f35f2da"
      }
     }
    },
    "dfa8f647-4db3-4a2c-8f1e-d5ed4aeb3cf0": {
     "id": "dfa8f647-4db3-4a2c-8f1e-d5ed4aeb3cf0",
     "prev": "9eeec04f-3a01-4d40-a1d5-16c470611e2b",
     "regions": {
      "93ba5bae-6826-4dce-aa23-76e6ebf8bb15": {
       "attrs": {
        "height": 0.8,
        "width": 0.8,
        "x": 0.1,
        "y": 0.1
       },
       "content": {
        "cell": "23c6069b-a99e-440a-baab-19a4eaa85309",
        "part": "whole"
       },
       "id": "93ba5bae-6826-4dce-aa23-76e6ebf8bb15"
      }
     }
    },
    "f98b52e0-a683-43ef-a57c-d86bd137e253": {
     "id": "f98b52e0-a683-43ef-a57c-d86bd137e253",
     "prev": "a3a26899-d601-4c6d-91b9-dd549a55637e",
     "regions": {
      "a002dd8f-54d2-4654-b44f-daeb446b2efb": {
       "attrs": {
        "height": 0.8,
        "width": 0.8,
        "x": 0.1,
        "y": 0.1
       },
       "content": {
        "cell": "c96b7073-c046-4db6-bd44-f15bd630e840",
        "part": "whole"
       },
       "id": "a002dd8f-54d2-4654-b44f-daeb446b2efb"
      }
     }
    }
   },
   "themes": {
    "default": "7ef2f9c2-ae60-4042-8c92-eacbf01151f8",
    "theme": {}
   }
  }
 },
 "nbformat": 4,
 "nbformat_minor": 2
}
