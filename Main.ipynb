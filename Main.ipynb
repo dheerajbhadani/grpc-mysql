{
 "cells": [
  {
   "cell_type": "markdown",
   "metadata": {
    "nbpresent": {
     "id": "8cdc0744-cb4e-4eac-b0e3-0e5a9b7b6fd1"
    },
    "slideshow": {
     "slide_type": "slide"
    }
   },
   "source": [
    "# Hello,\n",
    "\n",
    "This tutorial is focusing on understanding connection between grpc and sql(we are going to use sqlite for this tutorial).\n",
    "grpc can be implemented in various languages. we are using python for this tutorial.\n",
    "Details of grpc can be found at https://grpc.io\n",
    "\n",
    "Let's begin with installation of grpc packages. "
   ]
  },
  {
   "cell_type": "code",
   "execution_count": 7,
   "metadata": {
    "collapsed": false,
    "nbpresent": {
     "id": "d3b179e9-1f60-4846-9a20-394501e661c8"
    },
    "scrolled": true,
    "slideshow": {
     "slide_type": "slide"
    }
   },
   "outputs": [
    {
     "name": "stdout",
     "output_type": "stream",
     "text": [
      "rm -rf .venv \r\n",
      "rm -rf generated\r\n",
      "rm -rf protos\r\n",
      "rm -rf src\r\n"
     ]
    }
   ],
   "source": [
    "!make clean"
   ]
  },
  {
   "cell_type": "code",
   "execution_count": 8,
   "metadata": {
    "collapsed": false,
    "nbpresent": {
     "id": "cd962324-9a89-4c4c-b607-b1e5fad482c4"
    },
    "slideshow": {
     "slide_type": "slide"
    }
   },
   "outputs": [
    {
     "name": "stdout",
     "output_type": "stream",
     "text": [
      "New python executable in /home/dheerajbhadani/git/tmp/grpc-sqlite/.venv/bin/python2.7\n",
      "Also creating executable in /home/dheerajbhadani/git/tmp/grpc-sqlite/.venv/bin/python\n",
      "Installing setuptools, pip, wheel...done.\n"
     ]
    }
   ],
   "source": [
    "!python2.7 -m virtualenv .venv"
   ]
  },
  {
   "cell_type": "code",
   "execution_count": 9,
   "metadata": {
    "collapsed": false,
    "nbpresent": {
     "id": "02fb14bb-0c0f-49c2-a613-a83a8d1a86ed"
    },
    "slideshow": {
     "slide_type": "slide"
    }
   },
   "outputs": [
    {
     "name": "stdout",
     "output_type": "stream",
     "text": [
      ".\r\n",
      "./generated\r\n",
      "./generated/__init__.py\r\n",
      "./grpc-dbsync.png\r\n",
      "./src\r\n",
      "./Makefile\r\n",
      "./README.md\r\n",
      "./protos\r\n",
      "./grpc-sqlite.png\r\n",
      "./resource\r\n",
      "./resource/employee.db\r\n",
      "./Main.ipynb\r\n",
      "./Main.slides.html\r\n",
      "./Client.ipynb\r\n",
      "./Server.ipynb\r\n",
      "./LICENSE\r\n"
     ]
    }
   ],
   "source": [
    "!mkdir protos generated src\n",
    "!touch generated/__init__.py\n",
    "!find . -not -path '*/\\.*'"
   ]
  },
  {
   "cell_type": "code",
   "execution_count": 10,
   "metadata": {
    "collapsed": false,
    "nbpresent": {
     "id": "61cf95aa-ab50-4e19-a4d3-ef2c6c6d8ac9"
    },
    "scrolled": true,
    "slideshow": {
     "slide_type": "slide"
    }
   },
   "outputs": [
    {
     "name": "stdout",
     "output_type": "stream",
     "text": [
      "Collecting grpcio\n",
      "  Using cached https://files.pythonhosted.org/packages/3d/15/b34114198a2bc9c9bb73b21e2b559468a1a68bb28b373d21da6e51d6204f/grpcio-1.15.0-cp27-cp27mu-manylinux1_x86_64.whl\n",
      "Collecting grpcio-tools\n",
      "  Using cached https://files.pythonhosted.org/packages/4a/40/17b8e1c649ae9d7a56e5aeba88811ef9cecef1c35ab76899233413aeb955/grpcio_tools-1.15.0-cp27-cp27mu-manylinux1_x86_64.whl\n",
      "Collecting six>=1.5.2 (from grpcio)\n",
      "  Using cached https://files.pythonhosted.org/packages/67/4b/141a581104b1f6397bfa78ac9d43d8ad29a7ca43ea90a2d863fe3056e86a/six-1.11.0-py2.py3-none-any.whl\n",
      "Collecting enum34>=1.0.4 (from grpcio)\n",
      "  Using cached https://files.pythonhosted.org/packages/c5/db/e56e6b4bbac7c4a06de1c50de6fe1ef3810018ae11732a50f15f62c7d050/enum34-1.1.6-py2-none-any.whl\n",
      "Collecting futures>=2.2.0 (from grpcio)\n",
      "  Using cached https://files.pythonhosted.org/packages/2d/99/b2c4e9d5a30f6471e410a146232b4118e697fa3ffc06d6a65efde84debd0/futures-3.2.0-py2-none-any.whl\n",
      "Collecting protobuf>=3.5.0.post1 (from grpcio-tools)\n",
      "  Using cached https://files.pythonhosted.org/packages/b8/c2/b7f587c0aaf8bf2201405e8162323037fe8d17aa21d3c7dda811b8d01469/protobuf-3.6.1-cp27-cp27mu-manylinux1_x86_64.whl\n",
      "Requirement already satisfied: setuptools in ./.venv/lib/python2.7/site-packages (from protobuf>=3.5.0.post1->grpcio-tools) (40.4.3)\n",
      "Installing collected packages: six, enum34, futures, grpcio, protobuf, grpcio-tools\n",
      "Successfully installed enum34-1.1.6 futures-3.2.0 grpcio-1.15.0 grpcio-tools-1.15.0 protobuf-3.6.1 six-1.11.0\n"
     ]
    }
   ],
   "source": [
    "!.venv/bin/pip install grpcio grpcio-tools"
   ]
  },
  {
   "cell_type": "markdown",
   "metadata": {
    "nbpresent": {
     "id": "1e9a2f7e-c159-434f-a815-fac379a42a21"
    },
    "slideshow": {
     "slide_type": "notes"
    }
   },
   "source": [
    "**After successful installation of the grpc packages, we will start creating the protocol buffer file which contains declaration of service interface and the message which will be used for the client server communication.**\n",
    "\n",
    "**Create proto file titled employee.proto with the below mentioned content.**"
   ]
  },
  {
   "cell_type": "code",
   "execution_count": null,
   "metadata": {
    "collapsed": false,
    "nbpresent": {
     "id": "23c6069b-a99e-440a-baab-19a4eaa85309"
    }
   },
   "outputs": [],
   "source": [
    "%%writefile protos/employee.proto\n",
    "\n",
    "syntax = \"proto3\";\n",
    "\n",
    "package employee;\n",
    "\n",
    "// Interface exported by the server.\n",
    "service Employee {\n",
    "    rpc Read(readRequestPB) returns (readResponseListPB) {}\n",
    "}\n",
    "\n",
    "message readRequestPB {\n",
    "    string first_name = 1;\n",
    "    string last_name = 2;\n",
    "    string email = 3;\n",
    "    string gender = 4;\n",
    "    string ip_address = 5;\n",
    "    string country = 6;\n",
    "    string postcode = 7;\n",
    "}\n",
    "\n",
    "message readResponsePB {\n",
    "    string first_name = 1;\n",
    "    string last_name = 2;\n",
    "    string email = 3;\n",
    "    string gender = 4;\n",
    "    string ip_address = 5;\n",
    "    string country = 6;\n",
    "    string postcode = 7;\n",
    "    int32 id = 8;\n",
    "}\n",
    "\n",
    "message readResponseListPB {\n",
    "    repeated readResponsePB employee = 1;\n",
    "}"
   ]
  },
  {
   "cell_type": "markdown",
   "metadata": {
    "nbpresent": {
     "id": "01b4be73-9036-4814-8908-7fb5051cef14"
    }
   },
   "source": [
    "Compile proto file and generate stub for python. Here is the command to generate:"
   ]
  },
  {
   "cell_type": "code",
   "execution_count": null,
   "metadata": {
    "collapsed": false,
    "nbpresent": {
     "id": "74df27b6-aaa2-43d5-bda5-3ad7ae95a0b2"
    }
   },
   "outputs": [],
   "source": [
    "!./.venv/bin/python -m grpc_tools.protoc -I ./protos/. --python_out=./generated/. --grpc_python_out=./generated/. ./protos/employee.proto"
   ]
  },
  {
   "cell_type": "markdown",
   "metadata": {
    "nbpresent": {
     "id": "ca96b4c9-2017-4f4c-a0f3-88300bb90781"
    }
   },
   "source": [
    "This will generate two files(employee_pb2.py and employee_pb2_grpc.py) under generated folder. "
   ]
  },
  {
   "cell_type": "code",
   "execution_count": null,
   "metadata": {
    "collapsed": false,
    "nbpresent": {
     "id": "a44a727a-ce4e-4c64-bdf1-3865e5dcfc5e"
    },
    "scrolled": false
   },
   "outputs": [],
   "source": [
    "!ls -al generated"
   ]
  },
  {
   "cell_type": "code",
   "execution_count": null,
   "metadata": {
    "collapsed": false,
    "nbpresent": {
     "id": "077d6f73-39ee-4b65-8947-19c023bccb03"
    },
    "scrolled": true
   },
   "outputs": [],
   "source": [
    "!cat generated/employee_pb2.py"
   ]
  },
  {
   "cell_type": "code",
   "execution_count": null,
   "metadata": {
    "collapsed": false,
    "nbpresent": {
     "id": "f0b1eeb9-92fd-42e6-aba9-e824a7150676"
    },
    "scrolled": true
   },
   "outputs": [],
   "source": [
    "!cat generated/employee_pb2_grpc.py"
   ]
  },
  {
   "cell_type": "markdown",
   "metadata": {
    "nbpresent": {
     "id": "68d57e61-e3cd-429b-9732-3ede3a46453a"
    }
   },
   "source": [
    "Now we will start implementing server. create a file under src folder named server.py with the following content:"
   ]
  },
  {
   "cell_type": "code",
   "execution_count": null,
   "metadata": {
    "collapsed": false,
    "nbpresent": {
     "id": "100f45c5-7af9-4a9d-b285-17ced767b3e4"
    },
    "slideshow": {
     "slide_type": "-"
    }
   },
   "outputs": [],
   "source": [
    "%%writefile src/server.py\n",
    "\n",
    "from __future__ import print_function\n",
    "\n",
    "import time\n",
    "import grpc\n",
    "\n",
    "from generated import employee_pb2_grpc\n",
    "from concurrent import futures\n",
    "\n",
    "_ONE_DAY_IN_SECONDS = 60 * 60 * 24\n",
    "\n",
    "class EmployeeServicer(employee_pb2_grpc.EmployeeServicer):\n",
    "    def __init__(self):\n",
    "        pass\n",
    "    \n",
    "def serve():\n",
    "    server = grpc.server(futures.ThreadPoolExecutor(max_workers=10))\n",
    "    employee_pb2_grpc.add_EmployeeServicer_to_server(EmployeeServicer(), server)\n",
    "    server.add_insecure_port('[::]:40084')\n",
    "    server.start()\n",
    "    print(\"Employee server running on 40084...\")\n",
    "    try:\n",
    "        while True:\n",
    "            time.sleep(_ONE_DAY_IN_SECONDS)\n",
    "    except:\n",
    "        server.stop(0)\n",
    "\n",
    "if __name__ == '__main__':\n",
    "    serve()"
   ]
  },
  {
   "cell_type": "markdown",
   "metadata": {
    "nbpresent": {
     "id": "d02500e1-a2e1-441c-845b-d4f9db88ce39"
    }
   },
   "source": [
    "Client code is as mentioned below in client.py"
   ]
  },
  {
   "cell_type": "code",
   "execution_count": null,
   "metadata": {
    "collapsed": false,
    "nbpresent": {
     "id": "30f369f5-1184-47db-bae2-c3c87b1fbdbc"
    }
   },
   "outputs": [],
   "source": [
    "%%writefile src/client.py\n",
    "\n",
    "from __future__ import print_function\n",
    "\n",
    "import time\n",
    "import grpc\n",
    "\n",
    "from generated import employee_pb2, employee_pb2_grpc\n",
    "\n",
    "class EmployeeClient(object):\n",
    "    def __init__(self):\n",
    "        pass\n",
    "\n",
    "def run():\n",
    "    channel = grpc.insecure_channel('localhost:40084')\n",
    "    stub = employee_pb2_grpc.EmployeeStub(channel)\n",
    "    print(stub)\n",
    "\n",
    "if __name__ == '__main__':\n",
    "    run()"
   ]
  },
  {
   "cell_type": "markdown",
   "metadata": {
    "nbpresent": {
     "id": "a447869c-cf20-468b-ae21-1cc70b0a15a2"
    }
   },
   "source": [
    "So far we have created server and client file with the basic connection. \n",
    "###### Lets run section-1 of server and client notebooks."
   ]
  },
  {
   "cell_type": "markdown",
   "metadata": {
    "nbpresent": {
     "id": "570d7f22-c01f-4838-84a6-eb0a1f95a724"
    }
   },
   "source": [
    "Client is not calling anything from server yet. So let's implement that..."
   ]
  },
  {
   "cell_type": "code",
   "execution_count": null,
   "metadata": {
    "collapsed": true,
    "nbpresent": {
     "id": "c96b7073-c046-4db6-bd44-f15bd630e840"
    }
   },
   "outputs": [],
   "source": [
    "class EmployeeServicer(employee_pb2_grpc.EmployeeServicer):\n",
    "    def Read(self, request, context):\n",
    "        print(\"Read employee service called...\")\n",
    "        response_list = employee_pb2.readResponseListPB()\n",
    "        return response_list"
   ]
  },
  {
   "cell_type": "code",
   "execution_count": null,
   "metadata": {
    "collapsed": true,
    "nbpresent": {
     "id": "4173047d-a37d-4777-98bf-4d5d0ba4bfe8"
    }
   },
   "outputs": [],
   "source": [
    "class EmployeeClient(object):\n",
    "    def __init__(self):\n",
    "        pass\n",
    "\n",
    "    def get_employee(self, stub):\n",
    "        read_request = employee_pb2.readRequestPB()\n",
    "        read_request.first_name = \"Pauli\"\n",
    "        return stub.Read(read_request)\n",
    "    \n",
    "def run():\n",
    "    channel = grpc.insecure_channel('localhost:40084')\n",
    "    stub = employee_pb2_grpc.EmployeeStub(channel)\n",
    "\n",
    "    emp_client = EmployeeClient()\n",
    "    print(emp_client.get_employee(stub))"
   ]
  },
  {
   "cell_type": "markdown",
   "metadata": {
    "nbpresent": {
     "id": "67dfb313-3c7a-4319-b96c-df920b12439f"
    }
   },
   "source": [
    "After implementing above methods in client and server, server will return an empty list as response.\n",
    "###### Lets run section-2 of server and client notebooks.\n",
    "[Server](https://35.242.154.175:8888/notebooks/git/tmp/grpc-sqlite/Server.ipynb)\n",
    "[Client](https://35.242.154.175:8888/notebooks/git/tmp/grpc-sqlite/Client.ipynb)"
   ]
  },
  {
   "cell_type": "markdown",
   "metadata": {
    "nbpresent": {
     "id": "6eefac58-6c40-480d-a42a-c03d97140dac"
    }
   },
   "source": [
    "Now lets move towards getting the data from database and return that as response to client.\n",
    "We will create another python file in src folder named employee_orm.py. This file will contain the code as below mentioned: "
   ]
  },
  {
   "cell_type": "code",
   "execution_count": null,
   "metadata": {
    "collapsed": false,
    "nbpresent": {
     "id": "cdcba03e-b08a-4eac-9bcb-9a2a7884beb2"
    }
   },
   "outputs": [],
   "source": [
    "%%writefile src/employee_orm.py\n",
    "\n",
    "__author__ = 'Dheeraj Bhadani'\n",
    "\n",
    "import sqlite3\n",
    "\n",
    "from generated import employee_pb2\n",
    "\n",
    "class EmployeeORM(object):\n",
    "    def __init__(self):\n",
    "        pass\n",
    "\n",
    "    def run_query(self, query):\n",
    "        conn = sqlite3.connect('resource/employee.db')\n",
    "        curs = conn.cursor()\n",
    "        curs.execute(query)\n",
    "        return curs\n",
    "\n",
    "    def select(self, requestPB):\n",
    "        base_query = 'select * from EMPLOYEE'\n",
    "\n",
    "        if requestPB.ListFields():\n",
    "            where_clause = \" WHERE \"\n",
    "        condition_count = 0\n",
    "        for f in requestPB.ListFields():\n",
    "            if condition_count == 0:\n",
    "                where_clause += ' {0} = \"{1}\"'.format(f[0].name, f[1])\n",
    "            else:\n",
    "                where_clause += ' AND {0} = \"{1}\"'.format(f[0].name, f[1])\n",
    "            condition_count += 1\n",
    "\n",
    "        query = base_query + where_clause\n",
    "\n",
    "        query_result = self.run_query(query)\n",
    "\n",
    "        result = []\n",
    "        for cur in query_result:\n",
    "            response = employee_pb2.readResponsePB()\n",
    "            response.first_name = str(cur[1])\n",
    "            response.last_name = str(cur[2])\n",
    "            response.email = str(cur[3])\n",
    "            response.gender = str(cur[4])\n",
    "            response.ip_address = str(cur[5])\n",
    "            response.country = str(cur[6])\n",
    "            response.postcode = str(cur[7])\n",
    "            response.id = int(cur[0])\n",
    "            result.append(response)\n",
    "\n",
    "        response_list = employee_pb2.readResponseListPB()\n",
    "        response_list.employee.extend(result)\n",
    "        return response_list"
   ]
  },
  {
   "cell_type": "markdown",
   "metadata": {
    "nbpresent": {
     "id": "e90a6c79-7978-4688-b79b-4e4ac02f10d9"
    }
   },
   "source": [
    "Connection between orm and server can be implemented as mentioned below:"
   ]
  },
  {
   "cell_type": "code",
   "execution_count": null,
   "metadata": {
    "collapsed": true,
    "nbpresent": {
     "id": "7074b1e9-c819-4de0-8777-e70d72dac384"
    }
   },
   "outputs": [],
   "source": [
    "import employee_orm\n",
    "\n",
    "class EmployeeServicer(employee_pb2_grpc.EmployeeServicer):\n",
    "    def __init__(self):\n",
    "        self.__emp_orm = employee_orm.EmployeeORM()\n",
    "\n",
    "    def Read(self, request, context):\n",
    "        print(\"Read employee service called...\")\n",
    "        return self.__emp_orm.select(request)"
   ]
  },
  {
   "cell_type": "markdown",
   "metadata": {
    "nbpresent": {
     "id": "13e9ce72-8d63-4000-b314-d99f2235b427"
    }
   },
   "source": [
    "###### Lets run section-3 of server and client notebooks."
   ]
  },
  {
   "cell_type": "markdown",
   "metadata": {
    "nbpresent": {
     "id": "bd25f69d-e058-4072-97a0-f6ed0dd670a6"
    }
   },
   "source": [
    "To summarize, client sends a request containg protocol buffer in request. Server recieves the request and process the method. Send a request to ORM which get the data from database and return the protocol buffer object. Server respond to client with the protocol buffer object."
   ]
  },
  {
   "cell_type": "markdown",
   "metadata": {
    "nbpresent": {
     "id": "27f59dda-184e-47b3-b78a-b671cf04f319"
    }
   },
   "source": [
    "![alt text](grpc-sqlite.png \"Title\")"
   ]
  },
  {
   "cell_type": "markdown",
   "metadata": {
    "nbpresent": {
     "id": "0bf83d7c-19f3-4f09-b22b-69461299a82e"
    }
   },
   "source": [
    "Whats next>>\n",
    "implementing other rpc calls like:\n",
    "    rpc Create(creationRequestPB) returns (creationResponsePB) {}\n",
    "    rpc Update(updateRequestPB) returns (updateResponsePB) {}\n",
    "    rpc Delete(deleteRequestPB) returns (deleteResponsePB) {}"
   ]
  }
 ],
 "metadata": {
  "anaconda-cloud": {},
  "celltoolbar": "Slideshow",
  "kernelspec": {
   "display_name": "Python [conda root]",
   "language": "python",
   "name": "conda-root-py"
  },
  "language_info": {
   "codemirror_mode": {
    "name": "ipython",
    "version": 3
   },
   "file_extension": ".py",
   "mimetype": "text/x-python",
   "name": "python",
   "nbconvert_exporter": "python",
   "pygments_lexer": "ipython3",
   "version": "3.5.2"
  },
  "nbpresent": {
   "slides": {
    "1d0a522a-1bbf-446c-9ed2-36f2e6914300": {
     "id": "1d0a522a-1bbf-446c-9ed2-36f2e6914300",
     "prev": null,
     "regions": {
      "39640d4f-9a2d-4baa-b594-03365476a00f": {
       "attrs": {
        "height": 0.053049456642270974,
        "width": 0.8,
        "x": 0.1,
        "y": 0.3750055444666223
       },
       "content": {
        "cell": "d3b179e9-1f60-4846-9a20-394501e661c8",
        "part": "source"
       },
       "id": "39640d4f-9a2d-4baa-b594-03365476a00f"
      },
      "972d8dea-9ee9-4009-8ece-2ac483f63dcf": {
       "attrs": {
        "height": 0.4611222000443558,
        "width": 0.8,
        "x": 0.1,
        "y": 0.4388777999556443
       },
       "content": {
        "cell": "d3b179e9-1f60-4846-9a20-394501e661c8",
        "part": "outputs"
       },
       "id": "972d8dea-9ee9-4009-8ece-2ac483f63dcf"
      },
      "9fedd060-88da-458d-bec0-0b315ade8d40": {
       "attrs": {
        "height": 0.2690175205145265,
        "width": 0.7994011976047904,
        "x": 0.09780439121756487,
        "y": 0.09935684187181193
       },
       "content": {
        "cell": "8cdc0744-cb4e-4eac-b0e3-0e5a9b7b6fd1",
        "part": "source"
       },
       "id": "9fedd060-88da-458d-bec0-0b315ade8d40"
      }
     }
    },
    "84181186-2fe1-486c-82f2-a5e1ae43019f": {
     "id": "84181186-2fe1-486c-82f2-a5e1ae43019f",
     "prev": "c81d2195-83b2-40e4-ad60-61a33d28558a",
     "regions": {
      "a6026447-87bc-46a9-a7e8-675f2e521b88": {
       "attrs": {
        "height": 0.5125748502994012,
        "width": 0.8,
        "x": 0.1,
        "y": 0.15854956753160349
       },
       "content": {
        "cell": "61cf95aa-ab50-4e19-a4d3-ef2c6c6d8ac9",
        "part": "outputs"
       },
       "id": "a6026447-87bc-46a9-a7e8-675f2e521b88"
      },
      "de9daa6e-da9c-4c69-9efe-c96d4ec7a43d": {
       "attrs": {
        "height": 0.05788423153692615,
        "width": 0.7994011976047904,
        "x": 0.09780439121756487,
        "y": 0.09935684187181193
       },
       "content": {
        "cell": "61cf95aa-ab50-4e19-a4d3-ef2c6c6d8ac9",
        "part": "source"
       },
       "id": "de9daa6e-da9c-4c69-9efe-c96d4ec7a43d"
      },
      "e8c10814-774e-4672-941b-a6e6d83af939": {
       "attrs": {
        "height": 0.12047017076957203,
        "width": 0.8,
        "x": 0.1,
        "y": 0.779529829230428
       },
       "content": {
        "cell": "1e9a2f7e-c159-434f-a815-fac379a42a21",
        "part": "source"
       },
       "id": "e8c10814-774e-4672-941b-a6e6d83af939"
      }
     }
    },
    "c81d2195-83b2-40e4-ad60-61a33d28558a": {
     "id": "c81d2195-83b2-40e4-ad60-61a33d28558a",
     "prev": "1d0a522a-1bbf-446c-9ed2-36f2e6914300",
     "regions": {
      "449c2efe-f4c8-4356-b763-5e734bc446c8": {
       "attrs": {
        "height": 0.1577289864715014,
        "width": 0.8,
        "x": 0.1,
        "y": 0.15145265025504548
       },
       "content": {
        "cell": "cd962324-9a89-4c4c-b607-b1e5fad482c4",
        "part": "outputs"
       },
       "id": "449c2efe-f4c8-4356-b763-5e734bc446c8"
      },
      "52e8c0f7-5b7c-4769-942c-887772dd3fdf": {
       "attrs": {
        "height": 0.4717675759591928,
        "width": 0.8,
        "x": 0.1,
        "y": 0.4282324240408073
       },
       "content": {
        "cell": "02fb14bb-0c0f-49c2-a613-a83a8d1a86ed",
        "part": "outputs"
       },
       "id": "52e8c0f7-5b7c-4769-942c-887772dd3fdf"
      },
      "92ba0afe-c18a-4541-b650-c273091f0d6b": {
       "attrs": {
        "height": 0.08675981370592155,
        "width": 0.8,
        "x": 0.09800399201596799,
        "y": 0.3395209580838323
       },
       "content": {
        "cell": "02fb14bb-0c0f-49c2-a613-a83a8d1a86ed",
        "part": "source"
       },
       "id": "92ba0afe-c18a-4541-b650-c273091f0d6b"
      },
      "c318f1ec-376b-45b1-aecc-a2cd818651a5": {
       "attrs": {
        "height": 0.049013084941228656,
        "width": 0.7994011976047904,
        "x": 0.09880239520958084,
        "y": 0.09935684187181193
       },
       "content": {
        "cell": "cd962324-9a89-4c4c-b607-b1e5fad482c4",
        "part": "source"
       },
       "id": "c318f1ec-376b-45b1-aecc-a2cd818651a5"
      }
     }
    }
   },
   "themes": {
    "default": "7ef2f9c2-ae60-4042-8c92-eacbf01151f8",
    "theme": {}
   }
  }
 },
 "nbformat": 4,
 "nbformat_minor": 2
}
