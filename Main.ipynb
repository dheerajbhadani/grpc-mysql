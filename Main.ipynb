{
 "cells": [
  {
   "cell_type": "markdown",
   "metadata": {
    "nbpresent": {
     "id": "1e4a00be-a6fb-4550-ab72-972fdb4e7ff7"
    },
    "slideshow": {
     "slide_type": "slide"
    }
   },
   "source": [
    "### Hello,\n",
    "\n",
    "### This tutorial is focusing on understanding connection between grpc and sql (we are going to use sqlite for this tutorial). grpc can be implemented in various languages. we are using python for this tutorial. Details of grpc can be found at https://grpc.io\n",
    "\n",
    "### Let's begin with installation of grpc packages\n",
    "\n",
    "### Run clean to make sure that the generated data and other tutorial related data is removed."
   ]
  },
  {
   "cell_type": "code",
   "execution_count": null,
   "metadata": {
    "collapsed": false,
    "nbpresent": {
     "id": "d3b179e9-1f60-4846-9a20-394501e661c8"
    },
    "scrolled": true,
    "slideshow": {
     "slide_type": "slide"
    }
   },
   "outputs": [],
   "source": [
    "!make clean"
   ]
  },
  {
   "cell_type": "markdown",
   "metadata": {
    "nbpresent": {
     "id": "8546493f-8da5-4071-a1d3-79aea53663f3"
    }
   },
   "source": [
    "### Create virtual environment:"
   ]
  },
  {
   "cell_type": "code",
   "execution_count": null,
   "metadata": {
    "collapsed": false,
    "nbpresent": {
     "id": "cd962324-9a89-4c4c-b607-b1e5fad482c4"
    },
    "scrolled": false,
    "slideshow": {
     "slide_type": "slide"
    }
   },
   "outputs": [],
   "source": [
    "!python2.7 -m virtualenv .venv"
   ]
  },
  {
   "cell_type": "markdown",
   "metadata": {
    "nbpresent": {
     "id": "2e1cf577-61d4-42c0-8d10-dc23e47ff418"
    }
   },
   "source": [
    "### Create directory structure and list the path for reference purpose:"
   ]
  },
  {
   "cell_type": "code",
   "execution_count": null,
   "metadata": {
    "collapsed": false,
    "nbpresent": {
     "id": "02fb14bb-0c0f-49c2-a613-a83a8d1a86ed"
    },
    "scrolled": true,
    "slideshow": {
     "slide_type": "slide"
    }
   },
   "outputs": [],
   "source": [
    "!mkdir protos generated src\n",
    "!touch generated/__init__.py\n",
    "!find . -not -path '*/\\.*'"
   ]
  },
  {
   "cell_type": "code",
   "execution_count": null,
   "metadata": {
    "collapsed": false,
    "nbpresent": {
     "id": "61cf95aa-ab50-4e19-a4d3-ef2c6c6d8ac9"
    },
    "scrolled": false,
    "slideshow": {
     "slide_type": "slide"
    }
   },
   "outputs": [],
   "source": [
    "!.venv/bin/pip install grpcio grpcio-tools"
   ]
  },
  {
   "cell_type": "markdown",
   "metadata": {
    "nbpresent": {
     "id": "1e9a2f7e-c159-434f-a815-fac379a42a21"
    },
    "slideshow": {
     "slide_type": "slide"
    }
   },
   "source": [
    "### After successful installation of the grpc packages, we will start creating the protocol buffer file which contains declaration of service interface and the message which will be used for the client server communication.\n",
    "\n",
    "### Create proto file titled employee.proto with the below mentioned content."
   ]
  },
  {
   "cell_type": "code",
   "execution_count": null,
   "metadata": {
    "collapsed": false,
    "nbpresent": {
     "id": "23c6069b-a99e-440a-baab-19a4eaa85309"
    },
    "scrolled": true
   },
   "outputs": [],
   "source": [
    "%%writefile protos/employee.proto\n",
    "\n",
    "syntax = \"proto3\";\n",
    "\n",
    "package employee;\n",
    "\n",
    "// Interface exported by the server.\n",
    "service Employee {\n",
    "    rpc Read(readRequestPB) returns (readResponseListPB) {}\n",
    "}\n",
    "\n",
    "message readRequestPB {\n",
    "    string first_name = 1;\n",
    "    string last_name = 2;\n",
    "    string email = 3;\n",
    "    string gender = 4;\n",
    "    string ip_address = 5;\n",
    "    string country = 6;\n",
    "    string postcode = 7;\n",
    "}\n",
    "\n",
    "message readResponsePB {\n",
    "    string first_name = 1;\n",
    "    string last_name = 2;\n",
    "    string email = 3;\n",
    "    string gender = 4;\n",
    "    string ip_address = 5;\n",
    "    string country = 6;\n",
    "    string postcode = 7;\n",
    "    int32 id = 8;\n",
    "}\n",
    "\n",
    "message readResponseListPB {\n",
    "    repeated readResponsePB employee = 1;\n",
    "}"
   ]
  },
  {
   "cell_type": "markdown",
   "metadata": {
    "nbpresent": {
     "id": "01b4be73-9036-4814-8908-7fb5051cef14"
    }
   },
   "source": [
    "### Compile proto file and generate stub for python. Here is the command to generate:"
   ]
  },
  {
   "cell_type": "code",
   "execution_count": null,
   "metadata": {
    "collapsed": false,
    "nbpresent": {
     "id": "74df27b6-aaa2-43d5-bda5-3ad7ae95a0b2"
    }
   },
   "outputs": [],
   "source": [
    "!./.venv/bin/python -m grpc_tools.protoc -I ./protos/. --python_out=./generated/. --grpc_python_out=./generated/. ./protos/employee.proto"
   ]
  },
  {
   "cell_type": "markdown",
   "metadata": {
    "nbpresent": {
     "id": "ca96b4c9-2017-4f4c-a0f3-88300bb90781"
    }
   },
   "source": [
    "### This will generate two files(employee_pb2.py and employee_pb2_grpc.py) under generated folder. "
   ]
  },
  {
   "cell_type": "code",
   "execution_count": null,
   "metadata": {
    "collapsed": false,
    "nbpresent": {
     "id": "a44a727a-ce4e-4c64-bdf1-3865e5dcfc5e"
    },
    "scrolled": false
   },
   "outputs": [],
   "source": [
    "!ls -al generated"
   ]
  },
  {
   "cell_type": "code",
   "execution_count": null,
   "metadata": {
    "collapsed": false,
    "nbpresent": {
     "id": "f0b1eeb9-92fd-42e6-aba9-e824a7150676"
    },
    "scrolled": false,
    "slideshow": {
     "slide_type": "slide"
    }
   },
   "outputs": [],
   "source": [
    "%cat generated/employee_pb2_grpc.py"
   ]
  },
  {
   "cell_type": "code",
   "execution_count": null,
   "metadata": {
    "collapsed": false,
    "nbpresent": {
     "id": "077d6f73-39ee-4b65-8947-19c023bccb03"
    },
    "scrolled": false,
    "slideshow": {
     "slide_type": "slide"
    }
   },
   "outputs": [],
   "source": [
    "%cat generated/employee_pb2.py"
   ]
  },
  {
   "cell_type": "markdown",
   "metadata": {
    "nbpresent": {
     "id": "68d57e61-e3cd-429b-9732-3ede3a46453a"
    }
   },
   "source": [
    "### Now we will start implementing server. create a file under src folder named server.py with the following content:"
   ]
  },
  {
   "cell_type": "code",
   "execution_count": null,
   "metadata": {
    "collapsed": false,
    "nbpresent": {
     "id": "100f45c5-7af9-4a9d-b285-17ced767b3e4"
    },
    "slideshow": {
     "slide_type": "-"
    }
   },
   "outputs": [],
   "source": [
    "%%writefile src/server.py\n",
    "\n",
    "from __future__ import print_function\n",
    "\n",
    "import time\n",
    "import grpc\n",
    "\n",
    "from generated import employee_pb2_grpc\n",
    "from concurrent import futures\n",
    "\n",
    "_ONE_DAY_IN_SECONDS = 60 * 60 * 24\n",
    "\n",
    "class EmployeeServicer(employee_pb2_grpc.EmployeeServicer):\n",
    "    def __init__(self):\n",
    "        pass\n",
    "    \n",
    "def serve():\n",
    "    server = grpc.server(futures.ThreadPoolExecutor(max_workers=10))\n",
    "    employee_pb2_grpc.add_EmployeeServicer_to_server(EmployeeServicer(), server)\n",
    "    server.add_insecure_port('[::]:40084')\n",
    "    server.start()\n",
    "    print(\"Employee server running on 40084...\")\n",
    "    try:\n",
    "        while True:\n",
    "            time.sleep(_ONE_DAY_IN_SECONDS)\n",
    "    except:\n",
    "        server.stop(0)\n",
    "\n",
    "if __name__ == '__main__':\n",
    "    serve()"
   ]
  },
  {
   "cell_type": "markdown",
   "metadata": {
    "nbpresent": {
     "id": "d02500e1-a2e1-441c-845b-d4f9db88ce39"
    }
   },
   "source": [
    "### Client code is as mentioned below in client.py"
   ]
  },
  {
   "cell_type": "code",
   "execution_count": null,
   "metadata": {
    "collapsed": false,
    "nbpresent": {
     "id": "30f369f5-1184-47db-bae2-c3c87b1fbdbc"
    }
   },
   "outputs": [],
   "source": [
    "%%writefile src/client.py\n",
    "\n",
    "from __future__ import print_function\n",
    "\n",
    "import time\n",
    "import grpc\n",
    "\n",
    "from generated import employee_pb2, employee_pb2_grpc\n",
    "\n",
    "class EmployeeClient(object):\n",
    "    def __init__(self):\n",
    "        pass\n",
    "\n",
    "def run():\n",
    "    channel = grpc.insecure_channel('localhost:40084')\n",
    "    stub = employee_pb2_grpc.EmployeeStub(channel)\n",
    "    print(stub)\n",
    "\n",
    "if __name__ == '__main__':\n",
    "    run()"
   ]
  },
  {
   "cell_type": "markdown",
   "metadata": {
    "nbpresent": {
     "id": "a447869c-cf20-468b-ae21-1cc70b0a15a2"
    }
   },
   "source": [
    "### So far we have created server and client file with the basic connection. \n",
    "###### Lets run section-1 of server and client notebooks.\n",
    "[Server](./Server.ipynb)\n",
    "[Client](./Client.ipynb)"
   ]
  },
  {
   "cell_type": "markdown",
   "metadata": {
    "nbpresent": {
     "id": "570d7f22-c01f-4838-84a6-eb0a1f95a724"
    }
   },
   "source": [
    "### Client is not calling anything from server yet. So let's implement that..."
   ]
  },
  {
   "cell_type": "code",
   "execution_count": null,
   "metadata": {
    "collapsed": true,
    "nbpresent": {
     "id": "c8e9d0e6-d285-48ac-9ddc-a89111a9e37e"
    }
   },
   "outputs": [],
   "source": [
    "class EmployeeServicer(employee_pb2_grpc.EmployeeServicer):\n",
    "    def Read(self, request, context):\n",
    "        print(\"Read employee service called...\")\n",
    "        response_list = employee_pb2.readResponseListPB()\n",
    "        return response_list"
   ]
  },
  {
   "cell_type": "code",
   "execution_count": null,
   "metadata": {
    "collapsed": true,
    "nbpresent": {
     "id": "4173047d-a37d-4777-98bf-4d5d0ba4bfe8"
    }
   },
   "outputs": [],
   "source": [
    "class EmployeeClient(object):\n",
    "    def __init__(self):\n",
    "        pass\n",
    "\n",
    "    def get_employee(self, stub):\n",
    "        read_request = employee_pb2.readRequestPB()\n",
    "        read_request.first_name = \"Pauli\"\n",
    "        return stub.Read(read_request)\n",
    "    \n",
    "def run():\n",
    "    channel = grpc.insecure_channel('localhost:40084')\n",
    "    stub = employee_pb2_grpc.EmployeeStub(channel)\n",
    "\n",
    "    emp_client = EmployeeClient()\n",
    "    print(emp_client.get_employee(stub))"
   ]
  },
  {
   "cell_type": "markdown",
   "metadata": {
    "nbpresent": {
     "id": "67dfb313-3c7a-4319-b96c-df920b12439f"
    }
   },
   "source": [
    "### After implementing above methods in client and server, server will return an empty list as response.\n",
    "###### Lets run section-2 of server and client notebooks."
   ]
  },
  {
   "cell_type": "markdown",
   "metadata": {
    "nbpresent": {
     "id": "6eefac58-6c40-480d-a42a-c03d97140dac"
    }
   },
   "source": [
    "### Now lets move towards getting the data from database and return that as response to client. \n",
    "\n",
    "### We will create another python file in src folder named employee_orm.py. \n",
    "\n",
    "### This file will contain the code as below mentioned: "
   ]
  },
  {
   "cell_type": "code",
   "execution_count": null,
   "metadata": {
    "collapsed": false,
    "nbpresent": {
     "id": "cdcba03e-b08a-4eac-9bcb-9a2a7884beb2"
    }
   },
   "outputs": [],
   "source": [
    "%%writefile src/employee_orm.py\n",
    "import sqlite3\n",
    "from generated import employee_pb2\n",
    "\n",
    "class EmployeeORM(object):\n",
    "    def __init__(self):\n",
    "        pass\n",
    "\n",
    "    def run_query(self, query):\n",
    "        conn = sqlite3.connect('resource/employee.db')\n",
    "        curs = conn.cursor()\n",
    "        curs.execute(query)\n",
    "        return curs\n",
    "\n",
    "    def select(self, requestPB):\n",
    "        base_query = 'select * from EMPLOYEE'\n",
    "        if requestPB.ListFields():\n",
    "            where_clause = \" WHERE \"\n",
    "        condition_count = 0\n",
    "        for f in requestPB.ListFields():\n",
    "            if condition_count == 0:\n",
    "                where_clause += ' {0} = \"{1}\"'.format(f[0].name, f[1])\n",
    "            else:\n",
    "                where_clause += ' AND {0} = \"{1}\"'.format(f[0].name, f[1])\n",
    "            condition_count += 1\n",
    "\n",
    "        query = base_query + where_clause\n",
    "        query_result = self.run_query(query)\n",
    "        result = []\n",
    "        for cur in query_result:\n",
    "            response = employee_pb2.readResponsePB()\n",
    "            response.first_name = str(cur[1])\n",
    "            response.last_name = str(cur[2])\n",
    "            response.email = str(cur[3])\n",
    "            response.gender = str(cur[4])\n",
    "            response.ip_address = str(cur[5])\n",
    "            response.country = str(cur[6])\n",
    "            response.postcode = str(cur[7])\n",
    "            response.id = int(cur[0])\n",
    "            result.append(response)\n",
    "\n",
    "        response_list = employee_pb2.readResponseListPB()\n",
    "        response_list.employee.extend(result)\n",
    "        return response_list"
   ]
  },
  {
   "cell_type": "markdown",
   "metadata": {
    "nbpresent": {
     "id": "e90a6c79-7978-4688-b79b-4e4ac02f10d9"
    }
   },
   "source": [
    "### Connection between orm and server can be implemented as mentioned below:"
   ]
  },
  {
   "cell_type": "code",
   "execution_count": null,
   "metadata": {
    "collapsed": true,
    "nbpresent": {
     "id": "7074b1e9-c819-4de0-8777-e70d72dac384"
    }
   },
   "outputs": [],
   "source": [
    "import employee_orm\n",
    "\n",
    "class EmployeeServicer(employee_pb2_grpc.EmployeeServicer):\n",
    "    def __init__(self):\n",
    "        self.__emp_orm = employee_orm.EmployeeORM()\n",
    "\n",
    "    def Read(self, request, context):\n",
    "        print(\"Read employee service called...\")\n",
    "        return self.__emp_orm.select(request)"
   ]
  },
  {
   "cell_type": "markdown",
   "metadata": {
    "nbpresent": {
     "id": "13e9ce72-8d63-4000-b314-d99f2235b427"
    }
   },
   "source": [
    "###### Lets run section-3 of server and client notebooks."
   ]
  },
  {
   "cell_type": "markdown",
   "metadata": {
    "nbpresent": {
     "id": "bd25f69d-e058-4072-97a0-f6ed0dd670a6"
    }
   },
   "source": [
    "### To summarize, client sends a request containg protocol buffer in request. Server recieves the request and process the method. Send a request to ORM which get the data from database and return the protocol buffer object. Server respond to client with the protocol buffer object."
   ]
  },
  {
   "cell_type": "markdown",
   "metadata": {
    "nbpresent": {
     "id": "27f59dda-184e-47b3-b78a-b671cf04f319"
    }
   },
   "source": [
    "![alt text](grpc-sqlite.png \"Title\")"
   ]
  },
  {
   "cell_type": "markdown",
   "metadata": {
    "nbpresent": {
     "id": "0bf83d7c-19f3-4f09-b22b-69461299a82e"
    }
   },
   "source": [
    "### Whats next>>\n",
    "*implementing other rpc calls like:\n",
    "1. rpc Create(creationRequestPB) returns (creationResponsePB) {}\n",
    "2. rpc Update(updateRequestPB) returns (updateResponsePB) {}\n",
    "3. rpc Delete(deleteRequestPB) returns (deleteResponsePB) {}"
   ]
  },
  {
   "cell_type": "markdown",
   "metadata": {
    "nbpresent": {
     "id": "2f5dfbdd-6443-40f9-82c8-920885334ce6"
    }
   },
   "source": [
    "# Back to keynote"
   ]
  }
 ],
 "metadata": {
  "anaconda-cloud": {},
  "kernelspec": {
   "display_name": "Python [conda root]",
   "language": "python",
   "name": "conda-root-py"
  },
  "language_info": {
   "codemirror_mode": {
    "name": "ipython",
    "version": 3
   },
   "file_extension": ".py",
   "mimetype": "text/x-python",
   "name": "python",
   "nbconvert_exporter": "python",
   "pygments_lexer": "ipython3",
   "version": "3.5.2"
  },
  "nbpresent": {
   "slides": {
    "028ed36f-3142-43c1-bae6-edc8241b60e9": {
     "id": "028ed36f-3142-43c1-bae6-edc8241b60e9",
     "prev": "1045be6c-170b-4afc-a127-eeda7ae12c8e",
     "regions": {
      "1a096417-8b13-41c4-a975-aec0fb2e8353": {
       "attrs": {
        "height": 0.05482368596141057,
        "width": 0.8,
        "x": 0.1,
        "y": 0.46371701042359725
       },
       "content": {
        "cell": "2e1cf577-61d4-42c0-8d10-dc23e47ff418",
        "part": "whole"
       },
       "id": "1a096417-8b13-41c4-a975-aec0fb2e8353"
      },
      "4bc1ee1d-8cd8-4b12-a608-6984df57462b": {
       "attrs": {
        "height": 0.06724329119538708,
        "width": 0.8,
        "x": 0.1,
        "y": 0.1
       },
       "content": {
        "cell": "8546493f-8da5-4071-a1d3-79aea53663f3",
        "part": "whole"
       },
       "id": "4bc1ee1d-8cd8-4b12-a608-6984df57462b"
      },
      "79417204-e128-4fed-a2d5-178136bb954b": {
       "attrs": {
        "height": 0.27886449323575074,
        "width": 0.8,
        "x": 0.1,
        "y": 0.17983953449900203
       },
       "content": {
        "cell": "cd962324-9a89-4c4c-b607-b1e5fad482c4",
        "part": "whole"
       },
       "id": "79417204-e128-4fed-a2d5-178136bb954b"
      },
      "8018dd46-90c2-4865-8f48-79556e97d3d2": {
       "attrs": {
        "height": 0.3738744732756709,
        "width": 0.7992015968063871,
        "x": 0.09901493729341322,
        "y": 0.5296509786329562
       },
       "content": {
        "cell": "02fb14bb-0c0f-49c2-a613-a83a8d1a86ed",
        "part": "whole"
       },
       "id": "8018dd46-90c2-4865-8f48-79556e97d3d2"
      }
     }
    },
    "0462ffad-4113-4d08-a9a6-d67a5aad2865": {
     "id": "0462ffad-4113-4d08-a9a6-d67a5aad2865",
     "prev": "028ed36f-3142-43c1-bae6-edc8241b60e9",
     "regions": {
      "4e0b6404-28a8-4383-a604-7aa2b98296d3": {
       "attrs": {
        "height": 0.2,
        "width": 0.7992015968063871,
        "x": 0.1,
        "y": 0.7
       },
       "content": {
        "cell": "1e9a2f7e-c159-434f-a815-fac379a42a21",
        "part": "whole"
       },
       "id": "4e0b6404-28a8-4383-a604-7aa2b98296d3"
      },
      "9217b0ea-54f7-49b0-a248-0212827f9656": {
       "attrs": {
        "height": 0.6,
        "width": 0.8,
        "x": 0.1,
        "y": 0.1
       },
       "content": {
        "cell": "61cf95aa-ab50-4e19-a4d3-ef2c6c6d8ac9",
        "part": "whole"
       },
       "id": "9217b0ea-54f7-49b0-a248-0212827f9656"
      }
     }
    },
    "1045be6c-170b-4afc-a127-eeda7ae12c8e": {
     "id": "1045be6c-170b-4afc-a127-eeda7ae12c8e",
     "prev": null,
     "regions": {
      "2be904c4-6692-4eba-86cb-2e8efb55f80f": {
       "attrs": {
        "height": 0.2664448880017742,
        "width": 0.8,
        "x": 0.1,
        "y": 0.09645154136172102
       },
       "content": {
        "cell": "1e4a00be-a6fb-4550-ab72-972fdb4e7ff7",
        "part": "whole"
       },
       "id": "2be904c4-6692-4eba-86cb-2e8efb55f80f"
      },
      "8d984b99-0313-4937-9fd6-135802a6359a": {
       "attrs": {
        "height": 0.5229097360833889,
        "width": 0.8001996007984031,
        "x": 0.10090656166067868,
        "y": 0.37886449323575067
       },
       "content": {
        "cell": "d3b179e9-1f60-4846-9a20-394501e661c8",
        "part": "whole"
       },
       "id": "8d984b99-0313-4937-9fd6-135802a6359a"
      }
     }
    },
    "2c15f7d6-3d2b-4997-90df-943621af1a77": {
     "id": "2c15f7d6-3d2b-4997-90df-943621af1a77",
     "prev": "0462ffad-4113-4d08-a9a6-d67a5aad2865",
     "regions": {
      "5b05c870-5112-4889-871d-1eae63e5cca8": {
       "attrs": {
        "height": 0.8271013528498559,
        "width": 0.8,
        "x": 0.1,
        "y": 0.1
       },
       "content": {
        "cell": "23c6069b-a99e-440a-baab-19a4eaa85309",
        "part": "whole"
       },
       "id": "5b05c870-5112-4889-871d-1eae63e5cca8"
      }
     }
    },
    "307a7770-79de-454d-bd5c-599b3dddfe62": {
     "id": "307a7770-79de-454d-bd5c-599b3dddfe62",
     "layout": "manual",
     "prev": "ab8718e3-f37c-49ed-8ca5-26b862075225",
     "regions": {
      "be37011d-6f26-4956-b201-f2e229335e8e": {
       "attrs": {
        "height": 0.324018629407851,
        "pad": 0.01,
        "treemap:weight": 1,
        "width": 0.5658682634730539,
        "x": 0.17964071856287425,
        "y": 0.3122643601685518
       },
       "content": {
        "cell": "2f5dfbdd-6443-40f9-82c8-920885334ce6",
        "part": "whole"
       },
       "id": "be37011d-6f26-4956-b201-f2e229335e8e"
      }
     }
    },
    "38202a19-c4c0-4801-a55f-471c5a50cdf3": {
     "id": "38202a19-c4c0-4801-a55f-471c5a50cdf3",
     "prev": "2c15f7d6-3d2b-4997-90df-943621af1a77",
     "regions": {
      "08cd7807-5db7-4418-94ad-e1da4e86a28f": {
       "attrs": {
        "height": 0.06240851630073189,
        "width": 0.8,
        "x": 0.1009980039920159,
        "y": 0.19758261255267245
       },
       "content": {
        "cell": "01b4be73-9036-4814-8908-7fb5051cef14",
        "part": "whole"
       },
       "id": "08cd7807-5db7-4418-94ad-e1da4e86a28f"
      },
      "374bffc4-1a0d-40d5-90ae-50cfa7b26769": {
       "attrs": {
        "height": 0.07225548902195611,
        "width": 0.7992015968063871,
        "x": 0.09800399201596811,
        "y": 0.3451541361721001
       },
       "content": {
        "cell": "74df27b6-aaa2-43d5-bda5-3ad7ae95a0b2",
        "part": "whole"
       },
       "id": "374bffc4-1a0d-40d5-90ae-50cfa7b26769"
      },
      "4c9e73f3-a15e-4189-aea9-0d0e39682acb": {
       "attrs": {
        "height": 0.08112663561765363,
        "width": 0.7982035928143713,
        "x": 0.09880239520958084,
        "y": 0.4498336660013306
       },
       "content": {
        "cell": "ca96b4c9-2017-4f4c-a0f3-88300bb90781",
        "part": "whole"
       },
       "id": "4c9e73f3-a15e-4189-aea9-0d0e39682acb"
      },
      "eddefd67-4d45-44ae-958b-9e7e0bd35b4c": {
       "attrs": {
        "height": 0.1612774451097805,
        "width": 0.8,
        "x": 0.09700598802395202,
        "y": 0.5719752124366456
       },
       "content": {
        "cell": "a44a727a-ce4e-4c64-bdf1-3865e5dcfc5e",
        "part": "whole"
       },
       "id": "eddefd67-4d45-44ae-958b-9e7e0bd35b4c"
      }
     }
    },
    "422bbb7e-922c-4b8e-aee0-e97dd603595b": {
     "id": "422bbb7e-922c-4b8e-aee0-e97dd603595b",
     "prev": "c842f66e-8dea-43a7-85cb-5ce09b58d8dd",
     "regions": {
      "2c08a6ab-8cdc-4b15-a17b-eef4a6c7c3f2": {
       "attrs": {
        "height": 0.4146817476158791,
        "width": 0.4,
        "x": 0.1,
        "y": 0.2724107340873807
       },
       "content": {
        "cell": "c8e9d0e6-d285-48ac-9ddc-a89111a9e37e",
        "part": "whole"
       },
       "id": "2c08a6ab-8cdc-4b15-a17b-eef4a6c7c3f2"
      },
      "65dca502-36d4-4300-930c-2fd99630426b": {
       "attrs": {
        "height": 0.07837658017298738,
        "width": 0.8,
        "x": 0.09800399201596799,
        "y": 0.18516300731869595
       },
       "content": {
        "cell": "570d7f22-c01f-4838-84a6-eb0a1f95a724",
        "part": "whole"
       },
       "id": "65dca502-36d4-4300-930c-2fd99630426b"
      },
      "b2464237-1e33-4e24-b573-6cb79b6d6c17": {
       "attrs": {
        "height": 0.11159902417387453,
        "width": 0.8,
        "x": 0.1009980039920159,
        "y": 0.7014637391882901
       },
       "content": {
        "cell": "67dfb313-3c7a-4319-b96c-df920b12439f",
        "part": "whole"
       },
       "id": "b2464237-1e33-4e24-b573-6cb79b6d6c17"
      },
      "e85b7853-6f20-42da-935b-91bc4a4b347e": {
       "attrs": {
        "height": 0.42177866489243737,
        "width": 0.4,
        "x": 0.497005988023952,
        "y": 0.27063650476824125
       },
       "content": {
        "cell": "4173047d-a37d-4777-98bf-4d5d0ba4bfe8",
        "part": "whole"
       },
       "id": "e85b7853-6f20-42da-935b-91bc4a4b347e"
      }
     }
    },
    "4dc04537-073b-4a02-8614-ce72b0093f62": {
     "id": "4dc04537-073b-4a02-8614-ce72b0093f62",
     "prev": "38202a19-c4c0-4801-a55f-471c5a50cdf3",
     "regions": {
      "881e3c66-2988-4627-a43a-4b8e2bf6d068": {
       "attrs": {
        "height": 0.8395209580838323,
        "width": 0.8,
        "x": 0.1,
        "y": 0.1
       },
       "content": {
        "cell": "f0b1eeb9-92fd-42e6-aba9-e824a7150676",
        "part": "whole"
       },
       "id": "881e3c66-2988-4627-a43a-4b8e2bf6d068"
      }
     }
    },
    "7117d6f3-027b-4848-9654-a791f394b0ac": {
     "id": "7117d6f3-027b-4848-9654-a791f394b0ac",
     "prev": "4dc04537-073b-4a02-8614-ce72b0093f62",
     "regions": {
      "36338b31-f271-4445-aea9-5a533904d897": {
       "attrs": {
        "height": 0.8040363717010424,
        "width": 0.8,
        "x": 0.1,
        "y": 0.1
       },
       "content": {
        "cell": "077d6f73-39ee-4b65-8947-19c023bccb03",
        "part": "whole"
       },
       "id": "36338b31-f271-4445-aea9-5a533904d897"
      }
     }
    },
    "79cd7596-8f86-498c-bfd0-d735eeab009a": {
     "id": "79cd7596-8f86-498c-bfd0-d735eeab009a",
     "prev": "7117d6f3-027b-4848-9654-a791f394b0ac",
     "regions": {
      "927930e4-56ad-4124-a56b-3fedf314255a": {
       "attrs": {
        "height": 0.08822355289421159,
        "width": 0.7982035928143713,
        "x": 0.10099800399201596,
        "y": 0.09853626081170988
       },
       "content": {
        "cell": "68d57e61-e3cd-429b-9732-3ede3a46453a",
        "part": "whole"
       },
       "id": "927930e4-56ad-4124-a56b-3fedf314255a"
      },
      "e4414efa-f3a0-4bbd-9218-f0fd27a2a04d": {
       "attrs": {
        "height": 0.695808383233533,
        "width": 0.8,
        "x": 0.10299401197604784,
        "y": 0.20113107119095144
       },
       "content": {
        "cell": "100f45c5-7af9-4a9d-b285-17ced767b3e4",
        "part": "whole"
       },
       "id": "e4414efa-f3a0-4bbd-9218-f0fd27a2a04d"
      }
     }
    },
    "7a5d2307-be10-4e7e-8fa5-7039dbb3beca": {
     "id": "7a5d2307-be10-4e7e-8fa5-7039dbb3beca",
     "prev": "422bbb7e-922c-4b8e-aee0-e97dd603595b",
     "regions": {
      "463ce441-0b4a-4ea5-ad2c-18317edd4cbf": {
       "attrs": {
        "height": 0.214193834553116,
        "width": 0.369061876247505,
        "x": 0.034131736526946094,
        "y": 0.016921712131292933
       },
       "content": {
        "cell": "6eefac58-6c40-480d-a42a-c03d97140dac",
        "part": "whole"
       },
       "id": "463ce441-0b4a-4ea5-ad2c-18317edd4cbf"
      },
      "b8608365-3e56-41bc-a7cb-a756fb3a8eb0": {
       "attrs": {
        "height": 0.8448436460412508,
        "width": 0.5085828343313373,
        "x": 0.41240653975249497,
        "y": 0.009514304723885583
       },
       "content": {
        "cell": "cdcba03e-b08a-4eac-9bcb-9a2a7884beb2",
        "part": "whole"
       },
       "id": "b8608365-3e56-41bc-a7cb-a756fb3a8eb0"
      }
     }
    },
    "ab8718e3-f37c-49ed-8ca5-26b862075225": {
     "id": "ab8718e3-f37c-49ed-8ca5-26b862075225",
     "prev": "b5d519f7-1fcd-43b5-a4c8-ba9d6d0ed46c",
     "regions": {
      "9a4f58f0-c2e8-4d92-a608-3af6af08f2ea": {
       "attrs": {
        "height": 0.6,
        "width": 0.8059880239520958,
        "x": 0.09700598802395202,
        "y": 0.128387669106232
       },
       "content": {
        "cell": "27f59dda-184e-47b3-b78a-b671cf04f319",
        "part": "whole"
       },
       "id": "9a4f58f0-c2e8-4d92-a608-3af6af08f2ea"
      },
      "b1ca125b-4433-410d-a20e-193fd121f25e": {
       "attrs": {
        "height": 0.1414504324683966,
        "width": 0.7962075848303393,
        "x": 0.1027944111776447,
        "y": 0.7904856952761145
       },
       "content": {
        "cell": "0bf83d7c-19f3-4f09-b22b-69461299a82e",
        "part": "whole"
       },
       "id": "b1ca125b-4433-410d-a20e-193fd121f25e"
      },
      "b7df8e2a-0afe-494d-a502-2783de9e81e2": {
       "attrs": {
        "height": 0.08822355289421159,
        "width": 0.8011976047904191,
        "x": 0.09900199600798402,
        "y": 0.03466400532268792
       },
       "content": {
        "cell": "bd25f69d-e058-4072-97a0-f6ed0dd670a6",
        "part": "whole"
       },
       "id": "b7df8e2a-0afe-494d-a502-2783de9e81e2"
      }
     }
    },
    "b5d519f7-1fcd-43b5-a4c8-ba9d6d0ed46c": {
     "id": "b5d519f7-1fcd-43b5-a4c8-ba9d6d0ed46c",
     "prev": "7a5d2307-be10-4e7e-8fa5-7039dbb3beca",
     "regions": {
      "404394b3-360c-4cfc-8116-3aa2b6479a0c": {
       "attrs": {
        "height": 0.39596362829895765,
        "width": 0.8,
        "x": 0.09900199600798408,
        "y": 0.30403637170104236
       },
       "content": {
        "cell": "7074b1e9-c819-4de0-8777-e70d72dac384",
        "part": "whole"
       },
       "id": "404394b3-360c-4cfc-8116-3aa2b6479a0c"
      },
      "7c0dd513-d71d-4d64-b36b-c08de494f8ad": {
       "attrs": {
        "height": 0.2,
        "width": 0.7982035928143713,
        "x": 0.10099800399201596,
        "y": 0.09676203149257039
       },
       "content": {
        "cell": "e90a6c79-7978-4688-b79b-4e4ac02f10d9",
        "part": "whole"
       },
       "id": "7c0dd513-d71d-4d64-b36b-c08de494f8ad"
      },
      "fcda66df-7b93-4b92-b68c-0ece62c01b80": {
       "attrs": {
        "height": 0.2,
        "width": 0.7992015968063871,
        "x": 0.10079840319361277,
        "y": 0.7
       },
       "content": {
        "cell": "13e9ce72-8d63-4000-b314-d99f2235b427",
        "part": "whole"
       },
       "id": "fcda66df-7b93-4b92-b68c-0ece62c01b80"
      }
     }
    },
    "c842f66e-8dea-43a7-85cb-5ce09b58d8dd": {
     "id": "c842f66e-8dea-43a7-85cb-5ce09b58d8dd",
     "prev": "ef39c0a3-a04e-42d4-87e0-ef067d3e2aec",
     "regions": {
      "29432d7a-5fb7-43c7-897e-f7634f6f4f7c": {
       "attrs": {
        "height": 0.6,
        "width": 0.8,
        "x": 0.1,
        "y": 0.1
       },
       "content": {
        "cell": "a447869c-cf20-468b-ae21-1cc70b0a15a2",
        "part": "whole"
       },
       "id": "29432d7a-5fb7-43c7-897e-f7634f6f4f7c"
      }
     }
    },
    "ef39c0a3-a04e-42d4-87e0-ef067d3e2aec": {
     "id": "ef39c0a3-a04e-42d4-87e0-ef067d3e2aec",
     "prev": "79cd7596-8f86-498c-bfd0-d735eeab009a",
     "regions": {
      "551e9a6c-f6b0-450e-8f9b-4a882dca97dd": {
       "attrs": {
        "height": 0.0917720115324906,
        "width": 0.7992015968063871,
        "x": 0.10099800399201596,
        "y": 0.09853626081170988
       },
       "content": {
        "cell": "d02500e1-a2e1-441c-845b-d4f9db88ce39",
        "part": "whole"
       },
       "id": "551e9a6c-f6b0-450e-8f9b-4a882dca97dd"
      },
      "c3ff666a-b161-4a1f-8b47-792e3296c0e5": {
       "attrs": {
        "height": 0.7259702816589044,
        "width": 0.8,
        "x": 0.09999999999999994,
        "y": 0.17984031936127748
       },
       "content": {
        "cell": "30f369f5-1184-47db-bae2-c3c87b1fbdbc",
        "part": "whole"
       },
       "id": "c3ff666a-b161-4a1f-8b47-792e3296c0e5"
      }
     }
    }
   },
   "themes": {
    "default": "d00171c3-ba9b-47be-a118-e1a9c79460f4",
    "theme": {}
   }
  }
 },
 "nbformat": 4,
 "nbformat_minor": 2
}
