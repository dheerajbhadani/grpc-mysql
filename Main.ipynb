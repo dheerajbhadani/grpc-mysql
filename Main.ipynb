{
 "cells": [
  {
   "cell_type": "markdown",
   "metadata": {
    "nbpresent": {
     "id": "1e4a00be-a6fb-4550-ab72-972fdb4e7ff7"
    },
    "slideshow": {
     "slide_type": "slide"
    }
   },
   "source": [
    "### Hello,\n",
    "\n",
    "### This tutorial is focusing on understanding connection between grpc and sql (we are going to use sqlite for this tutorial). grpc can be implemented in various languages. we are using python for this tutorial. Details of grpc can be found at https://grpc.io\n",
    "\n",
    "### Let's begin with installation of grpc packages"
   ]
  },
  {
   "cell_type": "code",
   "execution_count": 17,
   "metadata": {
    "collapsed": false,
    "nbpresent": {
     "id": "d3b179e9-1f60-4846-9a20-394501e661c8"
    },
    "scrolled": true,
    "slideshow": {
     "slide_type": "slide"
    }
   },
   "outputs": [
    {
     "name": "stdout",
     "output_type": "stream",
     "text": [
      "rm -rf .venv \r\n",
      "rm -rf generated\r\n",
      "rm -rf protos\r\n",
      "rm -rf src\r\n"
     ]
    }
   ],
   "source": [
    "!make clean"
   ]
  },
  {
   "cell_type": "code",
   "execution_count": 18,
   "metadata": {
    "collapsed": false,
    "nbpresent": {
     "id": "cd962324-9a89-4c4c-b607-b1e5fad482c4"
    },
    "scrolled": false,
    "slideshow": {
     "slide_type": "slide"
    }
   },
   "outputs": [
    {
     "name": "stdout",
     "output_type": "stream",
     "text": [
      "New python executable in /home/dheerajbhadani/git/tmp/grpc-sqlite/.venv/bin/python2.7\n",
      "Also creating executable in /home/dheerajbhadani/git/tmp/grpc-sqlite/.venv/bin/python\n",
      "Installing setuptools, pip, wheel...done.\n"
     ]
    }
   ],
   "source": [
    "!python2.7 -m virtualenv .venv"
   ]
  },
  {
   "cell_type": "code",
   "execution_count": 19,
   "metadata": {
    "collapsed": false,
    "nbpresent": {
     "id": "02fb14bb-0c0f-49c2-a613-a83a8d1a86ed"
    },
    "scrolled": true,
    "slideshow": {
     "slide_type": "slide"
    }
   },
   "outputs": [
    {
     "name": "stdout",
     "output_type": "stream",
     "text": [
      ".\r\n",
      "./generated\r\n",
      "./generated/__init__.py\r\n",
      "./grpc-dbsync.png\r\n",
      "./src\r\n",
      "./Makefile\r\n",
      "./README.md\r\n",
      "./protos\r\n",
      "./grpc-sqlite.png\r\n",
      "./resource\r\n",
      "./resource/employee.db\r\n",
      "./Main.ipynb\r\n",
      "./Main.slides.html\r\n",
      "./Client.ipynb\r\n",
      "./Server.ipynb\r\n",
      "./LICENSE\r\n"
     ]
    }
   ],
   "source": [
    "!mkdir protos generated src\n",
    "!touch generated/__init__.py\n",
    "!find . -not -path '*/\\.*'"
   ]
  },
  {
   "cell_type": "code",
   "execution_count": 20,
   "metadata": {
    "collapsed": false,
    "nbpresent": {
     "id": "61cf95aa-ab50-4e19-a4d3-ef2c6c6d8ac9"
    },
    "scrolled": false,
    "slideshow": {
     "slide_type": "slide"
    }
   },
   "outputs": [
    {
     "name": "stdout",
     "output_type": "stream",
     "text": [
      "Collecting grpcio\n",
      "  Using cached https://files.pythonhosted.org/packages/3d/15/b34114198a2bc9c9bb73b21e2b559468a1a68bb28b373d21da6e51d6204f/grpcio-1.15.0-cp27-cp27mu-manylinux1_x86_64.whl\n",
      "Collecting grpcio-tools\n",
      "  Using cached https://files.pythonhosted.org/packages/4a/40/17b8e1c649ae9d7a56e5aeba88811ef9cecef1c35ab76899233413aeb955/grpcio_tools-1.15.0-cp27-cp27mu-manylinux1_x86_64.whl\n",
      "Collecting six>=1.5.2 (from grpcio)\n",
      "  Using cached https://files.pythonhosted.org/packages/67/4b/141a581104b1f6397bfa78ac9d43d8ad29a7ca43ea90a2d863fe3056e86a/six-1.11.0-py2.py3-none-any.whl\n",
      "Collecting enum34>=1.0.4 (from grpcio)\n",
      "  Using cached https://files.pythonhosted.org/packages/c5/db/e56e6b4bbac7c4a06de1c50de6fe1ef3810018ae11732a50f15f62c7d050/enum34-1.1.6-py2-none-any.whl\n",
      "Collecting futures>=2.2.0 (from grpcio)\n",
      "  Using cached https://files.pythonhosted.org/packages/2d/99/b2c4e9d5a30f6471e410a146232b4118e697fa3ffc06d6a65efde84debd0/futures-3.2.0-py2-none-any.whl\n",
      "Collecting protobuf>=3.5.0.post1 (from grpcio-tools)\n",
      "  Using cached https://files.pythonhosted.org/packages/b8/c2/b7f587c0aaf8bf2201405e8162323037fe8d17aa21d3c7dda811b8d01469/protobuf-3.6.1-cp27-cp27mu-manylinux1_x86_64.whl\n",
      "Requirement already satisfied: setuptools in ./.venv/lib/python2.7/site-packages (from protobuf>=3.5.0.post1->grpcio-tools) (40.4.3)\n",
      "Installing collected packages: six, enum34, futures, grpcio, protobuf, grpcio-tools\n",
      "Successfully installed enum34-1.1.6 futures-3.2.0 grpcio-1.15.0 grpcio-tools-1.15.0 protobuf-3.6.1 six-1.11.0\n"
     ]
    }
   ],
   "source": [
    "!.venv/bin/pip install grpcio grpcio-tools"
   ]
  },
  {
   "cell_type": "markdown",
   "metadata": {
    "nbpresent": {
     "id": "1e9a2f7e-c159-434f-a815-fac379a42a21"
    },
    "slideshow": {
     "slide_type": "slide"
    }
   },
   "source": [
    "### After successful installation of the grpc packages, we will start creating the protocol buffer file which contains declaration of service interface and the message which will be used for the client server communication.\n",
    "\n",
    "### Create proto file titled employee.proto with the below mentioned content."
   ]
  },
  {
   "cell_type": "code",
   "execution_count": 21,
   "metadata": {
    "collapsed": false,
    "nbpresent": {
     "id": "23c6069b-a99e-440a-baab-19a4eaa85309"
    },
    "scrolled": true
   },
   "outputs": [
    {
     "name": "stdout",
     "output_type": "stream",
     "text": [
      "Writing protos/employee.proto\n"
     ]
    }
   ],
   "source": [
    "%%writefile protos/employee.proto\n",
    "\n",
    "syntax = \"proto3\";\n",
    "\n",
    "package employee;\n",
    "\n",
    "// Interface exported by the server.\n",
    "service Employee {\n",
    "    rpc Read(readRequestPB) returns (readResponseListPB) {}\n",
    "}\n",
    "\n",
    "message readRequestPB {\n",
    "    string first_name = 1;\n",
    "    string last_name = 2;\n",
    "    string email = 3;\n",
    "    string gender = 4;\n",
    "    string ip_address = 5;\n",
    "    string country = 6;\n",
    "    string postcode = 7;\n",
    "}\n",
    "\n",
    "message readResponsePB {\n",
    "    string first_name = 1;\n",
    "    string last_name = 2;\n",
    "    string email = 3;\n",
    "    string gender = 4;\n",
    "    string ip_address = 5;\n",
    "    string country = 6;\n",
    "    string postcode = 7;\n",
    "    int32 id = 8;\n",
    "}\n",
    "\n",
    "message readResponseListPB {\n",
    "    repeated readResponsePB employee = 1;\n",
    "}"
   ]
  },
  {
   "cell_type": "markdown",
   "metadata": {
    "nbpresent": {
     "id": "01b4be73-9036-4814-8908-7fb5051cef14"
    }
   },
   "source": [
    "### Compile proto file and generate stub for python. Here is the command to generate:"
   ]
  },
  {
   "cell_type": "code",
   "execution_count": 22,
   "metadata": {
    "collapsed": false,
    "nbpresent": {
     "id": "74df27b6-aaa2-43d5-bda5-3ad7ae95a0b2"
    }
   },
   "outputs": [],
   "source": [
    "!./.venv/bin/python -m grpc_tools.protoc -I ./protos/. --python_out=./generated/. --grpc_python_out=./generated/. ./protos/employee.proto"
   ]
  },
  {
   "cell_type": "markdown",
   "metadata": {
    "nbpresent": {
     "id": "ca96b4c9-2017-4f4c-a0f3-88300bb90781"
    }
   },
   "source": [
    "### This will generate two files(employee_pb2.py and employee_pb2_grpc.py) under generated folder. "
   ]
  },
  {
   "cell_type": "code",
   "execution_count": 27,
   "metadata": {
    "collapsed": false,
    "nbpresent": {
     "id": "a44a727a-ce4e-4c64-bdf1-3865e5dcfc5e"
    },
    "scrolled": false
   },
   "outputs": [
    {
     "name": "stdout",
     "output_type": "stream",
     "text": [
      "total 24\r\n",
      "drwxrwxr-x 2 dheerajbhadani dheerajbhadani  4096 Oct  7 19:49 .\r\n",
      "drwxrwxr-x 9 dheerajbhadani dheerajbhadani  4096 Oct  7 19:51 ..\r\n",
      "-rw-rw-r-- 1 dheerajbhadani dheerajbhadani  1359 Oct  7 19:49 employee_pb2_grpc.py\r\n",
      "-rw-rw-r-- 1 dheerajbhadani dheerajbhadani 10584 Oct  7 19:49 employee_pb2.py\r\n",
      "-rw-rw-r-- 1 dheerajbhadani dheerajbhadani     0 Oct  7 19:48 __init__.py\r\n"
     ]
    }
   ],
   "source": [
    "!ls -al generated"
   ]
  },
  {
   "cell_type": "code",
   "execution_count": 8,
   "metadata": {
    "collapsed": false,
    "nbpresent": {
     "id": "f0b1eeb9-92fd-42e6-aba9-e824a7150676"
    },
    "scrolled": false,
    "slideshow": {
     "slide_type": "slide"
    }
   },
   "outputs": [
    {
     "name": "stdout",
     "output_type": "stream",
     "text": [
      "# Generated by the gRPC Python protocol compiler plugin. DO NOT EDIT!\r\n",
      "import grpc\r\n",
      "\r\n",
      "import employee_pb2 as employee__pb2\r\n",
      "\r\n",
      "\r\n",
      "class EmployeeStub(object):\r\n",
      "  \"\"\"Interface exported by the server.\r\n",
      "  \"\"\"\r\n",
      "\r\n",
      "  def __init__(self, channel):\r\n",
      "    \"\"\"Constructor.\r\n",
      "\r\n",
      "    Args:\r\n",
      "      channel: A grpc.Channel.\r\n",
      "    \"\"\"\r\n",
      "    self.Read = channel.unary_unary(\r\n",
      "        '/employee.Employee/Read',\r\n",
      "        request_serializer=employee__pb2.readRequestPB.SerializeToString,\r\n",
      "        response_deserializer=employee__pb2.readResponseListPB.FromString,\r\n",
      "        )\r\n",
      "\r\n",
      "\r\n",
      "class EmployeeServicer(object):\r\n",
      "  \"\"\"Interface exported by the server.\r\n",
      "  \"\"\"\r\n",
      "\r\n",
      "  def Read(self, request, context):\r\n",
      "    # missing associated documentation comment in .proto file\r\n",
      "    pass\r\n",
      "    context.set_code(grpc.StatusCode.UNIMPLEMENTED)\r\n",
      "    context.set_details('Method not implemented!')\r\n",
      "    raise NotImplementedError('Method not implemented!')\r\n",
      "\r\n",
      "\r\n",
      "def add_EmployeeServicer_to_server(servicer, server):\r\n",
      "  rpc_method_handlers = {\r\n",
      "      'Read': grpc.unary_unary_rpc_method_handler(\r\n",
      "          servicer.Read,\r\n",
      "          request_deserializer=employee__pb2.readRequestPB.FromString,\r\n",
      "          response_serializer=employee__pb2.readResponseListPB.SerializeToString,\r\n",
      "      ),\r\n",
      "  }\r\n",
      "  generic_handler = grpc.method_handlers_generic_handler(\r\n",
      "      'employee.Employee', rpc_method_handlers)\r\n",
      "  server.add_generic_rpc_handlers((generic_handler,))\r\n"
     ]
    }
   ],
   "source": [
    "%cat generated/employee_pb2_grpc.py"
   ]
  },
  {
   "cell_type": "code",
   "execution_count": 7,
   "metadata": {
    "collapsed": false,
    "nbpresent": {
     "id": "077d6f73-39ee-4b65-8947-19c023bccb03"
    },
    "scrolled": false,
    "slideshow": {
     "slide_type": "slide"
    }
   },
   "outputs": [
    {
     "name": "stdout",
     "output_type": "stream",
     "text": [
      "# Generated by the protocol buffer compiler.  DO NOT EDIT!\r\n",
      "# source: employee.proto\r\n",
      "\r\n",
      "import sys\r\n",
      "_b=sys.version_info[0]<3 and (lambda x:x) or (lambda x:x.encode('latin1'))\r\n",
      "from google.protobuf import descriptor as _descriptor\r\n",
      "from google.protobuf import message as _message\r\n",
      "from google.protobuf import reflection as _reflection\r\n",
      "from google.protobuf import symbol_database as _symbol_database\r\n",
      "# @@protoc_insertion_point(imports)\r\n",
      "\r\n",
      "_sym_db = _symbol_database.Default()\r\n",
      "\r\n",
      "\r\n",
      "\r\n",
      "\r\n",
      "DESCRIPTOR = _descriptor.FileDescriptor(\r\n",
      "  name='employee.proto',\r\n",
      "  package='employee',\r\n",
      "  syntax='proto3',\r\n",
      "  serialized_options=None,\r\n",
      "  serialized_pb=_b('\\n\\x0e\\x65mployee.proto\\x12\\x08\\x65mployee\\\"\\x8c\\x01\\n\\rreadRequestPB\\x12\\x12\\n\\nfirst_name\\x18\\x01 \\x01(\\t\\x12\\x11\\n\\tlast_name\\x18\\x02 \\x01(\\t\\x12\\r\\n\\x05\\x65mail\\x18\\x03 \\x01(\\t\\x12\\x0e\\n\\x06gender\\x18\\x04 \\x01(\\t\\x12\\x12\\n\\nip_address\\x18\\x05 \\x01(\\t\\x12\\x0f\\n\\x07\\x63ountry\\x18\\x06 \\x01(\\t\\x12\\x10\\n\\x08postcode\\x18\\x07 \\x01(\\t\\\"\\x99\\x01\\n\\x0ereadResponsePB\\x12\\x12\\n\\nfirst_name\\x18\\x01 \\x01(\\t\\x12\\x11\\n\\tlast_name\\x18\\x02 \\x01(\\t\\x12\\r\\n\\x05\\x65mail\\x18\\x03 \\x01(\\t\\x12\\x0e\\n\\x06gender\\x18\\x04 \\x01(\\t\\x12\\x12\\n\\nip_address\\x18\\x05 \\x01(\\t\\x12\\x0f\\n\\x07\\x63ountry\\x18\\x06 \\x01(\\t\\x12\\x10\\n\\x08postcode\\x18\\x07 \\x01(\\t\\x12\\n\\n\\x02id\\x18\\x08 \\x01(\\x05\\\"@\\n\\x12readResponseListPB\\x12*\\n\\x08\\x65mployee\\x18\\x01 \\x03(\\x0b\\x32\\x18.employee.readResponsePB2K\\n\\x08\\x45mployee\\x12?\\n\\x04Read\\x12\\x17.employee.readRequestPB\\x1a\\x1c.employee.readResponseListPB\\\"\\x00\\x62\\x06proto3')\r\n",
      ")\r\n",
      "\r\n",
      "\r\n",
      "\r\n",
      "\r\n",
      "_READREQUESTPB = _descriptor.Descriptor(\r\n",
      "  name='readRequestPB',\r\n",
      "  full_name='employee.readRequestPB',\r\n",
      "  filename=None,\r\n",
      "  file=DESCRIPTOR,\r\n",
      "  containing_type=None,\r\n",
      "  fields=[\r\n",
      "    _descriptor.FieldDescriptor(\r\n",
      "      name='first_name', full_name='employee.readRequestPB.first_name', index=0,\r\n",
      "      number=1, type=9, cpp_type=9, label=1,\r\n",
      "      has_default_value=False, default_value=_b(\"\").decode('utf-8'),\r\n",
      "      message_type=None, enum_type=None, containing_type=None,\r\n",
      "      is_extension=False, extension_scope=None,\r\n",
      "      serialized_options=None, file=DESCRIPTOR),\r\n",
      "    _descriptor.FieldDescriptor(\r\n",
      "      name='last_name', full_name='employee.readRequestPB.last_name', index=1,\r\n",
      "      number=2, type=9, cpp_type=9, label=1,\r\n",
      "      has_default_value=False, default_value=_b(\"\").decode('utf-8'),\r\n",
      "      message_type=None, enum_type=None, containing_type=None,\r\n",
      "      is_extension=False, extension_scope=None,\r\n",
      "      serialized_options=None, file=DESCRIPTOR),\r\n",
      "    _descriptor.FieldDescriptor(\r\n",
      "      name='email', full_name='employee.readRequestPB.email', index=2,\r\n",
      "      number=3, type=9, cpp_type=9, label=1,\r\n",
      "      has_default_value=False, default_value=_b(\"\").decode('utf-8'),\r\n",
      "      message_type=None, enum_type=None, containing_type=None,\r\n",
      "      is_extension=False, extension_scope=None,\r\n",
      "      serialized_options=None, file=DESCRIPTOR),\r\n",
      "    _descriptor.FieldDescriptor(\r\n",
      "      name='gender', full_name='employee.readRequestPB.gender', index=3,\r\n",
      "      number=4, type=9, cpp_type=9, label=1,\r\n",
      "      has_default_value=False, default_value=_b(\"\").decode('utf-8'),\r\n",
      "      message_type=None, enum_type=None, containing_type=None,\r\n",
      "      is_extension=False, extension_scope=None,\r\n",
      "      serialized_options=None, file=DESCRIPTOR),\r\n",
      "    _descriptor.FieldDescriptor(\r\n",
      "      name='ip_address', full_name='employee.readRequestPB.ip_address', index=4,\r\n",
      "      number=5, type=9, cpp_type=9, label=1,\r\n",
      "      has_default_value=False, default_value=_b(\"\").decode('utf-8'),\r\n",
      "      message_type=None, enum_type=None, containing_type=None,\r\n",
      "      is_extension=False, extension_scope=None,\r\n",
      "      serialized_options=None, file=DESCRIPTOR),\r\n",
      "    _descriptor.FieldDescriptor(\r\n",
      "      name='country', full_name='employee.readRequestPB.country', index=5,\r\n",
      "      number=6, type=9, cpp_type=9, label=1,\r\n",
      "      has_default_value=False, default_value=_b(\"\").decode('utf-8'),\r\n",
      "      message_type=None, enum_type=None, containing_type=None,\r\n",
      "      is_extension=False, extension_scope=None,\r\n",
      "      serialized_options=None, file=DESCRIPTOR),\r\n",
      "    _descriptor.FieldDescriptor(\r\n",
      "      name='postcode', full_name='employee.readRequestPB.postcode', index=6,\r\n",
      "      number=7, type=9, cpp_type=9, label=1,\r\n",
      "      has_default_value=False, default_value=_b(\"\").decode('utf-8'),\r\n",
      "      message_type=None, enum_type=None, containing_type=None,\r\n",
      "      is_extension=False, extension_scope=None,\r\n",
      "      serialized_options=None, file=DESCRIPTOR),\r\n",
      "  ],\r\n",
      "  extensions=[\r\n",
      "  ],\r\n",
      "  nested_types=[],\r\n",
      "  enum_types=[\r\n",
      "  ],\r\n",
      "  serialized_options=None,\r\n",
      "  is_extendable=False,\r\n",
      "  syntax='proto3',\r\n",
      "  extension_ranges=[],\r\n",
      "  oneofs=[\r\n",
      "  ],\r\n",
      "  serialized_start=29,\r\n",
      "  serialized_end=169,\r\n",
      ")\r\n",
      "\r\n",
      "\r\n",
      "_READRESPONSEPB = _descriptor.Descriptor(\r\n",
      "  name='readResponsePB',\r\n",
      "  full_name='employee.readResponsePB',\r\n",
      "  filename=None,\r\n",
      "  file=DESCRIPTOR,\r\n",
      "  containing_type=None,\r\n",
      "  fields=[\r\n",
      "    _descriptor.FieldDescriptor(\r\n",
      "      name='first_name', full_name='employee.readResponsePB.first_name', index=0,\r\n",
      "      number=1, type=9, cpp_type=9, label=1,\r\n",
      "      has_default_value=False, default_value=_b(\"\").decode('utf-8'),\r\n",
      "      message_type=None, enum_type=None, containing_type=None,\r\n",
      "      is_extension=False, extension_scope=None,\r\n",
      "      serialized_options=None, file=DESCRIPTOR),\r\n",
      "    _descriptor.FieldDescriptor(\r\n",
      "      name='last_name', full_name='employee.readResponsePB.last_name', index=1,\r\n",
      "      number=2, type=9, cpp_type=9, label=1,\r\n",
      "      has_default_value=False, default_value=_b(\"\").decode('utf-8'),\r\n",
      "      message_type=None, enum_type=None, containing_type=None,\r\n",
      "      is_extension=False, extension_scope=None,\r\n",
      "      serialized_options=None, file=DESCRIPTOR),\r\n",
      "    _descriptor.FieldDescriptor(\r\n",
      "      name='email', full_name='employee.readResponsePB.email', index=2,\r\n",
      "      number=3, type=9, cpp_type=9, label=1,\r\n",
      "      has_default_value=False, default_value=_b(\"\").decode('utf-8'),\r\n",
      "      message_type=None, enum_type=None, containing_type=None,\r\n",
      "      is_extension=False, extension_scope=None,\r\n",
      "      serialized_options=None, file=DESCRIPTOR),\r\n",
      "    _descriptor.FieldDescriptor(\r\n",
      "      name='gender', full_name='employee.readResponsePB.gender', index=3,\r\n",
      "      number=4, type=9, cpp_type=9, label=1,\r\n",
      "      has_default_value=False, default_value=_b(\"\").decode('utf-8'),\r\n",
      "      message_type=None, enum_type=None, containing_type=None,\r\n",
      "      is_extension=False, extension_scope=None,\r\n",
      "      serialized_options=None, file=DESCRIPTOR),\r\n",
      "    _descriptor.FieldDescriptor(\r\n",
      "      name='ip_address', full_name='employee.readResponsePB.ip_address', index=4,\r\n",
      "      number=5, type=9, cpp_type=9, label=1,\r\n",
      "      has_default_value=False, default_value=_b(\"\").decode('utf-8'),\r\n",
      "      message_type=None, enum_type=None, containing_type=None,\r\n",
      "      is_extension=False, extension_scope=None,\r\n",
      "      serialized_options=None, file=DESCRIPTOR),\r\n",
      "    _descriptor.FieldDescriptor(\r\n",
      "      name='country', full_name='employee.readResponsePB.country', index=5,\r\n",
      "      number=6, type=9, cpp_type=9, label=1,\r\n",
      "      has_default_value=False, default_value=_b(\"\").decode('utf-8'),\r\n",
      "      message_type=None, enum_type=None, containing_type=None,\r\n",
      "      is_extension=False, extension_scope=None,\r\n",
      "      serialized_options=None, file=DESCRIPTOR),\r\n",
      "    _descriptor.FieldDescriptor(\r\n",
      "      name='postcode', full_name='employee.readResponsePB.postcode', index=6,\r\n",
      "      number=7, type=9, cpp_type=9, label=1,\r\n",
      "      has_default_value=False, default_value=_b(\"\").decode('utf-8'),\r\n",
      "      message_type=None, enum_type=None, containing_type=None,\r\n",
      "      is_extension=False, extension_scope=None,\r\n",
      "      serialized_options=None, file=DESCRIPTOR),\r\n",
      "    _descriptor.FieldDescriptor(\r\n",
      "      name='id', full_name='employee.readResponsePB.id', index=7,\r\n",
      "      number=8, type=5, cpp_type=1, label=1,\r\n",
      "      has_default_value=False, default_value=0,\r\n",
      "      message_type=None, enum_type=None, containing_type=None,\r\n",
      "      is_extension=False, extension_scope=None,\r\n",
      "      serialized_options=None, file=DESCRIPTOR),\r\n",
      "  ],\r\n",
      "  extensions=[\r\n",
      "  ],\r\n",
      "  nested_types=[],\r\n",
      "  enum_types=[\r\n",
      "  ],\r\n",
      "  serialized_options=None,\r\n",
      "  is_extendable=False,\r\n",
      "  syntax='proto3',\r\n",
      "  extension_ranges=[],\r\n",
      "  oneofs=[\r\n",
      "  ],\r\n",
      "  serialized_start=172,\r\n",
      "  serialized_end=325,\r\n",
      ")\r\n",
      "\r\n",
      "\r\n",
      "_READRESPONSELISTPB = _descriptor.Descriptor(\r\n",
      "  name='readResponseListPB',\r\n",
      "  full_name='employee.readResponseListPB',\r\n",
      "  filename=None,\r\n",
      "  file=DESCRIPTOR,\r\n",
      "  containing_type=None,\r\n",
      "  fields=[\r\n",
      "    _descriptor.FieldDescriptor(\r\n",
      "      name='employee', full_name='employee.readResponseListPB.employee', index=0,\r\n",
      "      number=1, type=11, cpp_type=10, label=3,\r\n",
      "      has_default_value=False, default_value=[],\r\n",
      "      message_type=None, enum_type=None, containing_type=None,\r\n",
      "      is_extension=False, extension_scope=None,\r\n",
      "      serialized_options=None, file=DESCRIPTOR),\r\n",
      "  ],\r\n",
      "  extensions=[\r\n",
      "  ],\r\n",
      "  nested_types=[],\r\n",
      "  enum_types=[\r\n",
      "  ],\r\n",
      "  serialized_options=None,\r\n",
      "  is_extendable=False,\r\n",
      "  syntax='proto3',\r\n",
      "  extension_ranges=[],\r\n",
      "  oneofs=[\r\n",
      "  ],\r\n",
      "  serialized_start=327,\r\n",
      "  serialized_end=391,\r\n",
      ")\r\n",
      "\r\n",
      "_READRESPONSELISTPB.fields_by_name['employee'].message_type = _READRESPONSEPB\r\n",
      "DESCRIPTOR.message_types_by_name['readRequestPB'] = _READREQUESTPB\r\n",
      "DESCRIPTOR.message_types_by_name['readResponsePB'] = _READRESPONSEPB\r\n",
      "DESCRIPTOR.message_types_by_name['readResponseListPB'] = _READRESPONSELISTPB\r\n",
      "_sym_db.RegisterFileDescriptor(DESCRIPTOR)\r\n",
      "\r\n",
      "readRequestPB = _reflection.GeneratedProtocolMessageType('readRequestPB', (_message.Message,), dict(\r\n",
      "  DESCRIPTOR = _READREQUESTPB,\r\n",
      "  __module__ = 'employee_pb2'\r\n",
      "  # @@protoc_insertion_point(class_scope:employee.readRequestPB)\r\n",
      "  ))\r\n",
      "_sym_db.RegisterMessage(readRequestPB)\r\n",
      "\r\n",
      "readResponsePB = _reflection.GeneratedProtocolMessageType('readResponsePB', (_message.Message,), dict(\r\n",
      "  DESCRIPTOR = _READRESPONSEPB,\r\n",
      "  __module__ = 'employee_pb2'\r\n",
      "  # @@protoc_insertion_point(class_scope:employee.readResponsePB)\r\n",
      "  ))\r\n",
      "_sym_db.RegisterMessage(readResponsePB)\r\n",
      "\r\n",
      "readResponseListPB = _reflection.GeneratedProtocolMessageType('readResponseListPB', (_message.Message,), dict(\r\n",
      "  DESCRIPTOR = _READRESPONSELISTPB,\r\n",
      "  __module__ = 'employee_pb2'\r\n",
      "  # @@protoc_insertion_point(class_scope:employee.readResponseListPB)\r\n",
      "  ))\r\n",
      "_sym_db.RegisterMessage(readResponseListPB)\r\n",
      "\r\n",
      "\r\n",
      "\r\n",
      "_EMPLOYEE = _descriptor.ServiceDescriptor(\r\n",
      "  name='Employee',\r\n",
      "  full_name='employee.Employee',\r\n",
      "  file=DESCRIPTOR,\r\n",
      "  index=0,\r\n",
      "  serialized_options=None,\r\n",
      "  serialized_start=393,\r\n",
      "  serialized_end=468,\r\n",
      "  methods=[\r\n",
      "  _descriptor.MethodDescriptor(\r\n",
      "    name='Read',\r\n",
      "    full_name='employee.Employee.Read',\r\n",
      "    index=0,\r\n",
      "    containing_service=None,\r\n",
      "    input_type=_READREQUESTPB,\r\n",
      "    output_type=_READRESPONSELISTPB,\r\n",
      "    serialized_options=None,\r\n",
      "  ),\r\n",
      "])\r\n",
      "_sym_db.RegisterServiceDescriptor(_EMPLOYEE)\r\n",
      "\r\n",
      "DESCRIPTOR.services_by_name['Employee'] = _EMPLOYEE\r\n",
      "\r\n",
      "# @@protoc_insertion_point(module_scope)\r\n"
     ]
    }
   ],
   "source": [
    "%cat generated/employee_pb2.py"
   ]
  },
  {
   "cell_type": "markdown",
   "metadata": {
    "nbpresent": {
     "id": "68d57e61-e3cd-429b-9732-3ede3a46453a"
    }
   },
   "source": [
    "### Now we will start implementing server. create a file under src folder named server.py with the following content:"
   ]
  },
  {
   "cell_type": "code",
   "execution_count": 3,
   "metadata": {
    "collapsed": false,
    "nbpresent": {
     "id": "100f45c5-7af9-4a9d-b285-17ced767b3e4"
    },
    "slideshow": {
     "slide_type": "-"
    }
   },
   "outputs": [
    {
     "name": "stdout",
     "output_type": "stream",
     "text": [
      "Writing src/server.py\n"
     ]
    }
   ],
   "source": [
    "%%writefile src/server.py\n",
    "\n",
    "from __future__ import print_function\n",
    "\n",
    "import time\n",
    "import grpc\n",
    "\n",
    "from generated import employee_pb2_grpc\n",
    "from concurrent import futures\n",
    "\n",
    "_ONE_DAY_IN_SECONDS = 60 * 60 * 24\n",
    "\n",
    "class EmployeeServicer(employee_pb2_grpc.EmployeeServicer):\n",
    "    def __init__(self):\n",
    "        pass\n",
    "    \n",
    "def serve():\n",
    "    server = grpc.server(futures.ThreadPoolExecutor(max_workers=10))\n",
    "    employee_pb2_grpc.add_EmployeeServicer_to_server(EmployeeServicer(), server)\n",
    "    server.add_insecure_port('[::]:40084')\n",
    "    server.start()\n",
    "    print(\"Employee server running on 40084...\")\n",
    "    try:\n",
    "        while True:\n",
    "            time.sleep(_ONE_DAY_IN_SECONDS)\n",
    "    except:\n",
    "        server.stop(0)\n",
    "\n",
    "if __name__ == '__main__':\n",
    "    serve()"
   ]
  },
  {
   "cell_type": "markdown",
   "metadata": {
    "nbpresent": {
     "id": "d02500e1-a2e1-441c-845b-d4f9db88ce39"
    }
   },
   "source": [
    "### Client code is as mentioned below in client.py"
   ]
  },
  {
   "cell_type": "code",
   "execution_count": 6,
   "metadata": {
    "collapsed": false,
    "nbpresent": {
     "id": "30f369f5-1184-47db-bae2-c3c87b1fbdbc"
    }
   },
   "outputs": [
    {
     "name": "stdout",
     "output_type": "stream",
     "text": [
      "Overwriting src/client.py\n"
     ]
    }
   ],
   "source": [
    "%%writefile src/client.py\n",
    "\n",
    "from __future__ import print_function\n",
    "\n",
    "import time\n",
    "import grpc\n",
    "\n",
    "from generated import employee_pb2, employee_pb2_grpc\n",
    "\n",
    "class EmployeeClient(object):\n",
    "    def __init__(self):\n",
    "        pass\n",
    "\n",
    "def run():\n",
    "    channel = grpc.insecure_channel('localhost:40084')\n",
    "    stub = employee_pb2_grpc.EmployeeStub(channel)\n",
    "    print(stub)\n",
    "\n",
    "if __name__ == '__main__':\n",
    "    run()"
   ]
  },
  {
   "cell_type": "markdown",
   "metadata": {
    "nbpresent": {
     "id": "a447869c-cf20-468b-ae21-1cc70b0a15a2"
    }
   },
   "source": [
    "### So far we have created server and client file with the basic connection. \n",
    "###### Lets run section-1 of server and client notebooks.\n",
    "[Server](https://35.242.154.175:8888/notebooks/git/tmp/grpc-sqlite/Server.ipynb)\n",
    "[Client](https://35.242.154.175:8888/notebooks/git/tmp/grpc-sqlite/Client.ipynb)"
   ]
  },
  {
   "cell_type": "markdown",
   "metadata": {
    "nbpresent": {
     "id": "570d7f22-c01f-4838-84a6-eb0a1f95a724"
    }
   },
   "source": [
    "Client is not calling anything from server yet. So let's implement that..."
   ]
  },
  {
   "cell_type": "code",
   "execution_count": null,
   "metadata": {
    "collapsed": true,
    "nbpresent": {
     "id": "c96b7073-c046-4db6-bd44-f15bd630e840"
    }
   },
   "outputs": [],
   "source": [
    "class EmployeeServicer(employee_pb2_grpc.EmployeeServicer):\n",
    "    def Read(self, request, context):\n",
    "        print(\"Read employee service called...\")\n",
    "        response_list = employee_pb2.readResponseListPB()\n",
    "        return response_list"
   ]
  },
  {
   "cell_type": "code",
   "execution_count": null,
   "metadata": {
    "collapsed": true,
    "nbpresent": {
     "id": "4173047d-a37d-4777-98bf-4d5d0ba4bfe8"
    }
   },
   "outputs": [],
   "source": [
    "class EmployeeClient(object):\n",
    "    def __init__(self):\n",
    "        pass\n",
    "\n",
    "    def get_employee(self, stub):\n",
    "        read_request = employee_pb2.readRequestPB()\n",
    "        read_request.first_name = \"Pauli\"\n",
    "        return stub.Read(read_request)\n",
    "    \n",
    "def run():\n",
    "    channel = grpc.insecure_channel('localhost:40084')\n",
    "    stub = employee_pb2_grpc.EmployeeStub(channel)\n",
    "\n",
    "    emp_client = EmployeeClient()\n",
    "    print(emp_client.get_employee(stub))"
   ]
  },
  {
   "cell_type": "markdown",
   "metadata": {
    "nbpresent": {
     "id": "67dfb313-3c7a-4319-b96c-df920b12439f"
    }
   },
   "source": [
    "After implementing above methods in client and server, server will return an empty list as response.\n",
    "###### Lets run section-2 of server and client notebooks."
   ]
  },
  {
   "cell_type": "markdown",
   "metadata": {
    "nbpresent": {
     "id": "6eefac58-6c40-480d-a42a-c03d97140dac"
    }
   },
   "source": [
    "Now lets move towards getting the data from database and return that as response to client.\n",
    "We will create another python file in src folder named employee_orm.py. This file will contain the code as below mentioned: "
   ]
  },
  {
   "cell_type": "code",
   "execution_count": null,
   "metadata": {
    "collapsed": false,
    "nbpresent": {
     "id": "cdcba03e-b08a-4eac-9bcb-9a2a7884beb2"
    }
   },
   "outputs": [],
   "source": [
    "%%writefile src/employee_orm.py\n",
    "\n",
    "__author__ = 'Dheeraj Bhadani'\n",
    "\n",
    "import sqlite3\n",
    "\n",
    "from generated import employee_pb2\n",
    "\n",
    "class EmployeeORM(object):\n",
    "    def __init__(self):\n",
    "        pass\n",
    "\n",
    "    def run_query(self, query):\n",
    "        conn = sqlite3.connect('resource/employee.db')\n",
    "        curs = conn.cursor()\n",
    "        curs.execute(query)\n",
    "        return curs\n",
    "\n",
    "    def select(self, requestPB):\n",
    "        base_query = 'select * from EMPLOYEE'\n",
    "\n",
    "        if requestPB.ListFields():\n",
    "            where_clause = \" WHERE \"\n",
    "        condition_count = 0\n",
    "        for f in requestPB.ListFields():\n",
    "            if condition_count == 0:\n",
    "                where_clause += ' {0} = \"{1}\"'.format(f[0].name, f[1])\n",
    "            else:\n",
    "                where_clause += ' AND {0} = \"{1}\"'.format(f[0].name, f[1])\n",
    "            condition_count += 1\n",
    "\n",
    "        query = base_query + where_clause\n",
    "\n",
    "        query_result = self.run_query(query)\n",
    "\n",
    "        result = []\n",
    "        for cur in query_result:\n",
    "            response = employee_pb2.readResponsePB()\n",
    "            response.first_name = str(cur[1])\n",
    "            response.last_name = str(cur[2])\n",
    "            response.email = str(cur[3])\n",
    "            response.gender = str(cur[4])\n",
    "            response.ip_address = str(cur[5])\n",
    "            response.country = str(cur[6])\n",
    "            response.postcode = str(cur[7])\n",
    "            response.id = int(cur[0])\n",
    "            result.append(response)\n",
    "\n",
    "        response_list = employee_pb2.readResponseListPB()\n",
    "        response_list.employee.extend(result)\n",
    "        return response_list"
   ]
  },
  {
   "cell_type": "markdown",
   "metadata": {
    "nbpresent": {
     "id": "e90a6c79-7978-4688-b79b-4e4ac02f10d9"
    }
   },
   "source": [
    "Connection between orm and server can be implemented as mentioned below:"
   ]
  },
  {
   "cell_type": "code",
   "execution_count": null,
   "metadata": {
    "collapsed": true,
    "nbpresent": {
     "id": "7074b1e9-c819-4de0-8777-e70d72dac384"
    }
   },
   "outputs": [],
   "source": [
    "import employee_orm\n",
    "\n",
    "class EmployeeServicer(employee_pb2_grpc.EmployeeServicer):\n",
    "    def __init__(self):\n",
    "        self.__emp_orm = employee_orm.EmployeeORM()\n",
    "\n",
    "    def Read(self, request, context):\n",
    "        print(\"Read employee service called...\")\n",
    "        return self.__emp_orm.select(request)"
   ]
  },
  {
   "cell_type": "markdown",
   "metadata": {
    "nbpresent": {
     "id": "13e9ce72-8d63-4000-b314-d99f2235b427"
    }
   },
   "source": [
    "###### Lets run section-3 of server and client notebooks."
   ]
  },
  {
   "cell_type": "markdown",
   "metadata": {
    "nbpresent": {
     "id": "bd25f69d-e058-4072-97a0-f6ed0dd670a6"
    }
   },
   "source": [
    "To summarize, client sends a request containg protocol buffer in request. Server recieves the request and process the method. Send a request to ORM which get the data from database and return the protocol buffer object. Server respond to client with the protocol buffer object."
   ]
  },
  {
   "cell_type": "markdown",
   "metadata": {
    "nbpresent": {
     "id": "27f59dda-184e-47b3-b78a-b671cf04f319"
    }
   },
   "source": [
    "![alt text](grpc-sqlite.png \"Title\")"
   ]
  },
  {
   "cell_type": "markdown",
   "metadata": {
    "nbpresent": {
     "id": "0bf83d7c-19f3-4f09-b22b-69461299a82e"
    }
   },
   "source": [
    "Whats next>>\n",
    "implementing other rpc calls like:\n",
    "    rpc Create(creationRequestPB) returns (creationResponsePB) {}\n",
    "    rpc Update(updateRequestPB) returns (updateResponsePB) {}\n",
    "    rpc Delete(deleteRequestPB) returns (deleteResponsePB) {}"
   ]
  }
 ],
 "metadata": {
  "anaconda-cloud": {},
  "celltoolbar": "Slideshow",
  "kernelspec": {
   "display_name": "Python [conda root]",
   "language": "python",
   "name": "conda-root-py"
  },
  "language_info": {
   "codemirror_mode": {
    "name": "ipython",
    "version": 3
   },
   "file_extension": ".py",
   "mimetype": "text/x-python",
   "name": "python",
   "nbconvert_exporter": "python",
   "pygments_lexer": "ipython3",
   "version": "3.5.2"
  },
  "nbpresent": {
   "slides": {
    "028ed36f-3142-43c1-bae6-edc8241b60e9": {
     "id": "028ed36f-3142-43c1-bae6-edc8241b60e9",
     "prev": "1045be6c-170b-4afc-a127-eeda7ae12c8e",
     "regions": {
      "79417204-e128-4fed-a2d5-178136bb954b": {
       "attrs": {
        "height": 0.3569305832778887,
        "width": 0.8,
        "x": 0.1,
        "y": 0.1
       },
       "content": {
        "cell": "cd962324-9a89-4c4c-b607-b1e5fad482c4",
        "part": "whole"
       },
       "id": "79417204-e128-4fed-a2d5-178136bb954b"
      },
      "8018dd46-90c2-4865-8f48-79556e97d3d2": {
       "attrs": {
        "height": 0.4359724994455534,
        "width": 0.7992015968063871,
        "x": 0.1,
        "y": 0.4658017298735861
       },
       "content": {
        "cell": "02fb14bb-0c0f-49c2-a613-a83a8d1a86ed",
        "part": "whole"
       },
       "id": "8018dd46-90c2-4865-8f48-79556e97d3d2"
      }
     }
    },
    "0462ffad-4113-4d08-a9a6-d67a5aad2865": {
     "id": "0462ffad-4113-4d08-a9a6-d67a5aad2865",
     "prev": "028ed36f-3142-43c1-bae6-edc8241b60e9",
     "regions": {
      "4e0b6404-28a8-4383-a604-7aa2b98296d3": {
       "attrs": {
        "height": 0.2,
        "width": 0.7992015968063871,
        "x": 0.1,
        "y": 0.7
       },
       "content": {
        "cell": "1e9a2f7e-c159-434f-a815-fac379a42a21",
        "part": "whole"
       },
       "id": "4e0b6404-28a8-4383-a604-7aa2b98296d3"
      },
      "9217b0ea-54f7-49b0-a248-0212827f9656": {
       "attrs": {
        "height": 0.6,
        "width": 0.8,
        "x": 0.1,
        "y": 0.1
       },
       "content": {
        "cell": "61cf95aa-ab50-4e19-a4d3-ef2c6c6d8ac9",
        "part": "whole"
       },
       "id": "9217b0ea-54f7-49b0-a248-0212827f9656"
      }
     }
    },
    "1045be6c-170b-4afc-a127-eeda7ae12c8e": {
     "id": "1045be6c-170b-4afc-a127-eeda7ae12c8e",
     "prev": null,
     "regions": {
      "2be904c4-6692-4eba-86cb-2e8efb55f80f": {
       "attrs": {
        "height": 0.35338212463960966,
        "width": 0.8,
        "x": 0.1,
        "y": 0.09645154136172102
       },
       "content": {
        "cell": "1e4a00be-a6fb-4550-ab72-972fdb4e7ff7",
        "part": "whole"
       },
       "id": "2be904c4-6692-4eba-86cb-2e8efb55f80f"
      },
      "8d984b99-0313-4937-9fd6-135802a6359a": {
       "attrs": {
        "height": 0.44306941672211136,
        "width": 0.8001996007984031,
        "x": 0.1,
        "y": 0.4569305832778886
       },
       "content": {
        "cell": "d3b179e9-1f60-4846-9a20-394501e661c8",
        "part": "whole"
       },
       "id": "8d984b99-0313-4937-9fd6-135802a6359a"
      }
     }
    },
    "2c15f7d6-3d2b-4997-90df-943621af1a77": {
     "id": "2c15f7d6-3d2b-4997-90df-943621af1a77",
     "prev": "0462ffad-4113-4d08-a9a6-d67a5aad2865",
     "regions": {
      "5b05c870-5112-4889-871d-1eae63e5cca8": {
       "attrs": {
        "height": 0.8271013528498559,
        "width": 0.8,
        "x": 0.1,
        "y": 0.1
       },
       "content": {
        "cell": "23c6069b-a99e-440a-baab-19a4eaa85309",
        "part": "whole"
       },
       "id": "5b05c870-5112-4889-871d-1eae63e5cca8"
      }
     }
    },
    "38202a19-c4c0-4801-a55f-471c5a50cdf3": {
     "id": "38202a19-c4c0-4801-a55f-471c5a50cdf3",
     "prev": "2c15f7d6-3d2b-4997-90df-943621af1a77",
     "regions": {
      "08cd7807-5db7-4418-94ad-e1da4e86a28f": {
       "attrs": {
        "height": 0.06240851630073189,
        "width": 0.8,
        "x": 0.1009980039920159,
        "y": 0.19758261255267245
       },
       "content": {
        "cell": "01b4be73-9036-4814-8908-7fb5051cef14",
        "part": "whole"
       },
       "id": "08cd7807-5db7-4418-94ad-e1da4e86a28f"
      },
      "374bffc4-1a0d-40d5-90ae-50cfa7b26769": {
       "attrs": {
        "height": 0.07225548902195611,
        "width": 0.7992015968063871,
        "x": 0.09800399201596811,
        "y": 0.3451541361721001
       },
       "content": {
        "cell": "74df27b6-aaa2-43d5-bda5-3ad7ae95a0b2",
        "part": "whole"
       },
       "id": "374bffc4-1a0d-40d5-90ae-50cfa7b26769"
      },
      "4c9e73f3-a15e-4189-aea9-0d0e39682acb": {
       "attrs": {
        "height": 0.08112663561765363,
        "width": 0.7982035928143713,
        "x": 0.09880239520958084,
        "y": 0.4498336660013306
       },
       "content": {
        "cell": "ca96b4c9-2017-4f4c-a0f3-88300bb90781",
        "part": "whole"
       },
       "id": "4c9e73f3-a15e-4189-aea9-0d0e39682acb"
      },
      "eddefd67-4d45-44ae-958b-9e7e0bd35b4c": {
       "attrs": {
        "height": 0.1612774451097805,
        "width": 0.8,
        "x": 0.09700598802395202,
        "y": 0.5719752124366456
       },
       "content": {
        "cell": "a44a727a-ce4e-4c64-bdf1-3865e5dcfc5e",
        "part": "whole"
       },
       "id": "eddefd67-4d45-44ae-958b-9e7e0bd35b4c"
      }
     }
    },
    "4dc04537-073b-4a02-8614-ce72b0093f62": {
     "id": "4dc04537-073b-4a02-8614-ce72b0093f62",
     "prev": "38202a19-c4c0-4801-a55f-471c5a50cdf3",
     "regions": {
      "881e3c66-2988-4627-a43a-4b8e2bf6d068": {
       "attrs": {
        "height": 0.8395209580838323,
        "width": 0.8,
        "x": 0.1,
        "y": 0.1
       },
       "content": {
        "cell": "f0b1eeb9-92fd-42e6-aba9-e824a7150676",
        "part": "whole"
       },
       "id": "881e3c66-2988-4627-a43a-4b8e2bf6d068"
      }
     }
    },
    "7117d6f3-027b-4848-9654-a791f394b0ac": {
     "id": "7117d6f3-027b-4848-9654-a791f394b0ac",
     "prev": "4dc04537-073b-4a02-8614-ce72b0093f62",
     "regions": {
      "36338b31-f271-4445-aea9-5a533904d897": {
       "attrs": {
        "height": 0.8040363717010424,
        "width": 0.8,
        "x": 0.1,
        "y": 0.1
       },
       "content": {
        "cell": "077d6f73-39ee-4b65-8947-19c023bccb03",
        "part": "whole"
       },
       "id": "36338b31-f271-4445-aea9-5a533904d897"
      }
     }
    },
    "79cd7596-8f86-498c-bfd0-d735eeab009a": {
     "id": "79cd7596-8f86-498c-bfd0-d735eeab009a",
     "prev": "7117d6f3-027b-4848-9654-a791f394b0ac",
     "regions": {
      "927930e4-56ad-4124-a56b-3fedf314255a": {
       "attrs": {
        "height": 0.08822355289421159,
        "width": 0.7982035928143713,
        "x": 0.10099800399201596,
        "y": 0.09853626081170988
       },
       "content": {
        "cell": "68d57e61-e3cd-429b-9732-3ede3a46453a",
        "part": "whole"
       },
       "id": "927930e4-56ad-4124-a56b-3fedf314255a"
      },
      "e4414efa-f3a0-4bbd-9218-f0fd27a2a04d": {
       "attrs": {
        "height": 0.695808383233533,
        "width": 0.8,
        "x": 0.10299401197604784,
        "y": 0.20113107119095144
       },
       "content": {
        "cell": "100f45c5-7af9-4a9d-b285-17ced767b3e4",
        "part": "whole"
       },
       "id": "e4414efa-f3a0-4bbd-9218-f0fd27a2a04d"
      }
     }
    },
    "c842f66e-8dea-43a7-85cb-5ce09b58d8dd": {
     "id": "c842f66e-8dea-43a7-85cb-5ce09b58d8dd",
     "prev": "ef39c0a3-a04e-42d4-87e0-ef067d3e2aec",
     "regions": {
      "29432d7a-5fb7-43c7-897e-f7634f6f4f7c": {
       "attrs": {
        "height": 0.6,
        "width": 0.8,
        "x": 0.1,
        "y": 0.1
       },
       "content": {
        "cell": "a447869c-cf20-468b-ae21-1cc70b0a15a2",
        "part": "whole"
       },
       "id": "29432d7a-5fb7-43c7-897e-f7634f6f4f7c"
      },
      "71a0957b-7052-489e-ae8a-037f66a2f3d2": {
       "attrs": {
        "height": 0.2,
        "width": 0.4,
        "x": 0.1,
        "y": 0.7
       },
       "id": "71a0957b-7052-489e-ae8a-037f66a2f3d2"
      },
      "aaa0a20a-682b-4c71-b4aa-90cf7159e19d": {
       "attrs": {
        "height": 0.2,
        "width": 0.4,
        "x": 0.5,
        "y": 0.7
       },
       "id": "aaa0a20a-682b-4c71-b4aa-90cf7159e19d"
      }
     }
    },
    "ef39c0a3-a04e-42d4-87e0-ef067d3e2aec": {
     "id": "ef39c0a3-a04e-42d4-87e0-ef067d3e2aec",
     "prev": "79cd7596-8f86-498c-bfd0-d735eeab009a",
     "regions": {
      "551e9a6c-f6b0-450e-8f9b-4a882dca97dd": {
       "attrs": {
        "height": 0.0917720115324906,
        "width": 0.7992015968063871,
        "x": 0.10099800399201596,
        "y": 0.09853626081170988
       },
       "content": {
        "cell": "d02500e1-a2e1-441c-845b-d4f9db88ce39",
        "part": "whole"
       },
       "id": "551e9a6c-f6b0-450e-8f9b-4a882dca97dd"
      },
      "c3ff666a-b161-4a1f-8b47-792e3296c0e5": {
       "attrs": {
        "height": 0.7259702816589044,
        "width": 0.8,
        "x": 0.09999999999999994,
        "y": 0.17984031936127748
       },
       "content": {
        "cell": "30f369f5-1184-47db-bae2-c3c87b1fbdbc",
        "part": "whole"
       },
       "id": "c3ff666a-b161-4a1f-8b47-792e3296c0e5"
      }
     }
    }
   },
   "themes": {
    "default": "d00171c3-ba9b-47be-a118-e1a9c79460f4",
    "theme": {}
   }
  }
 },
 "nbformat": 4,
 "nbformat_minor": 2
}
