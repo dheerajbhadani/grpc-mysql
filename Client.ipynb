{
 "cells": [
  {
   "cell_type": "markdown",
   "metadata": {
    "nbpresent": {
     "id": "5706f954-962f-4fa7-8c2f-6a6b2d50f4dd"
    }
   },
   "source": [
    "# Client\n",
    "## Section-1 : Basic "
   ]
  },
  {
   "cell_type": "code",
   "execution_count": 25,
   "metadata": {
    "collapsed": false,
    "nbpresent": {
     "id": "257c9164-4bb4-4a94-b722-322fb1cd3286"
    },
    "scrolled": false
   },
   "outputs": [
    {
     "name": "stdout",
     "output_type": "stream",
     "text": [
      "env: PYTHONPATH=/home/dheerajbhadani/git/tmp/grpc-sqlite\n",
      "<generated.employee_pb2_grpc.EmployeeStub object at 0x7fb63acecc50>\n"
     ]
    }
   ],
   "source": [
    "var = !pwd\n",
    "%env PYTHONPATH={var[0]}\n",
    "!./.venv/bin/python src/client.py"
   ]
  },
  {
   "cell_type": "markdown",
   "metadata": {
    "nbpresent": {
     "id": "08b9450a-a5ab-40af-885d-f41341bbfbc8"
    }
   },
   "source": [
    "### Restart Kernel on Server notebook."
   ]
  },
  {
   "cell_type": "markdown",
   "metadata": {
    "nbpresent": {
     "id": "e4b00775-906c-421d-b8a7-e9bc2f56f88c"
    }
   },
   "source": [
    "### [Client] Section-2 : After implementing blank response."
   ]
  },
  {
   "cell_type": "code",
   "execution_count": 26,
   "metadata": {
    "collapsed": false,
    "nbpresent": {
     "id": "90706cac-7759-4123-bb1b-232f1a815a5f"
    }
   },
   "outputs": [
    {
     "name": "stdout",
     "output_type": "stream",
     "text": [
      "Overwriting src/client.py\n"
     ]
    }
   ],
   "source": [
    "%%writefile src/client.py\n",
    "\n",
    "from __future__ import print_function\n",
    "\n",
    "import grpc\n",
    "from generated import employee_pb2, employee_pb2_grpc\n",
    "\n",
    "\n",
    "class EmployeeClient(object):\n",
    "    def __init__(self):\n",
    "        pass\n",
    "    \n",
    "    def get_employee(self, stub):\n",
    "        read_request = employee_pb2.readRequestPB()\n",
    "        read_request.first_name = \"Pauli\"\n",
    "        return stub.Read(read_request)\n",
    "    \n",
    "    \n",
    "def run():\n",
    "    channel = grpc.insecure_channel('localhost:40084')\n",
    "    stub = employee_pb2_grpc.EmployeeStub(channel)\n",
    "    \n",
    "    emp_client = EmployeeClient()\n",
    "    response = emp_client.get_employee(stub)\n",
    "    print(\"Response from server > \")\n",
    "    if response.ByteSize() == 0:\n",
    "        print(\"Empty response received.\")\n",
    "    else:\n",
    "        print(response)\n",
    "\n",
    "    \n",
    "if __name__ == '__main__':\n",
    "    run()"
   ]
  },
  {
   "cell_type": "code",
   "execution_count": 28,
   "metadata": {
    "collapsed": false,
    "nbpresent": {
     "id": "c3933875-fb9a-4803-899e-376695b9e837"
    }
   },
   "outputs": [
    {
     "name": "stdout",
     "output_type": "stream",
     "text": [
      "env: PYTHONPATH=/home/dheerajbhadani/git/tmp/grpc-sqlite\n",
      "Response from server > \n",
      "Empty response received.\n"
     ]
    }
   ],
   "source": [
    "var = !pwd\n",
    "%env PYTHONPATH={var[0]}\n",
    "!./.venv/bin/python src/client.py"
   ]
  },
  {
   "cell_type": "markdown",
   "metadata": {
    "nbpresent": {
     "id": "d59fcc55-f8ae-4674-98bc-78ae6dd82dd1"
    }
   },
   "source": [
    "### Restart Kernel on Server notebook."
   ]
  },
  {
   "cell_type": "markdown",
   "metadata": {
    "nbpresent": {
     "id": "d49614e8-802c-4a1a-abd3-79c6f4363e21"
    }
   },
   "source": [
    "### Section-2 ends"
   ]
  },
  {
   "cell_type": "markdown",
   "metadata": {
    "nbpresent": {
     "id": "4267b701-3c8f-49ed-9724-4dd63d6d8463"
    }
   },
   "source": [
    "### [Client] Section-3 : Final"
   ]
  },
  {
   "cell_type": "code",
   "execution_count": 29,
   "metadata": {
    "collapsed": false,
    "nbpresent": {
     "id": "98fd6ae1-dba1-489e-8f7f-7c1724d18f09"
    }
   },
   "outputs": [
    {
     "name": "stdout",
     "output_type": "stream",
     "text": [
      "Overwriting src/client.py\n"
     ]
    }
   ],
   "source": [
    "%%writefile src/client.py\n",
    "\n",
    "from __future__ import print_function\n",
    "\n",
    "import grpc\n",
    "from generated import employee_pb2, employee_pb2_grpc\n",
    "\n",
    "\n",
    "class EmployeeClient(object):\n",
    "    def __init__(self):\n",
    "        pass\n",
    "\n",
    "    def get_employee(self, stub):\n",
    "        read_request = employee_pb2.readRequestPB()\n",
    "        read_request.first_name = \"Pauli\"\n",
    "        #read_request.gender = \"Female\"\n",
    "        return stub.Read(read_request)\n",
    "\n",
    "    \n",
    "def run():\n",
    "    channel = grpc.insecure_channel('localhost:40084')\n",
    "    stub = employee_pb2_grpc.EmployeeStub(channel)\n",
    "\n",
    "    emp_client = EmployeeClient()\n",
    "    response = emp_client.get_employee(stub)\n",
    "    print(\"Response from server > \")\n",
    "    if response.ByteSize() == 0:\n",
    "        print(\"Empty response received.\")\n",
    "    else:\n",
    "        print(response)    \n",
    "    \n",
    "\n",
    "if __name__ == '__main__':\n",
    "    run()"
   ]
  },
  {
   "cell_type": "code",
   "execution_count": 30,
   "metadata": {
    "collapsed": false,
    "nbpresent": {
     "id": "b3a6861a-5916-4034-95ca-5e2ffb8e3f56"
    },
    "scrolled": true
   },
   "outputs": [
    {
     "name": "stdout",
     "output_type": "stream",
     "text": [
      "env: PYTHONPATH=/home/dheerajbhadani/git/grpc-sqlite\n",
      "Traceback (most recent call last):\n",
      "  File \"src/client.py\", line 33, in <module>\n",
      "    run()\n",
      "  File \"src/client.py\", line 24, in run\n",
      "    response = emp_client.get_employee(stub)\n",
      "  File \"src/client.py\", line 16, in get_employee\n",
      "    return stub.Read(read_request)\n",
      "  File \"/home/dheerajbhadani/git/tmp/grpc-sqlite/.venv/local/lib/python2.7/site-packages/grpc/_channel.py\", line 532, in __call__\n",
      "    return _end_unary_response_blocking(state, call, False, None)\n",
      "  File \"/home/dheerajbhadani/git/tmp/grpc-sqlite/.venv/local/lib/python2.7/site-packages/grpc/_channel.py\", line 466, in _end_unary_response_blocking\n",
      "    raise _Rendezvous(state, None, None, deadline)\n",
      "grpc._channel._Rendezvous: <_Rendezvous of RPC that terminated with:\n",
      "\tstatus = StatusCode.UNAVAILABLE\n",
      "\tdetails = \"Connect Failed\"\n",
      "\tdebug_error_string = \"{\"created\":\"@1538947215.992749158\",\"description\":\"Failed to create subchannel\",\"file\":\"src/core/ext/filters/client_channel/client_channel.cc\",\"file_line\":2636,\"referenced_errors\":[{\"created\":\"@1538947215.992733413\",\"description\":\"Pick Cancelled\",\"file\":\"src/core/ext/filters/client_channel/lb_policy/pick_first/pick_first.cc\",\"file_line\":241,\"referenced_errors\":[{\"created\":\"@1538947215.992711559\",\"description\":\"Connect Failed\",\"file\":\"src/core/ext/filters/client_channel/subchannel.cc\",\"file_line\":663,\"grpc_status\":14,\"referenced_errors\":[{\"created\":\"@1538947215.992697661\",\"description\":\"Failed to connect to remote host: OS Error\",\"errno\":111,\"file\":\"src/core/lib/iomgr/tcp_client_posix.cc\",\"file_line\":202,\"os_error\":\"Connection refused\",\"syscall\":\"connect\",\"target_address\":\"ipv4:127.0.0.1:40084\"}]}]}]}\"\n",
      ">\n"
     ]
    }
   ],
   "source": [
    "%env PYTHONPATH=/home/dheerajbhadani/git/grpc-sqlite\n",
    "!./.venv/bin/python src/client.py"
   ]
  },
  {
   "cell_type": "markdown",
   "metadata": {
    "collapsed": true,
    "nbpresent": {
     "id": "d317d48d-591a-4ce8-9130-185072fdfaf0"
    }
   },
   "source": [
    "### Section-3 ends"
   ]
  }
 ],
 "metadata": {
  "anaconda-cloud": {},
  "kernelspec": {
   "display_name": "Python [default]",
   "language": "python",
   "name": "python3"
  },
  "language_info": {
   "codemirror_mode": {
    "name": "ipython",
    "version": 3
   },
   "file_extension": ".py",
   "mimetype": "text/x-python",
   "name": "python",
   "nbconvert_exporter": "python",
   "pygments_lexer": "ipython3",
   "version": "3.5.2"
  },
  "nbpresent": {
   "slides": {
    "42e364a4-eaf2-42f9-9eae-d329b4b41db8": {
     "id": "42e364a4-eaf2-42f9-9eae-d329b4b41db8",
     "prev": "f859c3e1-8f73-476f-a27c-e3099723aabb",
     "regions": {
      "774390f7-1bf7-4f9f-b86d-054cb87abf8a": {
       "attrs": {
        "height": 0.6811266356176536,
        "width": 0.43473053892215574,
        "x": 0.10099800399201596,
        "y": 0.142581503659348
       },
       "content": {
        "cell": "90706cac-7759-4123-bb1b-232f1a815a5f",
        "part": "whole"
       },
       "id": "774390f7-1bf7-4f9f-b86d-054cb87abf8a"
      },
      "9d2aa758-3f67-4f13-b25c-a5377c10ad45": {
       "attrs": {
        "height": 0.10064315812818808,
        "width": 0.8001996007984031,
        "x": 0.09900199600798408,
        "y": 0.04530938123752491
       },
       "content": {
        "cell": "e4b00775-906c-421d-b8a7-e9bc2f56f88c",
        "part": "whole"
       },
       "id": "9d2aa758-3f67-4f13-b25c-a5377c10ad45"
      },
      "a8a7dab3-64b4-4d1d-9d7d-8c66a2936318": {
       "attrs": {
        "height": 0.6861388334442227,
        "width": 0.35309381237524945,
        "x": 0.5478972803832333,
        "y": 0.1464404524284763
       },
       "content": {
        "cell": "c3933875-fb9a-4803-899e-376695b9e837",
        "part": "whole"
       },
       "id": "a8a7dab3-64b4-4d1d-9d7d-8c66a2936318"
      }
     }
    },
    "f114bc96-71b7-4ba5-8bf3-ec592a10f675": {
     "id": "f114bc96-71b7-4ba5-8bf3-ec592a10f675",
     "prev": "42e364a4-eaf2-42f9-9eae-d329b4b41db8",
     "regions": {
      "1dd9828d-544c-4913-af77-5af3e187be4a": {
       "attrs": {
        "height": 0.6861388334442227,
        "width": 0.35309381237524945,
        "x": 0.5478972803832333,
        "y": 0.1464404524284763
       },
       "content": {
        "cell": "b3a6861a-5916-4034-95ca-5e2ffb8e3f56",
        "part": "whole"
       },
       "id": "1dd9828d-544c-4913-af77-5af3e187be4a"
      },
      "2f0c761b-c923-4d87-8638-6f9690cede70": {
       "attrs": {
        "height": 0.6811266356176536,
        "width": 0.43473053892215574,
        "x": 0.10099800399201596,
        "y": 0.142581503659348
       },
       "content": {
        "cell": "98fd6ae1-dba1-489e-8f7f-7c1724d18f09",
        "part": "whole"
       },
       "id": "2f0c761b-c923-4d87-8638-6f9690cede70"
      },
      "9ac574b2-b013-4f0a-b03e-fa4bbab18871": {
       "attrs": {
        "height": 0.10064315812818808,
        "width": 0.8001996007984031,
        "x": 0.09900199600798408,
        "y": 0.04530938123752491
       },
       "content": {
        "cell": "4267b701-3c8f-49ed-9724-4dd63d6d8463",
        "part": "whole"
       },
       "id": "9ac574b2-b013-4f0a-b03e-fa4bbab18871"
      }
     }
    },
    "f859c3e1-8f73-476f-a27c-e3099723aabb": {
     "id": "f859c3e1-8f73-476f-a27c-e3099723aabb",
     "prev": null,
     "regions": {
      "584bb1a7-c0aa-4490-8dc5-a9f1e0b61c64": {
       "attrs": {
        "height": 0.29128409846972725,
        "width": 0.8,
        "x": 0.09803991581636719,
        "y": 0.282718677021069
       },
       "content": {
        "cell": "257c9164-4bb4-4a94-b722-322fb1cd3286",
        "part": "whole"
       },
       "id": "584bb1a7-c0aa-4490-8dc5-a9f1e0b61c64"
      },
      "795664f7-9369-44e2-86d5-4526c9da0134": {
       "attrs": {
        "height": 0.1237081392770016,
        "width": 0.8021956087824351,
        "x": 0.09381237524950099,
        "y": 0.6024173874473275
       },
       "content": {
        "cell": "08b9450a-a5ab-40af-885d-f41341bbfbc8",
        "part": "whole"
       },
       "id": "795664f7-9369-44e2-86d5-4526c9da0134"
      },
      "b6760c73-e804-4e36-a465-f67e78ad1c42": {
       "attrs": {
        "height": 0.11128853404302508,
        "width": 0.7972055888223553,
        "x": 0.10099800399201596,
        "y": 0.09676203149257039
       },
       "content": {
        "cell": "5706f954-962f-4fa7-8c2f-6a6b2d50f4dd",
        "part": "whole"
       },
       "id": "b6760c73-e804-4e36-a465-f67e78ad1c42"
      }
     }
    }
   },
   "themes": {}
  }
 },
 "nbformat": 4,
 "nbformat_minor": 1
}
