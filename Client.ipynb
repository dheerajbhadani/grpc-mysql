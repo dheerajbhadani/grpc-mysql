{
 "cells": [
  {
   "cell_type": "code",
   "execution_count": null,
   "metadata": {
    "collapsed": false
   },
   "outputs": [],
   "source": [
    "%env PYTHONPATH=/home/dheerajbhadani/git/grpc-sqlite\n",
    "!./.venv/bin/python src/client.py"
   ]
  },
  {
   "cell_type": "code",
   "execution_count": null,
   "metadata": {
    "collapsed": false
   },
   "outputs": [],
   "source": [
    "%%writefile src/client.py\n",
    "\n",
    "from __future__ import print_function\n",
    "\n",
    "import time\n",
    "import grpc\n",
    "\n",
    "from generated import employee_pb2, employee_pb2_grpc\n",
    "\n",
    "class EmployeeClient(object):\n",
    "    def __init__(self):\n",
    "        pass\n",
    "    \n",
    "    def get_employee(self, stub):\n",
    "        read_request = employee_pb2.readRequestPB()\n",
    "        read_request.first_name = \"Pauli\"\n",
    "        return stub.Read(read_request)\n",
    "    \n",
    "def run():\n",
    "    channel = grpc.insecure_channel('localhost:40084')\n",
    "    stub = employee_pb2_grpc.EmployeeStub(channel)\n",
    "    \n",
    "    emp_client = EmployeeClient()\n",
    "    response = emp_client.get_employee(stub)\n",
    "    print(\"Response from server > \")\n",
    "    if response.ByteSize() == 0:\n",
    "        print(\"Empty response received.\")\n",
    "    else:\n",
    "        print(response)\n",
    "\n",
    "    \n",
    "if __name__ == '__main__':\n",
    "    run()"
   ]
  },
  {
   "cell_type": "code",
   "execution_count": null,
   "metadata": {
    "collapsed": false
   },
   "outputs": [],
   "source": [
    "%env PYTHONPATH=/home/dheerajbhadani/git/grpc-sqlite\n",
    "!./.venv/bin/python src/client.py"
   ]
  },
  {
   "cell_type": "code",
   "execution_count": null,
   "metadata": {
    "collapsed": false
   },
   "outputs": [],
   "source": [
    "%%writefile src/client.py\n",
    "\n",
    "from __future__ import print_function\n",
    "\n",
    "import grpc\n",
    "from generated import employee_pb2, employee_pb2_grpc\n",
    "\n",
    "class EmployeeClient(object):\n",
    "\n",
    "    def get_employee(self, stub):\n",
    "        read_request = employee_pb2.readRequestPB()\n",
    "        read_request.first_name = \"Pauli\"\n",
    "        #read_request.gender = \"Female\"\n",
    "        return stub.Read(read_request)\n",
    "\n",
    "def run():\n",
    "    channel = grpc.insecure_channel('localhost:40084')\n",
    "    stub = employee_pb2_grpc.EmployeeStub(channel)\n",
    "\n",
    "    emp_client = EmployeeClient()\n",
    "    print(emp_client.get_employee(stub))\n",
    "\n",
    "if __name__ == '__main__':\n",
    "    run()"
   ]
  },
  {
   "cell_type": "code",
   "execution_count": null,
   "metadata": {
    "collapsed": false,
    "scrolled": true
   },
   "outputs": [],
   "source": [
    "%env PYTHONPATH=/home/dheerajbhadani/git/grpc-sqlite\n",
    "!./.venv/bin/python src/client.py"
   ]
  },
  {
   "cell_type": "code",
   "execution_count": null,
   "metadata": {
    "collapsed": true
   },
   "outputs": [],
   "source": []
  }
 ],
 "metadata": {
  "anaconda-cloud": {},
  "kernelspec": {
   "display_name": "Python [default]",
   "language": "python",
   "name": "python3"
  },
  "language_info": {
   "codemirror_mode": {
    "name": "ipython",
    "version": 3
   },
   "file_extension": ".py",
   "mimetype": "text/x-python",
   "name": "python",
   "nbconvert_exporter": "python",
   "pygments_lexer": "ipython3",
   "version": "3.5.2"
  }
 },
 "nbformat": 4,
 "nbformat_minor": 1
}
