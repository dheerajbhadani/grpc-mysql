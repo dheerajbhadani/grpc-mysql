{
 "cells": [
  {
   "cell_type": "markdown",
   "metadata": {
    "nbpresent": {
     "id": "5706f954-962f-4fa7-8c2f-6a6b2d50f4dd"
    }
   },
   "source": [
    "### Section-1 begins : Basic"
   ]
  },
  {
   "cell_type": "code",
   "execution_count": 10,
   "metadata": {
    "collapsed": false,
    "nbpresent": {
     "id": "257c9164-4bb4-4a94-b722-322fb1cd3286"
    },
    "scrolled": false
   },
   "outputs": [
    {
     "name": "stdout",
     "output_type": "stream",
     "text": [
      "env: PYTHONPATH=/home/dheerajbhadani/git/grpc-sqlite\n",
      "<generated.employee_pb2_grpc.EmployeeStub object at 0x7fa314e56c50>\n"
     ]
    }
   ],
   "source": [
    "%env PYTHONPATH=/home/dheerajbhadani/git/grpc-sqlite\n",
    "!./.venv/bin/python src/client.py"
   ]
  },
  {
   "cell_type": "code",
   "execution_count": 11,
   "metadata": {
    "collapsed": false,
    "nbpresent": {
     "id": "38a1659f-3c09-42f1-9fd0-628bb6c6263e"
    },
    "scrolled": true
   },
   "outputs": [
    {
     "name": "stdout",
     "output_type": "stream",
     "text": [
      "(Not all processes could be identified, non-owned process info\r\n",
      " will not be shown, you would have to be root to see it all.)\r\n",
      "tcp6       0      0 :::40084                :::*                    LISTEN      25723/python    \r\n"
     ]
    }
   ],
   "source": [
    "!netstat -tapn | grep 40084"
   ]
  },
  {
   "cell_type": "code",
   "execution_count": 12,
   "metadata": {
    "collapsed": true,
    "nbpresent": {
     "id": "e4613982-52e9-49a1-85f6-98f183c3581c"
    }
   },
   "outputs": [],
   "source": [
    "!kill -9 25723"
   ]
  },
  {
   "cell_type": "markdown",
   "metadata": {
    "nbpresent": {
     "id": "08b9450a-a5ab-40af-885d-f41341bbfbc8"
    }
   },
   "source": [
    "Restart Kernel on Server notebook."
   ]
  },
  {
   "cell_type": "markdown",
   "metadata": {
    "nbpresent": {
     "id": "2cd394bb-ce5a-4441-83c7-d422d5270d0d"
    }
   },
   "source": [
    "### Section-1 ends"
   ]
  },
  {
   "cell_type": "markdown",
   "metadata": {
    "nbpresent": {
     "id": "e4b00775-906c-421d-b8a7-e9bc2f56f88c"
    }
   },
   "source": [
    "### Section-2 begins : After implementing blank response."
   ]
  },
  {
   "cell_type": "code",
   "execution_count": null,
   "metadata": {
    "collapsed": false,
    "nbpresent": {
     "id": "90706cac-7759-4123-bb1b-232f1a815a5f"
    }
   },
   "outputs": [],
   "source": [
    "%%writefile src/client.py\n",
    "\n",
    "from __future__ import print_function\n",
    "\n",
    "import time\n",
    "import grpc\n",
    "\n",
    "from generated import employee_pb2, employee_pb2_grpc\n",
    "\n",
    "class EmployeeClient(object):\n",
    "    def __init__(self):\n",
    "        pass\n",
    "    \n",
    "    def get_employee(self, stub):\n",
    "        read_request = employee_pb2.readRequestPB()\n",
    "        read_request.first_name = \"Pauli\"\n",
    "        return stub.Read(read_request)\n",
    "    \n",
    "def run():\n",
    "    channel = grpc.insecure_channel('localhost:40084')\n",
    "    stub = employee_pb2_grpc.EmployeeStub(channel)\n",
    "    \n",
    "    emp_client = EmployeeClient()\n",
    "    response = emp_client.get_employee(stub)\n",
    "    print(\"Response from server > \")\n",
    "    if response.ByteSize() == 0:\n",
    "        print(\"Empty response received.\")\n",
    "    else:\n",
    "        print(response)\n",
    "\n",
    "    \n",
    "if __name__ == '__main__':\n",
    "    run()"
   ]
  },
  {
   "cell_type": "code",
   "execution_count": null,
   "metadata": {
    "collapsed": false,
    "nbpresent": {
     "id": "c3933875-fb9a-4803-899e-376695b9e837"
    }
   },
   "outputs": [],
   "source": [
    "%env PYTHONPATH=/home/dheerajbhadani/git/grpc-sqlite\n",
    "!./.venv/bin/python src/client.py"
   ]
  },
  {
   "cell_type": "code",
   "execution_count": null,
   "metadata": {
    "collapsed": true,
    "nbpresent": {
     "id": "acec25ed-52e7-4466-abff-c8db7407cf41"
    }
   },
   "outputs": [],
   "source": [
    "!netstat -tapn | grep 40084"
   ]
  },
  {
   "cell_type": "code",
   "execution_count": null,
   "metadata": {
    "collapsed": true,
    "nbpresent": {
     "id": "b909631c-399f-4df1-8322-471db47c2126"
    }
   },
   "outputs": [],
   "source": [
    "!kill -9 25350"
   ]
  },
  {
   "cell_type": "markdown",
   "metadata": {
    "nbpresent": {
     "id": "d59fcc55-f8ae-4674-98bc-78ae6dd82dd1"
    }
   },
   "source": [
    "Restart Kernel on Server notebook."
   ]
  },
  {
   "cell_type": "markdown",
   "metadata": {
    "nbpresent": {
     "id": "d49614e8-802c-4a1a-abd3-79c6f4363e21"
    }
   },
   "source": [
    "### Section-2 ends"
   ]
  },
  {
   "cell_type": "markdown",
   "metadata": {
    "nbpresent": {
     "id": "4267b701-3c8f-49ed-9724-4dd63d6d8463"
    }
   },
   "source": [
    "### Section-3 begins : Final"
   ]
  },
  {
   "cell_type": "code",
   "execution_count": null,
   "metadata": {
    "collapsed": false,
    "nbpresent": {
     "id": "98fd6ae1-dba1-489e-8f7f-7c1724d18f09"
    }
   },
   "outputs": [],
   "source": [
    "%%writefile src/client.py\n",
    "\n",
    "from __future__ import print_function\n",
    "\n",
    "import grpc\n",
    "from generated import employee_pb2, employee_pb2_grpc\n",
    "\n",
    "class EmployeeClient(object):\n",
    "\n",
    "    def get_employee(self, stub):\n",
    "        read_request = employee_pb2.readRequestPB()\n",
    "        read_request.first_name = \"Pauli\"\n",
    "        #read_request.gender = \"Female\"\n",
    "        return stub.Read(read_request)\n",
    "\n",
    "def run():\n",
    "    channel = grpc.insecure_channel('localhost:40084')\n",
    "    stub = employee_pb2_grpc.EmployeeStub(channel)\n",
    "\n",
    "    emp_client = EmployeeClient()\n",
    "    print(emp_client.get_employee(stub))\n",
    "\n",
    "if __name__ == '__main__':\n",
    "    run()"
   ]
  },
  {
   "cell_type": "code",
   "execution_count": null,
   "metadata": {
    "collapsed": false,
    "nbpresent": {
     "id": "b3a6861a-5916-4034-95ca-5e2ffb8e3f56"
    },
    "scrolled": true
   },
   "outputs": [],
   "source": [
    "%env PYTHONPATH=/home/dheerajbhadani/git/grpc-sqlite\n",
    "!./.venv/bin/python src/client.py"
   ]
  },
  {
   "cell_type": "markdown",
   "metadata": {
    "collapsed": true,
    "nbpresent": {
     "id": "d317d48d-591a-4ce8-9130-185072fdfaf0"
    }
   },
   "source": [
    "### Section-3 ends"
   ]
  }
 ],
 "metadata": {
  "anaconda-cloud": {},
  "kernelspec": {
   "display_name": "Python [default]",
   "language": "python",
   "name": "python3"
  },
  "language_info": {
   "codemirror_mode": {
    "name": "ipython",
    "version": 3
   },
   "file_extension": ".py",
   "mimetype": "text/x-python",
   "name": "python",
   "nbconvert_exporter": "python",
   "pygments_lexer": "ipython3",
   "version": "3.5.2"
  },
  "nbpresent": {
   "slides": {
    "149da506-87b2-4323-b868-4835e6019ea0": {
     "id": "149da506-87b2-4323-b868-4835e6019ea0",
     "prev": "a087b11f-2900-49fb-8ded-0bde298e89be",
     "regions": {
      "63b8cca1-7d8c-48ba-ae7f-38ef330d669e": {
       "attrs": {
        "height": 0.8,
        "width": 0.8,
        "x": 0.1,
        "y": 0.1
       },
       "content": {
        "cell": "4267b701-3c8f-49ed-9724-4dd63d6d8463",
        "part": "whole"
       },
       "id": "63b8cca1-7d8c-48ba-ae7f-38ef330d669e"
      }
     }
    },
    "1ef15770-8294-4d98-9ff9-14bd35ab6110": {
     "id": "1ef15770-8294-4d98-9ff9-14bd35ab6110",
     "prev": "cb65617d-aa9e-462d-b19d-da0c5c002ac2",
     "regions": {
      "e7c31362-139f-47a6-af96-a2db920a45c2": {
       "attrs": {
        "height": 0.8,
        "width": 0.8,
        "x": 0.1,
        "y": 0.1
       },
       "content": {
        "cell": "e4b00775-906c-421d-b8a7-e9bc2f56f88c",
        "part": "whole"
       },
       "id": "e7c31362-139f-47a6-af96-a2db920a45c2"
      }
     }
    },
    "2842e04b-219e-4065-bc2e-37650318298c": {
     "id": "2842e04b-219e-4065-bc2e-37650318298c",
     "prev": null,
     "regions": {
      "00c61326-63b7-4c28-bcc8-62386197901a": {
       "attrs": {
        "height": 0.8,
        "width": 0.8,
        "x": 0.1,
        "y": 0.1
       },
       "content": {
        "cell": "5706f954-962f-4fa7-8c2f-6a6b2d50f4dd",
        "part": "whole"
       },
       "id": "00c61326-63b7-4c28-bcc8-62386197901a"
      }
     }
    },
    "67aa4815-1a11-4335-bd46-21a0c256a761": {
     "id": "67aa4815-1a11-4335-bd46-21a0c256a761",
     "prev": "a9a1e9c6-d7d4-41e9-b51c-e68b5db19130",
     "regions": {
      "aebc9e74-623b-4e27-91c4-9fcbc111cd42": {
       "attrs": {
        "height": 0.8,
        "width": 0.8,
        "x": 0.1,
        "y": 0.1
       },
       "content": {
        "cell": "38a1659f-3c09-42f1-9fd0-628bb6c6263e",
        "part": "whole"
       },
       "id": "aebc9e74-623b-4e27-91c4-9fcbc111cd42"
      }
     }
    },
    "7b5ffc5c-b619-46b9-851c-7189f2879b88": {
     "id": "7b5ffc5c-b619-46b9-851c-7189f2879b88",
     "prev": "149da506-87b2-4323-b868-4835e6019ea0",
     "regions": {
      "d497c8be-f8e5-4a38-8a96-715851b2f7a7": {
       "attrs": {
        "height": 0.8,
        "width": 0.8,
        "x": 0.1,
        "y": 0.1
       },
       "content": {
        "cell": "98fd6ae1-dba1-489e-8f7f-7c1724d18f09",
        "part": "whole"
       },
       "id": "d497c8be-f8e5-4a38-8a96-715851b2f7a7"
      }
     }
    },
    "8aada8db-2df6-49ad-a6ae-e315c1db27e2": {
     "id": "8aada8db-2df6-49ad-a6ae-e315c1db27e2",
     "prev": "f2a18171-ec15-4a5f-ace4-c80cc360cf8f",
     "regions": {
      "c363ce26-31b2-4768-bf06-2c2e30911ff0": {
       "attrs": {
        "height": 0.8,
        "width": 0.8,
        "x": 0.1,
        "y": 0.1
       },
       "content": {
        "cell": "acec25ed-52e7-4466-abff-c8db7407cf41",
        "part": "whole"
       },
       "id": "c363ce26-31b2-4768-bf06-2c2e30911ff0"
      }
     }
    },
    "901eb9d6-78d8-42fb-bcbf-469accc53fea": {
     "id": "901eb9d6-78d8-42fb-bcbf-469accc53fea",
     "prev": "cf0b3c5c-812e-4abd-b2ef-eb19763c8885",
     "regions": {
      "1be60c7e-42c0-4315-b1b6-ed6767430a4b": {
       "attrs": {
        "height": 0.8,
        "width": 0.8,
        "x": 0.1,
        "y": 0.1
       },
       "content": {
        "cell": "08b9450a-a5ab-40af-885d-f41341bbfbc8",
        "part": "whole"
       },
       "id": "1be60c7e-42c0-4315-b1b6-ed6767430a4b"
      }
     }
    },
    "a087b11f-2900-49fb-8ded-0bde298e89be": {
     "id": "a087b11f-2900-49fb-8ded-0bde298e89be",
     "prev": "ad0df519-a629-495f-8c81-aa3a922295d2",
     "regions": {
      "e869cf9c-0522-4c40-97cb-3b9cab55bc03": {
       "attrs": {
        "height": 0.8,
        "width": 0.8,
        "x": 0.1,
        "y": 0.1
       },
       "content": {
        "cell": "d49614e8-802c-4a1a-abd3-79c6f4363e21",
        "part": "whole"
       },
       "id": "e869cf9c-0522-4c40-97cb-3b9cab55bc03"
      }
     }
    },
    "a603fae9-6224-4c63-b759-5eb0c79cab51": {
     "id": "a603fae9-6224-4c63-b759-5eb0c79cab51",
     "prev": "c12b35e7-645f-4491-a9b6-38322a0b23d5",
     "regions": {
      "74f4128e-8075-400f-b5d5-903273a6cbe4": {
       "attrs": {
        "height": 0.8,
        "width": 0.8,
        "x": 0.1,
        "y": 0.1
       },
       "content": {
        "cell": "d317d48d-591a-4ce8-9130-185072fdfaf0",
        "part": "whole"
       },
       "id": "74f4128e-8075-400f-b5d5-903273a6cbe4"
      }
     }
    },
    "a9a1e9c6-d7d4-41e9-b51c-e68b5db19130": {
     "id": "a9a1e9c6-d7d4-41e9-b51c-e68b5db19130",
     "prev": "2842e04b-219e-4065-bc2e-37650318298c",
     "regions": {
      "f3d8dceb-62fb-47d2-a489-1ffd8630e743": {
       "attrs": {
        "height": 0.8,
        "width": 0.8,
        "x": 0.1,
        "y": 0.1
       },
       "content": {
        "cell": "257c9164-4bb4-4a94-b722-322fb1cd3286",
        "part": "whole"
       },
       "id": "f3d8dceb-62fb-47d2-a489-1ffd8630e743"
      }
     }
    },
    "ad0df519-a629-495f-8c81-aa3a922295d2": {
     "id": "ad0df519-a629-495f-8c81-aa3a922295d2",
     "prev": "b249733f-6975-462a-a82d-532f53ec4401",
     "regions": {
      "d3dde817-f4be-4ff6-8323-2f0cad9df7a8": {
       "attrs": {
        "height": 0.8,
        "width": 0.8,
        "x": 0.1,
        "y": 0.1
       },
       "content": {
        "cell": "d59fcc55-f8ae-4674-98bc-78ae6dd82dd1",
        "part": "whole"
       },
       "id": "d3dde817-f4be-4ff6-8323-2f0cad9df7a8"
      }
     }
    },
    "b249733f-6975-462a-a82d-532f53ec4401": {
     "id": "b249733f-6975-462a-a82d-532f53ec4401",
     "prev": "8aada8db-2df6-49ad-a6ae-e315c1db27e2",
     "regions": {
      "e6ba812f-cfc8-4858-bff6-c2f8c637c8d3": {
       "attrs": {
        "height": 0.8,
        "width": 0.8,
        "x": 0.1,
        "y": 0.1
       },
       "content": {
        "cell": "b909631c-399f-4df1-8322-471db47c2126",
        "part": "whole"
       },
       "id": "e6ba812f-cfc8-4858-bff6-c2f8c637c8d3"
      }
     }
    },
    "c12b35e7-645f-4491-a9b6-38322a0b23d5": {
     "id": "c12b35e7-645f-4491-a9b6-38322a0b23d5",
     "prev": "7b5ffc5c-b619-46b9-851c-7189f2879b88",
     "regions": {
      "405d964d-fc8b-4c29-9743-db99e7814167": {
       "attrs": {
        "height": 0.8,
        "width": 0.8,
        "x": 0.1,
        "y": 0.1
       },
       "content": {
        "cell": "b3a6861a-5916-4034-95ca-5e2ffb8e3f56",
        "part": "whole"
       },
       "id": "405d964d-fc8b-4c29-9743-db99e7814167"
      }
     }
    },
    "cb65617d-aa9e-462d-b19d-da0c5c002ac2": {
     "id": "cb65617d-aa9e-462d-b19d-da0c5c002ac2",
     "prev": "901eb9d6-78d8-42fb-bcbf-469accc53fea",
     "regions": {
      "c6f13f19-2f8d-4bf0-bd02-dc038a1d057d": {
       "attrs": {
        "height": 0.8,
        "width": 0.8,
        "x": 0.1,
        "y": 0.1
       },
       "content": {
        "cell": "2cd394bb-ce5a-4441-83c7-d422d5270d0d",
        "part": "whole"
       },
       "id": "c6f13f19-2f8d-4bf0-bd02-dc038a1d057d"
      }
     }
    },
    "cf0b3c5c-812e-4abd-b2ef-eb19763c8885": {
     "id": "cf0b3c5c-812e-4abd-b2ef-eb19763c8885",
     "prev": "67aa4815-1a11-4335-bd46-21a0c256a761",
     "regions": {
      "b9106acb-9b50-446a-b2e6-1da80dc2e901": {
       "attrs": {
        "height": 0.8,
        "width": 0.8,
        "x": 0.1,
        "y": 0.1
       },
       "content": {
        "cell": "e4613982-52e9-49a1-85f6-98f183c3581c",
        "part": "whole"
       },
       "id": "b9106acb-9b50-446a-b2e6-1da80dc2e901"
      }
     }
    },
    "d26cb4ec-ab51-4eeb-af43-dca52a4cf074": {
     "id": "d26cb4ec-ab51-4eeb-af43-dca52a4cf074",
     "prev": "1ef15770-8294-4d98-9ff9-14bd35ab6110",
     "regions": {
      "fdf07be8-a0cc-4228-b027-49a861daae24": {
       "attrs": {
        "height": 0.8,
        "width": 0.8,
        "x": 0.1,
        "y": 0.1
       },
       "content": {
        "cell": "90706cac-7759-4123-bb1b-232f1a815a5f",
        "part": "whole"
       },
       "id": "fdf07be8-a0cc-4228-b027-49a861daae24"
      }
     }
    },
    "f2a18171-ec15-4a5f-ace4-c80cc360cf8f": {
     "id": "f2a18171-ec15-4a5f-ace4-c80cc360cf8f",
     "prev": "d26cb4ec-ab51-4eeb-af43-dca52a4cf074",
     "regions": {
      "f0b5a399-9b6f-4634-b252-5e2e1d08e040": {
       "attrs": {
        "height": 0.8,
        "width": 0.8,
        "x": 0.1,
        "y": 0.1
       },
       "content": {
        "cell": "c3933875-fb9a-4803-899e-376695b9e837",
        "part": "whole"
       },
       "id": "f0b5a399-9b6f-4634-b252-5e2e1d08e040"
      }
     }
    }
   },
   "themes": {}
  }
 },
 "nbformat": 4,
 "nbformat_minor": 1
}
