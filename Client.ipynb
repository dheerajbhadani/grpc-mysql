{
 "cells": [
  {
   "cell_type": "code",
   "execution_count": 2,
   "metadata": {
    "collapsed": false
   },
   "outputs": [
    {
     "name": "stdout",
     "output_type": "stream",
     "text": [
      "Overwriting src/client.py\n"
     ]
    }
   ],
   "source": [
    "%%writefile src/client.py\n",
    "\n",
    "from __future__ import print_function\n",
    "\n",
    "import grpc\n",
    "from generated import employee_pb2, employee_pb2_grpc\n",
    "\n",
    "class EmployeeClient(object):\n",
    "\n",
    "    def get_employee(self, stub):\n",
    "        read_request = employee_pb2.readRequestPB()\n",
    "        read_request.first_name = \"Pauli\"\n",
    "        #read_request.gender = \"Female\"\n",
    "        return stub.Read(read_request)\n",
    "\n",
    "def run():\n",
    "    channel = grpc.insecure_channel('localhost:40084')\n",
    "    stub = employee_pb2_grpc.EmployeeStub(channel)\n",
    "\n",
    "    emp_client = EmployeeClient()\n",
    "    print(emp_client.get_employee(stub))\n",
    "\n",
    "if __name__ == '__main__':\n",
    "    run()"
   ]
  },
  {
   "cell_type": "code",
   "execution_count": 7,
   "metadata": {
    "collapsed": false
   },
   "outputs": [
    {
     "name": "stdout",
     "output_type": "stream",
     "text": [
      "env: PYTHONPATH=/home/dheerajbhadani/git/grpc-sqlite\n",
      "Traceback (most recent call last):\n",
      "  File \"src/client.py\", line 23, in <module>\n",
      "    run()\n",
      "  File \"src/client.py\", line 20, in run\n",
      "    print(emp_client.get_employee(stub))\n",
      "  File \"src/client.py\", line 13, in get_employee\n",
      "    return stub.Read(read_request)\n",
      "  File \"/home/dheerajbhadani/git/grpc-sqlite/.venv/local/lib/python2.7/site-packages/grpc/_channel.py\", line 532, in __call__\n",
      "    return _end_unary_response_blocking(state, call, False, None)\n",
      "  File \"/home/dheerajbhadani/git/grpc-sqlite/.venv/local/lib/python2.7/site-packages/grpc/_channel.py\", line 466, in _end_unary_response_blocking\n",
      "    raise _Rendezvous(state, None, None, deadline)\n",
      "grpc._channel._Rendezvous: <_Rendezvous of RPC that terminated with:\n",
      "\tstatus = StatusCode.UNKNOWN\n",
      "\tdetails = \"Exception calling application: no such table: EMPLOYEE\"\n",
      "\tdebug_error_string = \"{\"created\":\"@1538912709.165954150\",\"description\":\"Error received from peer\",\"file\":\"src/core/lib/surface/call.cc\",\"file_line\":1099,\"grpc_message\":\"Exception calling application: no such table: EMPLOYEE\",\"grpc_status\":2}\"\n",
      ">\n"
     ]
    }
   ],
   "source": [
    "%env PYTHONPATH=/home/dheerajbhadani/git/grpc-sqlite\n",
    "!./.venv/bin/python src/client.py"
   ]
  },
  {
   "cell_type": "code",
   "execution_count": 5,
   "metadata": {
    "collapsed": false
   },
   "outputs": [
    {
     "name": "stdout",
     "output_type": "stream",
     "text": [
      "/home/dheerajbhadani/git/grpc-sqlite\r\n"
     ]
    }
   ],
   "source": [
    "!pwd"
   ]
  },
  {
   "cell_type": "code",
   "execution_count": 6,
   "metadata": {
    "collapsed": false
   },
   "outputs": [
    {
     "name": "stdout",
     "output_type": "stream",
     "text": [
      "total 272\r\n",
      "drwxrwxr-x 9 dheerajbhadani dheerajbhadani  4096 Oct  7 11:38 .\r\n",
      "drwxrwxr-x 4 dheerajbhadani dheerajbhadani  4096 Oct  7 10:04 ..\r\n",
      "-rw-rw-r-- 1 dheerajbhadani dheerajbhadani  3379 Oct  7 11:38 Client.ipynb\r\n",
      "drwxrwxr-x 2 dheerajbhadani dheerajbhadani  4096 Oct  7 11:04 generated\r\n",
      "drwxrwxr-x 8 dheerajbhadani dheerajbhadani  4096 Oct  7 10:04 .git\r\n",
      "-rw-rw-r-- 1 dheerajbhadani dheerajbhadani 94747 Oct  7 10:04 grpc-dbsync.png\r\n",
      "-rw-rw-r-- 1 dheerajbhadani dheerajbhadani 17194 Oct  7 11:28 grpc-sqlite.ipynb\r\n",
      "-rw-rw-r-- 1 dheerajbhadani dheerajbhadani 94747 Oct  7 10:04 grpc-sqlite.png\r\n",
      "drwxr-xr-x 2 dheerajbhadani dheerajbhadani  4096 Oct  7 11:36 .ipynb_checkpoints\r\n",
      "-rw-rw-r-- 1 dheerajbhadani dheerajbhadani 11357 Oct  7 10:04 LICENSE\r\n",
      "-rw-rw-r-- 1 dheerajbhadani dheerajbhadani     0 Oct  7 10:04 Makefile\r\n",
      "drwxrwxr-x 2 dheerajbhadani dheerajbhadani  4096 Oct  7 10:04 protos\r\n",
      "-rw-rw-r-- 1 dheerajbhadani dheerajbhadani   224 Oct  7 10:04 README.md\r\n",
      "drwxrwxr-x 2 dheerajbhadani dheerajbhadani  4096 Oct  7 10:04 resource\r\n",
      "-rw-rw-r-- 1 dheerajbhadani dheerajbhadani  2677 Oct  7 11:37 Server.ipynb\r\n",
      "drwxrwxr-x 2 dheerajbhadani dheerajbhadani  4096 Oct  7 11:36 src\r\n",
      "drwxrwxr-x 6 dheerajbhadani dheerajbhadani  4096 Oct  7 10:59 .venv\r\n"
     ]
    }
   ],
   "source": [
    "!ls -al"
   ]
  },
  {
   "cell_type": "code",
   "execution_count": null,
   "metadata": {
    "collapsed": true
   },
   "outputs": [],
   "source": []
  }
 ],
 "metadata": {
  "anaconda-cloud": {},
  "kernelspec": {
   "display_name": "Python [default]",
   "language": "python",
   "name": "python3"
  },
  "language_info": {
   "codemirror_mode": {
    "name": "ipython",
    "version": 3
   },
   "file_extension": ".py",
   "mimetype": "text/x-python",
   "name": "python",
   "nbconvert_exporter": "python",
   "pygments_lexer": "ipython3",
   "version": "3.5.2"
  }
 },
 "nbformat": 4,
 "nbformat_minor": 1
}
