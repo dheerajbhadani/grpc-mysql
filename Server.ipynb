{
 "cells": [
  {
   "cell_type": "markdown",
   "metadata": {
    "nbpresent": {
     "id": "8e7bd171-155a-4b7e-a300-78e8f3fdad6a"
    }
   },
   "source": [
    "# Server\n",
    "### Section-1 begins : Basic "
   ]
  },
  {
   "cell_type": "code",
   "execution_count": 1,
   "metadata": {
    "collapsed": false,
    "nbpresent": {
     "id": "6441fa7b-a10a-42a2-ad08-b806fac2899b"
    },
    "scrolled": true
   },
   "outputs": [
    {
     "name": "stdout",
     "output_type": "stream",
     "text": [
      "env: PYTHONPATH=/home/dheerajbhadani/git/grpc-sqlite\n",
      "Employee server running on 40084...\n",
      "Killed\n"
     ]
    }
   ],
   "source": [
    "%env PYTHONPATH=/home/dheerajbhadani/git/grpc-sqlite\n",
    "!./.venv/bin/python src/server.py"
   ]
  },
  {
   "cell_type": "markdown",
   "metadata": {
    "nbpresent": {
     "id": "d88849b9-f3da-4881-a1c5-beb1ec28f4d6"
    }
   },
   "source": [
    "After restarting kernel go to Main notebook\n",
    "### Section-1 ends"
   ]
  },
  {
   "cell_type": "markdown",
   "metadata": {
    "nbpresent": {
     "id": "fb59cde4-70f1-4f49-9eab-a01ec289cf2b"
    }
   },
   "source": [
    "### Section-2 begins : After implementing blank response."
   ]
  },
  {
   "cell_type": "code",
   "execution_count": null,
   "metadata": {
    "collapsed": false,
    "nbpresent": {
     "id": "bdf1ddb3-6712-4b77-8584-f111e3e8e354"
    }
   },
   "outputs": [],
   "source": [
    "%%writefile src/server.py\n",
    "\n",
    "from __future__ import print_function\n",
    "\n",
    "import time\n",
    "import grpc\n",
    "\n",
    "from generated import employee_pb2_grpc, employee_pb2\n",
    "from concurrent import futures\n",
    "\n",
    "_ONE_DAY_IN_SECONDS = 60 * 60 * 24\n",
    "\n",
    "class EmployeeServicer(employee_pb2_grpc.EmployeeServicer):\n",
    "    def __init__(self):\n",
    "        pass\n",
    "\n",
    "    def Read(self, request, context):\n",
    "        print(\"Read employee service called...\")\n",
    "        response_list = employee_pb2.readResponseListPB()\n",
    "        return response_list\n",
    "    \n",
    "def serve():\n",
    "    server = grpc.server(futures.ThreadPoolExecutor(max_workers=10))\n",
    "    employee_pb2_grpc.add_EmployeeServicer_to_server(EmployeeServicer(), server)\n",
    "    server.add_insecure_port('[::]:40084')\n",
    "    server.start()\n",
    "    print(\"Employee server running on 40084...\")\n",
    "    try:\n",
    "        while True:\n",
    "            time.sleep(_ONE_DAY_IN_SECONDS)\n",
    "    except:\n",
    "        server.stop(0)\n",
    "\n",
    "if __name__ == '__main__':\n",
    "    serve()     "
   ]
  },
  {
   "cell_type": "code",
   "execution_count": null,
   "metadata": {
    "collapsed": false,
    "nbpresent": {
     "id": "7e4cd1da-78e5-4c40-97c2-12674ea3fb4c"
    }
   },
   "outputs": [],
   "source": [
    "%env PYTHONPATH=/home/dheerajbhadani/git/grpc-sqlite\n",
    "!./.venv/bin/python src/server.py"
   ]
  },
  {
   "cell_type": "markdown",
   "metadata": {
    "nbpresent": {
     "id": "c5cf9549-e4ae-4263-87aa-a871ddb6a3e0"
    }
   },
   "source": [
    "After restarting kernel go to Main notebook\n",
    "### Section-2 ends"
   ]
  },
  {
   "cell_type": "markdown",
   "metadata": {
    "nbpresent": {
     "id": "6b37a781-068e-447d-9054-567a20d5cd40"
    }
   },
   "source": [
    "### Section-3 begins : Final"
   ]
  },
  {
   "cell_type": "code",
   "execution_count": null,
   "metadata": {
    "collapsed": false,
    "nbpresent": {
     "id": "410126f3-9492-40e4-afdb-72728a87fa15"
    }
   },
   "outputs": [],
   "source": [
    "%%writefile src/server.py\n",
    "\n",
    "from __future__ import print_function\n",
    "\n",
    "import time\n",
    "import grpc\n",
    "\n",
    "from generated import employee_pb2_grpc\n",
    "from concurrent import futures\n",
    "import employee_orm\n",
    "\n",
    "_ONE_DAY_IN_SECONDS = 60 * 60 * 24\n",
    "\n",
    "class EmployeeServicer(employee_pb2_grpc.EmployeeServicer):\n",
    "    def __init__(self):\n",
    "        self.__emp_orm = employee_orm.EmployeeORM()\n",
    "\n",
    "    def Read(self, request, context):\n",
    "        print(\"Read employee service called...\")\n",
    "        return self.__emp_orm.select(request)\n",
    "\n",
    "\n",
    "def serve():\n",
    "    server = grpc.server(futures.ThreadPoolExecutor(max_workers=10))\n",
    "    employee_pb2_grpc.add_EmployeeServicer_to_server(EmployeeServicer(), server)\n",
    "    server.add_insecure_port('[::]:40084')\n",
    "    server.start()\n",
    "    print(\"Employee server running on 40084...\")\n",
    "    try:\n",
    "        while True:\n",
    "            time.sleep(_ONE_DAY_IN_SECONDS)\n",
    "    except:\n",
    "        server.stop(0)\n",
    "\n",
    "if __name__ == '__main__':\n",
    "    serve()"
   ]
  },
  {
   "cell_type": "code",
   "execution_count": null,
   "metadata": {
    "collapsed": false,
    "nbpresent": {
     "id": "15c9ce9f-7641-4479-be7f-cf16c6672a97"
    }
   },
   "outputs": [],
   "source": [
    "%env PYTHONPATH=/home/dheerajbhadani/git/grpc-sqlite\n",
    "!./.venv/bin/python src/server.py"
   ]
  },
  {
   "cell_type": "markdown",
   "metadata": {
    "collapsed": true,
    "nbpresent": {
     "id": "879675c5-fab1-4e8b-9840-a01d29558241"
    }
   },
   "source": [
    "### Section-3 ends"
   ]
  }
 ],
 "metadata": {
  "anaconda-cloud": {},
  "kernelspec": {
   "display_name": "Python [default]",
   "language": "python",
   "name": "python3"
  },
  "language_info": {
   "codemirror_mode": {
    "name": "ipython",
    "version": 3
   },
   "file_extension": ".py",
   "mimetype": "text/x-python",
   "name": "python",
   "nbconvert_exporter": "python",
   "pygments_lexer": "ipython3",
   "version": "3.5.2"
  },
  "nbpresent": {
   "slides": {
    "0a577ec0-b14b-4fdf-8a66-ec419c2fe4bd": {
     "id": "0a577ec0-b14b-4fdf-8a66-ec419c2fe4bd",
     "prev": "3653d316-983e-4596-9e2c-5d363f6e2778",
     "regions": {
      "948840bd-b376-4621-bed7-f852bd521ba5": {
       "attrs": {
        "height": 0.8,
        "width": 0.8,
        "x": 0.1,
        "y": 0.1
       },
       "content": {
        "cell": "d88849b9-f3da-4881-a1c5-beb1ec28f4d6",
        "part": "whole"
       },
       "id": "948840bd-b376-4621-bed7-f852bd521ba5"
      }
     }
    },
    "0bdc4f7f-4878-479b-8ede-671eae355812": {
     "id": "0bdc4f7f-4878-479b-8ede-671eae355812",
     "prev": "31805c4b-2acf-479b-9738-8ffd81d9d530",
     "regions": {
      "1ae86dbe-7604-43db-b5f0-94ba8da68286": {
       "attrs": {
        "height": 0.8,
        "width": 0.8,
        "x": 0.1,
        "y": 0.1
       },
       "content": {
        "cell": "879675c5-fab1-4e8b-9840-a01d29558241",
        "part": "whole"
       },
       "id": "1ae86dbe-7604-43db-b5f0-94ba8da68286"
      }
     }
    },
    "0fce50d5-5502-4863-975b-101b1eca4186": {
     "id": "0fce50d5-5502-4863-975b-101b1eca4186",
     "prev": "0a577ec0-b14b-4fdf-8a66-ec419c2fe4bd",
     "regions": {
      "25d067cb-ff32-4dce-b57b-575089f80e33": {
       "attrs": {
        "height": 0.8,
        "width": 0.8,
        "x": 0.1,
        "y": 0.1
       },
       "content": {
        "cell": "fb59cde4-70f1-4f49-9eab-a01ec289cf2b",
        "part": "whole"
       },
       "id": "25d067cb-ff32-4dce-b57b-575089f80e33"
      }
     }
    },
    "31805c4b-2acf-479b-9738-8ffd81d9d530": {
     "id": "31805c4b-2acf-479b-9738-8ffd81d9d530",
     "prev": "b680cbb1-58f2-41d0-9032-e66dc8645bf8",
     "regions": {
      "a78691e4-4500-499c-9e8e-a73ce4d54d0c": {
       "attrs": {
        "height": 0.8,
        "width": 0.8,
        "x": 0.1,
        "y": 0.1
       },
       "content": {
        "cell": "15c9ce9f-7641-4479-be7f-cf16c6672a97",
        "part": "whole"
       },
       "id": "a78691e4-4500-499c-9e8e-a73ce4d54d0c"
      }
     }
    },
    "3653d316-983e-4596-9e2c-5d363f6e2778": {
     "id": "3653d316-983e-4596-9e2c-5d363f6e2778",
     "prev": "6a009b76-165a-466f-b1d2-8e50100c5657",
     "regions": {
      "26787658-839e-4ab1-b80c-73facfc4f49d": {
       "attrs": {
        "height": 0.8,
        "width": 0.8,
        "x": 0.1,
        "y": 0.1
       },
       "content": {
        "cell": "6441fa7b-a10a-42a2-ad08-b806fac2899b",
        "part": "whole"
       },
       "id": "26787658-839e-4ab1-b80c-73facfc4f49d"
      }
     }
    },
    "47a567b1-746e-4754-b1eb-12d137cb1739": {
     "id": "47a567b1-746e-4754-b1eb-12d137cb1739",
     "prev": "cc39399f-f6e9-46e1-ae44-1b9e296d2508",
     "regions": {
      "8674131d-5de4-4abd-9dec-56933e937171": {
       "attrs": {
        "height": 0.8,
        "width": 0.8,
        "x": 0.1,
        "y": 0.1
       },
       "content": {
        "cell": "7e4cd1da-78e5-4c40-97c2-12674ea3fb4c",
        "part": "whole"
       },
       "id": "8674131d-5de4-4abd-9dec-56933e937171"
      }
     }
    },
    "48892d81-f851-4880-822a-0c658a4ed156": {
     "id": "48892d81-f851-4880-822a-0c658a4ed156",
     "prev": "9f295e93-a2aa-488b-b64d-ee5234e3bc40",
     "regions": {
      "464cb5f9-c8cf-4b88-82db-ece4791a0648": {
       "attrs": {
        "height": 0.8,
        "width": 0.8,
        "x": 0.1,
        "y": 0.1
       },
       "content": {
        "cell": "6b37a781-068e-447d-9054-567a20d5cd40",
        "part": "whole"
       },
       "id": "464cb5f9-c8cf-4b88-82db-ece4791a0648"
      }
     }
    },
    "6a009b76-165a-466f-b1d2-8e50100c5657": {
     "id": "6a009b76-165a-466f-b1d2-8e50100c5657",
     "prev": null,
     "regions": {
      "49a88436-b59d-47df-92a0-7169100d0b9f": {
       "attrs": {
        "height": 0.8,
        "width": 0.8,
        "x": 0.1,
        "y": 0.1
       },
       "content": {
        "cell": "8e7bd171-155a-4b7e-a300-78e8f3fdad6a",
        "part": "whole"
       },
       "id": "49a88436-b59d-47df-92a0-7169100d0b9f"
      }
     }
    },
    "9f295e93-a2aa-488b-b64d-ee5234e3bc40": {
     "id": "9f295e93-a2aa-488b-b64d-ee5234e3bc40",
     "prev": "47a567b1-746e-4754-b1eb-12d137cb1739",
     "regions": {
      "611f2cf7-e4f8-480e-9d5b-8b536eb3ec2c": {
       "attrs": {
        "height": 0.8,
        "width": 0.8,
        "x": 0.1,
        "y": 0.1
       },
       "content": {
        "cell": "c5cf9549-e4ae-4263-87aa-a871ddb6a3e0",
        "part": "whole"
       },
       "id": "611f2cf7-e4f8-480e-9d5b-8b536eb3ec2c"
      }
     }
    },
    "b680cbb1-58f2-41d0-9032-e66dc8645bf8": {
     "id": "b680cbb1-58f2-41d0-9032-e66dc8645bf8",
     "prev": "48892d81-f851-4880-822a-0c658a4ed156",
     "regions": {
      "0c4eeb48-9b2a-4347-bfed-e1aff59b1a0a": {
       "attrs": {
        "height": 0.8,
        "width": 0.8,
        "x": 0.1,
        "y": 0.1
       },
       "content": {
        "cell": "410126f3-9492-40e4-afdb-72728a87fa15",
        "part": "whole"
       },
       "id": "0c4eeb48-9b2a-4347-bfed-e1aff59b1a0a"
      }
     }
    },
    "cc39399f-f6e9-46e1-ae44-1b9e296d2508": {
     "id": "cc39399f-f6e9-46e1-ae44-1b9e296d2508",
     "prev": "0fce50d5-5502-4863-975b-101b1eca4186",
     "regions": {
      "6f70f26c-2de2-49d3-83fc-ec5a9670594e": {
       "attrs": {
        "height": 0.8,
        "width": 0.8,
        "x": 0.1,
        "y": 0.1
       },
       "content": {
        "cell": "bdf1ddb3-6712-4b77-8584-f111e3e8e354",
        "part": "whole"
       },
       "id": "6f70f26c-2de2-49d3-83fc-ec5a9670594e"
      }
     }
    }
   },
   "themes": {}
  }
 },
 "nbformat": 4,
 "nbformat_minor": 1
}
