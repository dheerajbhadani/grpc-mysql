{
 "cells": [
  {
   "cell_type": "markdown",
   "metadata": {
    "nbpresent": {
     "id": "8e7bd171-155a-4b7e-a300-78e8f3fdad6a"
    }
   },
   "source": [
    "# Server\n",
    "## Section-1 : Basic "
   ]
  },
  {
   "cell_type": "code",
   "execution_count": 1,
   "metadata": {
    "collapsed": false,
    "nbpresent": {
     "id": "6441fa7b-a10a-42a2-ad08-b806fac2899b"
    },
    "scrolled": true
   },
   "outputs": [
    {
     "name": "stdout",
     "output_type": "stream",
     "text": [
      "env: PYTHONPATH=/home/dheerajbhadani/git/tmp/grpc-sqlite\n",
      "Employee server running on 40084...\n",
      "Killed\n"
     ]
    }
   ],
   "source": [
    "var = !pwd\n",
    "%env PYTHONPATH={var[0]}\n",
    "!./.venv/bin/python src/server.py"
   ]
  },
  {
   "cell_type": "markdown",
   "metadata": {
    "nbpresent": {
     "id": "d88849b9-f3da-4881-a1c5-beb1ec28f4d6"
    }
   },
   "source": [
    "### After restarting kernel(press 0,0) go to Main notebook."
   ]
  },
  {
   "cell_type": "markdown",
   "metadata": {
    "nbpresent": {
     "id": "fb59cde4-70f1-4f49-9eab-a01ec289cf2b"
    }
   },
   "source": [
    "### [Server] Section-2 begins : After implementing blank response."
   ]
  },
  {
   "cell_type": "code",
   "execution_count": 1,
   "metadata": {
    "collapsed": false,
    "nbpresent": {
     "id": "bdf1ddb3-6712-4b77-8584-f111e3e8e354"
    }
   },
   "outputs": [
    {
     "name": "stdout",
     "output_type": "stream",
     "text": [
      "Overwriting src/server.py\n"
     ]
    }
   ],
   "source": [
    "%%writefile src/server.py\n",
    "\n",
    "from __future__ import print_function\n",
    "\n",
    "import time\n",
    "import grpc\n",
    "\n",
    "from generated import employee_pb2_grpc, employee_pb2\n",
    "from concurrent import futures\n",
    "\n",
    "_ONE_DAY_IN_SECONDS = 60 * 60 * 24\n",
    "\n",
    "class EmployeeServicer(employee_pb2_grpc.EmployeeServicer):\n",
    "    def __init__(self):\n",
    "        pass\n",
    "\n",
    "    def Read(self, request, context):\n",
    "        print(\"Read employee service called...\")\n",
    "        response_list = employee_pb2.readResponseListPB()\n",
    "        return response_list\n",
    "    \n",
    "def serve():\n",
    "    server = grpc.server(futures.ThreadPoolExecutor(max_workers=10))\n",
    "    employee_pb2_grpc.add_EmployeeServicer_to_server(EmployeeServicer(), server)\n",
    "    server.add_insecure_port('[::]:40084')\n",
    "    server.start()\n",
    "    print(\"Employee server running on 40084...\")\n",
    "    try:\n",
    "        while True:\n",
    "            time.sleep(_ONE_DAY_IN_SECONDS)\n",
    "    except:\n",
    "        server.stop(0)\n",
    "\n",
    "if __name__ == '__main__':\n",
    "    serve()     "
   ]
  },
  {
   "cell_type": "code",
   "execution_count": null,
   "metadata": {
    "collapsed": false,
    "nbpresent": {
     "id": "7e4cd1da-78e5-4c40-97c2-12674ea3fb4c"
    }
   },
   "outputs": [
    {
     "name": "stdout",
     "output_type": "stream",
     "text": [
      "env: PYTHONPATH=/home/dheerajbhadani/git/tmp/grpc-sqlite\n",
      "Employee server running on 40084...\n",
      "Read employee service called...\n"
     ]
    }
   ],
   "source": [
    "var = !pwd\n",
    "%env PYTHONPATH={var[0]}\n",
    "!./.venv/bin/python src/server.py"
   ]
  },
  {
   "cell_type": "markdown",
   "metadata": {
    "nbpresent": {
     "id": "c5cf9549-e4ae-4263-87aa-a871ddb6a3e0"
    }
   },
   "source": [
    "### After restarting kernel(press 0,0) go to Main notebook."
   ]
  },
  {
   "cell_type": "markdown",
   "metadata": {
    "nbpresent": {
     "id": "6b37a781-068e-447d-9054-567a20d5cd40"
    }
   },
   "source": [
    "### [Server] Section-3 begins : Final"
   ]
  },
  {
   "cell_type": "code",
   "execution_count": 1,
   "metadata": {
    "collapsed": false,
    "nbpresent": {
     "id": "410126f3-9492-40e4-afdb-72728a87fa15"
    }
   },
   "outputs": [
    {
     "name": "stdout",
     "output_type": "stream",
     "text": [
      "Overwriting src/server.py\n"
     ]
    }
   ],
   "source": [
    "%%writefile src/server.py\n",
    "\n",
    "from __future__ import print_function\n",
    "\n",
    "import time\n",
    "import grpc\n",
    "\n",
    "from generated import employee_pb2_grpc\n",
    "from concurrent import futures\n",
    "import employee_orm\n",
    "\n",
    "_ONE_DAY_IN_SECONDS = 60 * 60 * 24\n",
    "\n",
    "class EmployeeServicer(employee_pb2_grpc.EmployeeServicer):\n",
    "    def __init__(self):\n",
    "        self.__emp_orm = employee_orm.EmployeeORM()\n",
    "\n",
    "    def Read(self, request, context):\n",
    "        print(\"Read employee service called...\")\n",
    "        return self.__emp_orm.select(request)\n",
    "\n",
    "\n",
    "def serve():\n",
    "    server = grpc.server(futures.ThreadPoolExecutor(max_workers=10))\n",
    "    employee_pb2_grpc.add_EmployeeServicer_to_server(EmployeeServicer(), server)\n",
    "    server.add_insecure_port('[::]:40084')\n",
    "    server.start()\n",
    "    print(\"Employee server running on 40084...\")\n",
    "    try:\n",
    "        while True:\n",
    "            time.sleep(_ONE_DAY_IN_SECONDS)\n",
    "    except:\n",
    "        server.stop(0)\n",
    "\n",
    "if __name__ == '__main__':\n",
    "    serve()"
   ]
  },
  {
   "cell_type": "code",
   "execution_count": 2,
   "metadata": {
    "collapsed": false,
    "nbpresent": {
     "id": "15c9ce9f-7641-4479-be7f-cf16c6672a97"
    },
    "scrolled": true
   },
   "outputs": [
    {
     "name": "stdout",
     "output_type": "stream",
     "text": [
      "env: PYTHONPATH=/home/dheerajbhadani/git/tmp/grpc-sqlite\n",
      "Traceback (most recent call last):\n",
      "  File \"src/server.py\", line 9, in <module>\n",
      "    import employee_orm\n",
      "ImportError: No module named employee_orm\n"
     ]
    }
   ],
   "source": [
    "var = !pwd\n",
    "%env PYTHONPATH={var[0]}\n",
    "!./.venv/bin/python src/server.py"
   ]
  },
  {
   "cell_type": "markdown",
   "metadata": {
    "collapsed": true,
    "nbpresent": {
     "id": "879675c5-fab1-4e8b-9840-a01d29558241"
    }
   },
   "source": [
    "### Section-3 ends"
   ]
  }
 ],
 "metadata": {
  "anaconda-cloud": {},
  "kernelspec": {
   "display_name": "Python [default]",
   "language": "python",
   "name": "python3"
  },
  "language_info": {
   "codemirror_mode": {
    "name": "ipython",
    "version": 3
   },
   "file_extension": ".py",
   "mimetype": "text/x-python",
   "name": "python",
   "nbconvert_exporter": "python",
   "pygments_lexer": "ipython3",
   "version": "3.5.2"
  },
  "nbpresent": {
   "slides": {
    "6b54911a-94b7-49b9-8dce-4317bee480c0": {
     "id": "6b54911a-94b7-49b9-8dce-4317bee480c0",
     "prev": "bdd2c5dc-1272-4ac2-989c-ecea1832db90",
     "regions": {
      "1825f14d-df35-4d5c-9ad6-99e82b374b98": {
       "attrs": {
        "height": 0.11869594145043243,
        "width": 0.29900199600798416,
        "x": 0.600998003992016,
        "y": 0.7829647158447549
       },
       "content": {
        "cell": "c5cf9549-e4ae-4263-87aa-a871ddb6a3e0",
        "part": "whole"
       },
       "id": "1825f14d-df35-4d5c-9ad6-99e82b374b98"
      },
      "33c0a11c-491e-4166-81b2-f11ed7de84ca": {
       "attrs": {
        "height": 0.6967842093590597,
        "width": 0.2992015968063872,
        "x": 0.5958083832335329,
        "y": 0.08789088489687291
       },
       "content": {
        "cell": "7e4cd1da-78e5-4c40-97c2-12674ea3fb4c",
        "part": "whole"
       },
       "id": "33c0a11c-491e-4166-81b2-f11ed7de84ca"
      },
      "602051b2-2b93-4ada-acd5-f00ac6d2980e": {
       "attrs": {
        "height": 0.0651585717453981,
        "width": 0.7992015968063871,
        "x": 0.09596994759281442,
        "y": 0.009824794854734939
       },
       "content": {
        "cell": "fb59cde4-70f1-4f49-9eab-a01ec289cf2b",
        "part": "whole"
       },
       "id": "602051b2-2b93-4ada-acd5-f00ac6d2980e"
      },
      "d70af711-3ae9-4001-97e8-8740a1a40b44": {
       "attrs": {
        "height": 0.6940341539143934,
        "width": 0.4826347305389222,
        "x": 0.09700598802395202,
        "y": 0.09112885295009988
       },
       "content": {
        "cell": "bdf1ddb3-6712-4b77-8584-f111e3e8e354",
        "part": "whole"
       },
       "id": "d70af711-3ae9-4001-97e8-8740a1a40b44"
      }
     }
    },
    "af425c8e-d3cb-4fcb-90f0-c83c646b4838": {
     "id": "af425c8e-d3cb-4fcb-90f0-c83c646b4838",
     "prev": "6b54911a-94b7-49b9-8dce-4317bee480c0",
     "regions": {
      "2fc41743-5459-4803-858f-4ee9c77cb3ba": {
       "attrs": {
        "height": 0.7264581947216678,
        "width": 0.30818363273453087,
        "x": 0.5898203592814372,
        "y": 0.11854069638500776
       },
       "content": {
        "cell": "15c9ce9f-7641-4479-be7f-cf16c6672a97",
        "part": "whole"
       },
       "id": "2fc41743-5459-4803-858f-4ee9c77cb3ba"
      },
      "d1988d17-bb89-4afa-a2c4-47c4d57d2581": {
       "attrs": {
        "height": 0.07176757595919277,
        "width": 0.7982035928143713,
        "x": 0.10000000000000005,
        "y": 0.04322466178753605
       },
       "content": {
        "cell": "6b37a781-068e-447d-9054-567a20d5cd40",
        "part": "whole"
       },
       "id": "d1988d17-bb89-4afa-a2c4-47c4d57d2581"
      },
      "e028dec4-4113-4345-b8b7-901837a1517d": {
       "attrs": {
        "height": 0.7300066533599467,
        "width": 0.48383233532934133,
        "x": 0.1,
        "y": 0.12208915502328677
       },
       "content": {
        "cell": "410126f3-9492-40e4-afdb-72728a87fa15",
        "part": "whole"
       },
       "id": "e028dec4-4113-4345-b8b7-901837a1517d"
      }
     }
    },
    "bdd2c5dc-1272-4ac2-989c-ecea1832db90": {
     "id": "bdd2c5dc-1272-4ac2-989c-ecea1832db90",
     "prev": null,
     "regions": {
      "4202bd09-f6fb-4ad8-ad46-a25b3e35355a": {
       "attrs": {
        "height": 0.2,
        "width": 0.7962075848303393,
        "x": 0.10099800399201596,
        "y": 0.37531603459747165
       },
       "content": {
        "cell": "6441fa7b-a10a-42a2-ad08-b806fac2899b",
        "part": "whole"
       },
       "id": "4202bd09-f6fb-4ad8-ad46-a25b3e35355a"
      },
      "4762cf0c-7c44-4fc7-be0b-4011df9a7350": {
       "attrs": {
        "height": 0.26999334664005326,
        "width": 0.8,
        "x": 0.1,
        "y": 0.1
       },
       "content": {
        "cell": "8e7bd171-155a-4b7e-a300-78e8f3fdad6a",
        "part": "whole"
       },
       "id": "4762cf0c-7c44-4fc7-be0b-4011df9a7350"
      },
      "555612b7-34e8-4ed1-b3bb-4cf7fb556e72": {
       "attrs": {
        "height": 0.31532490574406746,
        "width": 0.8001996007984031,
        "x": 0.0998003992015968,
        "y": 0.5846750942559326
       },
       "content": {
        "cell": "d88849b9-f3da-4881-a1c5-beb1ec28f4d6",
        "part": "whole"
       },
       "id": "555612b7-34e8-4ed1-b3bb-4cf7fb556e72"
      }
     }
    }
   },
   "themes": {}
  }
 },
 "nbformat": 4,
 "nbformat_minor": 1
}
