{
 "cells": [
  {
   "cell_type": "code",
   "execution_count": null,
   "metadata": {
    "collapsed": false
   },
   "outputs": [],
   "source": [
    "%env PYTHONPATH=/home/dheerajbhadani/git/grpc-sqlite\n",
    "!./.venv/bin/python src/server.py"
   ]
  },
  {
   "cell_type": "markdown",
   "metadata": {},
   "source": [
    "After implementing blank response."
   ]
  },
  {
   "cell_type": "code",
   "execution_count": null,
   "metadata": {
    "collapsed": false
   },
   "outputs": [],
   "source": [
    "%%writefile src/server.py\n",
    "\n",
    "from __future__ import print_function\n",
    "\n",
    "import time\n",
    "import grpc\n",
    "\n",
    "from generated import employee_pb2_grpc, employee_pb2\n",
    "from concurrent import futures\n",
    "\n",
    "_ONE_DAY_IN_SECONDS = 60 * 60 * 24\n",
    "\n",
    "class EmployeeServicer(employee_pb2_grpc.EmployeeServicer):\n",
    "    def __init__(self):\n",
    "        pass\n",
    "\n",
    "    def Read(self, request, context):\n",
    "        print(\"Read employee service called...\")\n",
    "        response_list = employee_pb2.readResponseListPB()\n",
    "        return response_list\n",
    "    \n",
    "def serve():\n",
    "    server = grpc.server(futures.ThreadPoolExecutor(max_workers=10))\n",
    "    employee_pb2_grpc.add_EmployeeServicer_to_server(EmployeeServicer(), server)\n",
    "    server.add_insecure_port('[::]:40084')\n",
    "    server.start()\n",
    "    print(\"Employee server running on 40084...\")\n",
    "    try:\n",
    "        while True:\n",
    "            time.sleep(_ONE_DAY_IN_SECONDS)\n",
    "    except:\n",
    "        server.stop(0)\n",
    "\n",
    "if __name__ == '__main__':\n",
    "    serve()     "
   ]
  },
  {
   "cell_type": "code",
   "execution_count": null,
   "metadata": {
    "collapsed": false
   },
   "outputs": [],
   "source": [
    "%env PYTHONPATH=/home/dheerajbhadani/git/grpc-sqlite\n",
    "!./.venv/bin/python src/server.py"
   ]
  },
  {
   "cell_type": "code",
   "execution_count": null,
   "metadata": {
    "collapsed": false
   },
   "outputs": [],
   "source": [
    "%%writefile src/server.py\n",
    "\n",
    "from __future__ import print_function\n",
    "\n",
    "import time\n",
    "import grpc\n",
    "\n",
    "from generated import employee_pb2_grpc\n",
    "from concurrent import futures\n",
    "import employee_orm\n",
    "\n",
    "_ONE_DAY_IN_SECONDS = 60 * 60 * 24\n",
    "\n",
    "class EmployeeServicer(employee_pb2_grpc.EmployeeServicer):\n",
    "    def __init__(self):\n",
    "        self.__emp_orm = employee_orm.EmployeeORM()\n",
    "\n",
    "    def Read(self, request, context):\n",
    "        print(\"Read employee service called...\")\n",
    "        return self.__emp_orm.select(request)\n",
    "\n",
    "\n",
    "def serve():\n",
    "    server = grpc.server(futures.ThreadPoolExecutor(max_workers=10))\n",
    "    employee_pb2_grpc.add_EmployeeServicer_to_server(EmployeeServicer(), server)\n",
    "    server.add_insecure_port('[::]:40084')\n",
    "    server.start()\n",
    "    print(\"Employee server running on 40084...\")\n",
    "    try:\n",
    "        while True:\n",
    "            time.sleep(_ONE_DAY_IN_SECONDS)\n",
    "    except:\n",
    "        server.stop(0)\n",
    "\n",
    "if __name__ == '__main__':\n",
    "    serve()"
   ]
  },
  {
   "cell_type": "code",
   "execution_count": null,
   "metadata": {
    "collapsed": false
   },
   "outputs": [],
   "source": [
    "%env PYTHONPATH=/home/dheerajbhadani/git/grpc-sqlite\n",
    "!./.venv/bin/python src/server.py"
   ]
  },
  {
   "cell_type": "code",
   "execution_count": null,
   "metadata": {
    "collapsed": true
   },
   "outputs": [],
   "source": []
  }
 ],
 "metadata": {
  "anaconda-cloud": {},
  "kernelspec": {
   "display_name": "Python [default]",
   "language": "python",
   "name": "python3"
  },
  "language_info": {
   "codemirror_mode": {
    "name": "ipython",
    "version": 3
   },
   "file_extension": ".py",
   "mimetype": "text/x-python",
   "name": "python",
   "nbconvert_exporter": "python",
   "pygments_lexer": "ipython3",
   "version": "3.5.2"
  }
 },
 "nbformat": 4,
 "nbformat_minor": 1
}
