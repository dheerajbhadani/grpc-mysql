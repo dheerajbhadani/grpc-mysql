{
 "cells": [
  {
   "cell_type": "markdown",
   "metadata": {},
   "source": [
    "Hello,\n",
    "\n",
    "This tutorial is focusing on understanding connection between grpc and sql(we are going to use sqlite for this tutorial).\n",
    "grpc can be implemented in various languages. we are using python for this tutorial.\n",
    "Details of grpc can be found at https://grpc.io\n",
    "\n",
    "Let's begin with installation of grpc packages. "
   ]
  },
  {
   "cell_type": "code",
   "execution_count": 1,
   "metadata": {},
   "outputs": [
    {
     "name": "stdout",
     "output_type": "stream",
     "text": [
      "Requirement already satisfied: grpcio in g:\\rnd\\grpc-sqlite-venv\\lib\\site-packages\n",
      "Requirement already satisfied: enum34>=1.0.4 in g:\\rnd\\grpc-sqlite-venv\\lib\\site-packages (from grpcio)\n",
      "Requirement already satisfied: protobuf>=3.5.0.post1 in g:\\rnd\\grpc-sqlite-venv\\lib\\site-packages (from grpcio)\n",
      "Requirement already satisfied: futures>=2.2.0 in g:\\rnd\\grpc-sqlite-venv\\lib\\site-packages (from grpcio)\n",
      "Requirement already satisfied: six>=1.5.2 in g:\\rnd\\grpc-sqlite-venv\\lib\\site-packages (from grpcio)\n",
      "Requirement already satisfied: setuptools in g:\\rnd\\grpc-sqlite-venv\\lib\\site-packages (from protobuf>=3.5.0.post1->grpcio)\n"
     ]
    }
   ],
   "source": [
    "!pip install grpcio"
   ]
  },
  {
   "cell_type": "code",
   "execution_count": 2,
   "metadata": {},
   "outputs": [
    {
     "name": "stdout",
     "output_type": "stream",
     "text": [
      "Requirement already satisfied: grpcio-tools in g:\\rnd\\grpc-sqlite-venv\\lib\\site-packages\n",
      "Requirement already satisfied: protobuf>=3.5.0.post1 in g:\\rnd\\grpc-sqlite-venv\\lib\\site-packages (from grpcio-tools)\n",
      "Requirement already satisfied: grpcio>=1.10.0 in g:\\rnd\\grpc-sqlite-venv\\lib\\site-packages (from grpcio-tools)\n",
      "Requirement already satisfied: six>=1.9 in g:\\rnd\\grpc-sqlite-venv\\lib\\site-packages (from protobuf>=3.5.0.post1->grpcio-tools)\n",
      "Requirement already satisfied: setuptools in g:\\rnd\\grpc-sqlite-venv\\lib\\site-packages (from protobuf>=3.5.0.post1->grpcio-tools)\n",
      "Requirement already satisfied: enum34>=1.0.4 in g:\\rnd\\grpc-sqlite-venv\\lib\\site-packages (from grpcio>=1.10.0->grpcio-tools)\n",
      "Requirement already satisfied: futures>=2.2.0 in g:\\rnd\\grpc-sqlite-venv\\lib\\site-packages (from grpcio>=1.10.0->grpcio-tools)\n"
     ]
    }
   ],
   "source": [
    "!pip install grpcio-tools"
   ]
  },
  {
   "cell_type": "markdown",
   "metadata": {},
   "source": [
    "After successful installation of the grpc packages, we will start creating the protocol buffer file which contains declaration of service interface and the message which will be used for the client server communication.\n",
    "\n",
    "Create proto file titled employee.proto with the below mentioned content"
   ]
  },
  {
   "cell_type": "code",
   "execution_count": null,
   "metadata": {},
   "outputs": [],
   "source": [
    "# syntax = \"proto3\";\n",
    "\n",
    "package employee;\n",
    "\n",
    "// Interface exported by the server.\n",
    "service Employee {\n",
    "    rpc Read(readRequestPB) returns (readResponseListPB) {}\n",
    "}\n",
    "\n",
    "message readRequestPB {\n",
    "    string first_name = 1;\n",
    "    string last_name = 2;\n",
    "    string email = 3;\n",
    "    string gender = 4;\n",
    "    string ip_address = 5;\n",
    "    string country = 6;\n",
    "    string postcode = 7;\n",
    "}\n",
    "\n",
    "message readResponsePB {\n",
    "    string first_name = 1;\n",
    "    string last_name = 2;\n",
    "    string email = 3;\n",
    "    string gender = 4;\n",
    "    string ip_address = 5;\n",
    "    string country = 6;\n",
    "    string postcode = 7;\n",
    "    int32 id = 8;\n",
    "}\n",
    "\n",
    "message readResponseListPB {\n",
    "    repeated readResponsePB employee = 1;\n",
    "}"
   ]
  },
  {
   "cell_type": "markdown",
   "metadata": {},
   "source": [
    "Compile proto file and generate stub for python. Here is the command to generate:\n",
    ">python -m grpc_tools.protoc -I ./protos/. --python_out=./generated/. --grpc_python_out=./generated/. ./protos/employee.proto\n",
    "\n",
    "This will generate two files(employee_pb2.py and employee_pb2_grpc.py) under generated folder. "
   ]
  },
  {
   "cell_type": "markdown",
   "metadata": {},
   "source": [
    "Now we will start implementing server. create a file under src folder named server.py with the following content:"
   ]
  },
  {
   "cell_type": "code",
   "execution_count": null,
   "metadata": {},
   "outputs": [],
   "source": [
    "\"\"\"\n",
    "#TODO: This cell can be further broken down with details about the \n",
    "import, class and serve construction.\n",
    "\"\"\"\n",
    "\n",
    "from __future__ import print_function\n",
    "\n",
    "import time\n",
    "import grpc\n",
    "\n",
    "from generated import employee_pb2_grpc\n",
    "from concurrent import futures\n",
    "\n",
    "_ONE_DAY_IN_SECONDS = 60 * 60 * 24\n",
    "\n",
    "class EmployeeServicer(employee_pb2_grpc.EmployeeServicer):\n",
    "    def __init__(self):\n",
    "        pass\n",
    "    \n",
    "def serve():\n",
    "    server = grpc.server(futures.ThreadPoolExecutor(max_workers=10))\n",
    "    employee_pb2_grpc.add_EmployeeServicer_to_server(EmployeeServicer(), server)\n",
    "    server.add_insecure_port('[::]:40084')\n",
    "    server.start()\n",
    "    print(\"Employee server running on 40084...\")\n",
    "    try:\n",
    "        while True:\n",
    "            time.sleep(_ONE_DAY_IN_SECONDS)\n",
    "    except:\n",
    "        server.stop(0)\n",
    "\n",
    "if __name__ == '__main__':\n",
    "    serve()"
   ]
  },
  {
   "cell_type": "markdown",
   "metadata": {},
   "source": [
    "Client code is as mentioned below in client.py"
   ]
  },
  {
   "cell_type": "code",
   "execution_count": null,
   "metadata": {},
   "outputs": [],
   "source": [
    "from __future__ import print_function\n",
    "\n",
    "import time\n",
    "import grpc\n",
    "\n",
    "from generated import employee_pb2, employee_pb2_grpc\n",
    "\n",
    "class EmployeeClient(object):\n",
    "    def __init__(self):\n",
    "        pass\n",
    "\n",
    "def run():\n",
    "    channel = grpc.insecure_channel('localhost:40084')\n",
    "    stub = employee_pb2_grpc.EmployeeStub(channel)\n",
    "\n",
    "if __name__ == '__main__':\n",
    "    run()"
   ]
  },
  {
   "cell_type": "markdown",
   "metadata": {},
   "source": [
    "So far we have created server and client file with the basic connection. However, client is not calling anything \n",
    "from server yet. Let's implement that..."
   ]
  },
  {
   "cell_type": "code",
   "execution_count": null,
   "metadata": {},
   "outputs": [],
   "source": [
    "class EmployeeClient(object):\n",
    "    def __init__(self):\n",
    "        pass\n",
    "\n",
    "    def get_employee(self, stub):\n",
    "        read_request = employee_pb2.readRequestPB()\n",
    "        read_request.first_name = \"Pauli\"\n",
    "        return stub.Read(read_request)\n",
    "    \n",
    "def run():\n",
    "    channel = grpc.insecure_channel('localhost:40084')\n",
    "    stub = employee_pb2_grpc.EmployeeStub(channel)\n",
    "\n",
    "    emp_client = EmployeeClient()\n",
    "    print(emp_client.get_employee(stub))"
   ]
  },
  {
   "cell_type": "code",
   "execution_count": null,
   "metadata": {},
   "outputs": [],
   "source": [
    "class EmployeeServicer(employee_pb2_grpc.EmployeeServicer):\n",
    "    def Read(self, request, context):\n",
    "        print(\"Read employee service called...\")\n",
    "        response_list = employee_pb2.readResponseListPB()\n",
    "        return response_list"
   ]
  },
  {
   "cell_type": "markdown",
   "metadata": {},
   "source": [
    "After implementing above methods in client and server, server will return an empty list as response."
   ]
  }
 ],
 "metadata": {
  "kernelspec": {
   "display_name": "Python 2",
   "language": "python",
   "name": "python2"
  },
  "language_info": {
   "codemirror_mode": {
    "name": "ipython",
    "version": 2
   },
   "file_extension": ".py",
   "mimetype": "text/x-python",
   "name": "python",
   "nbconvert_exporter": "python",
   "pygments_lexer": "ipython2",
   "version": "2.7"
  }
 },
 "nbformat": 4,
 "nbformat_minor": 2
}
